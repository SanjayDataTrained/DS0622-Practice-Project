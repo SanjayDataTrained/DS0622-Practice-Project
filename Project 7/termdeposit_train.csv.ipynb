{
 "cells": [
  {
   "cell_type": "code",
   "execution_count": 1,
   "id": "72f4be3a",
   "metadata": {},
   "outputs": [],
   "source": [
    "import pandas as pd\n",
    "import numpy as np\n",
    "import seaborn as sns\n",
    "import warnings\n",
    "warnings.filterwarnings('ignore')"
   ]
  },
  {
   "cell_type": "code",
   "execution_count": 2,
   "id": "82d125ab",
   "metadata": {},
   "outputs": [],
   "source": [
    "df=pd.read_csv(\"termdeposit_train\")"
   ]
  },
  {
   "cell_type": "code",
   "execution_count": 3,
   "id": "5c0a916f",
   "metadata": {},
   "outputs": [
    {
     "data": {
      "text/html": [
       "<div>\n",
       "<style scoped>\n",
       "    .dataframe tbody tr th:only-of-type {\n",
       "        vertical-align: middle;\n",
       "    }\n",
       "\n",
       "    .dataframe tbody tr th {\n",
       "        vertical-align: top;\n",
       "    }\n",
       "\n",
       "    .dataframe thead th {\n",
       "        text-align: right;\n",
       "    }\n",
       "</style>\n",
       "<table border=\"1\" class=\"dataframe\">\n",
       "  <thead>\n",
       "    <tr style=\"text-align: right;\">\n",
       "      <th></th>\n",
       "      <th>ID</th>\n",
       "      <th>age</th>\n",
       "      <th>job</th>\n",
       "      <th>marital</th>\n",
       "      <th>education</th>\n",
       "      <th>default</th>\n",
       "      <th>balance</th>\n",
       "      <th>housing</th>\n",
       "      <th>loan</th>\n",
       "      <th>contact</th>\n",
       "      <th>day</th>\n",
       "      <th>month</th>\n",
       "      <th>duration</th>\n",
       "      <th>campaign</th>\n",
       "      <th>pdays</th>\n",
       "      <th>previous</th>\n",
       "      <th>poutcome</th>\n",
       "      <th>subscribed</th>\n",
       "    </tr>\n",
       "  </thead>\n",
       "  <tbody>\n",
       "    <tr>\n",
       "      <th>0</th>\n",
       "      <td>26110</td>\n",
       "      <td>56</td>\n",
       "      <td>admin.</td>\n",
       "      <td>married</td>\n",
       "      <td>unknown</td>\n",
       "      <td>no</td>\n",
       "      <td>1933</td>\n",
       "      <td>no</td>\n",
       "      <td>no</td>\n",
       "      <td>telephone</td>\n",
       "      <td>19</td>\n",
       "      <td>nov</td>\n",
       "      <td>44</td>\n",
       "      <td>2</td>\n",
       "      <td>-1</td>\n",
       "      <td>0</td>\n",
       "      <td>unknown</td>\n",
       "      <td>no</td>\n",
       "    </tr>\n",
       "    <tr>\n",
       "      <th>1</th>\n",
       "      <td>40576</td>\n",
       "      <td>31</td>\n",
       "      <td>unknown</td>\n",
       "      <td>married</td>\n",
       "      <td>secondary</td>\n",
       "      <td>no</td>\n",
       "      <td>3</td>\n",
       "      <td>no</td>\n",
       "      <td>no</td>\n",
       "      <td>cellular</td>\n",
       "      <td>20</td>\n",
       "      <td>jul</td>\n",
       "      <td>91</td>\n",
       "      <td>2</td>\n",
       "      <td>-1</td>\n",
       "      <td>0</td>\n",
       "      <td>unknown</td>\n",
       "      <td>no</td>\n",
       "    </tr>\n",
       "    <tr>\n",
       "      <th>2</th>\n",
       "      <td>15320</td>\n",
       "      <td>27</td>\n",
       "      <td>services</td>\n",
       "      <td>married</td>\n",
       "      <td>secondary</td>\n",
       "      <td>no</td>\n",
       "      <td>891</td>\n",
       "      <td>yes</td>\n",
       "      <td>no</td>\n",
       "      <td>cellular</td>\n",
       "      <td>18</td>\n",
       "      <td>jul</td>\n",
       "      <td>240</td>\n",
       "      <td>1</td>\n",
       "      <td>-1</td>\n",
       "      <td>0</td>\n",
       "      <td>unknown</td>\n",
       "      <td>no</td>\n",
       "    </tr>\n",
       "    <tr>\n",
       "      <th>3</th>\n",
       "      <td>43962</td>\n",
       "      <td>57</td>\n",
       "      <td>management</td>\n",
       "      <td>divorced</td>\n",
       "      <td>tertiary</td>\n",
       "      <td>no</td>\n",
       "      <td>3287</td>\n",
       "      <td>no</td>\n",
       "      <td>no</td>\n",
       "      <td>cellular</td>\n",
       "      <td>22</td>\n",
       "      <td>jun</td>\n",
       "      <td>867</td>\n",
       "      <td>1</td>\n",
       "      <td>84</td>\n",
       "      <td>3</td>\n",
       "      <td>success</td>\n",
       "      <td>yes</td>\n",
       "    </tr>\n",
       "    <tr>\n",
       "      <th>4</th>\n",
       "      <td>29842</td>\n",
       "      <td>31</td>\n",
       "      <td>technician</td>\n",
       "      <td>married</td>\n",
       "      <td>secondary</td>\n",
       "      <td>no</td>\n",
       "      <td>119</td>\n",
       "      <td>yes</td>\n",
       "      <td>no</td>\n",
       "      <td>cellular</td>\n",
       "      <td>4</td>\n",
       "      <td>feb</td>\n",
       "      <td>380</td>\n",
       "      <td>1</td>\n",
       "      <td>-1</td>\n",
       "      <td>0</td>\n",
       "      <td>unknown</td>\n",
       "      <td>no</td>\n",
       "    </tr>\n",
       "    <tr>\n",
       "      <th>...</th>\n",
       "      <td>...</td>\n",
       "      <td>...</td>\n",
       "      <td>...</td>\n",
       "      <td>...</td>\n",
       "      <td>...</td>\n",
       "      <td>...</td>\n",
       "      <td>...</td>\n",
       "      <td>...</td>\n",
       "      <td>...</td>\n",
       "      <td>...</td>\n",
       "      <td>...</td>\n",
       "      <td>...</td>\n",
       "      <td>...</td>\n",
       "      <td>...</td>\n",
       "      <td>...</td>\n",
       "      <td>...</td>\n",
       "      <td>...</td>\n",
       "      <td>...</td>\n",
       "    </tr>\n",
       "    <tr>\n",
       "      <th>31642</th>\n",
       "      <td>36483</td>\n",
       "      <td>29</td>\n",
       "      <td>management</td>\n",
       "      <td>single</td>\n",
       "      <td>tertiary</td>\n",
       "      <td>no</td>\n",
       "      <td>0</td>\n",
       "      <td>yes</td>\n",
       "      <td>no</td>\n",
       "      <td>cellular</td>\n",
       "      <td>12</td>\n",
       "      <td>may</td>\n",
       "      <td>116</td>\n",
       "      <td>2</td>\n",
       "      <td>-1</td>\n",
       "      <td>0</td>\n",
       "      <td>unknown</td>\n",
       "      <td>no</td>\n",
       "    </tr>\n",
       "    <tr>\n",
       "      <th>31643</th>\n",
       "      <td>40178</td>\n",
       "      <td>53</td>\n",
       "      <td>management</td>\n",
       "      <td>divorced</td>\n",
       "      <td>tertiary</td>\n",
       "      <td>no</td>\n",
       "      <td>380</td>\n",
       "      <td>no</td>\n",
       "      <td>yes</td>\n",
       "      <td>cellular</td>\n",
       "      <td>5</td>\n",
       "      <td>jun</td>\n",
       "      <td>438</td>\n",
       "      <td>2</td>\n",
       "      <td>-1</td>\n",
       "      <td>0</td>\n",
       "      <td>unknown</td>\n",
       "      <td>yes</td>\n",
       "    </tr>\n",
       "    <tr>\n",
       "      <th>31644</th>\n",
       "      <td>19710</td>\n",
       "      <td>32</td>\n",
       "      <td>management</td>\n",
       "      <td>single</td>\n",
       "      <td>tertiary</td>\n",
       "      <td>no</td>\n",
       "      <td>312</td>\n",
       "      <td>no</td>\n",
       "      <td>no</td>\n",
       "      <td>cellular</td>\n",
       "      <td>7</td>\n",
       "      <td>aug</td>\n",
       "      <td>37</td>\n",
       "      <td>3</td>\n",
       "      <td>-1</td>\n",
       "      <td>0</td>\n",
       "      <td>unknown</td>\n",
       "      <td>no</td>\n",
       "    </tr>\n",
       "    <tr>\n",
       "      <th>31645</th>\n",
       "      <td>38556</td>\n",
       "      <td>57</td>\n",
       "      <td>technician</td>\n",
       "      <td>married</td>\n",
       "      <td>secondary</td>\n",
       "      <td>no</td>\n",
       "      <td>225</td>\n",
       "      <td>yes</td>\n",
       "      <td>no</td>\n",
       "      <td>telephone</td>\n",
       "      <td>15</td>\n",
       "      <td>may</td>\n",
       "      <td>22</td>\n",
       "      <td>7</td>\n",
       "      <td>337</td>\n",
       "      <td>12</td>\n",
       "      <td>failure</td>\n",
       "      <td>no</td>\n",
       "    </tr>\n",
       "    <tr>\n",
       "      <th>31646</th>\n",
       "      <td>14156</td>\n",
       "      <td>55</td>\n",
       "      <td>management</td>\n",
       "      <td>divorced</td>\n",
       "      <td>secondary</td>\n",
       "      <td>no</td>\n",
       "      <td>204</td>\n",
       "      <td>yes</td>\n",
       "      <td>no</td>\n",
       "      <td>cellular</td>\n",
       "      <td>11</td>\n",
       "      <td>jul</td>\n",
       "      <td>1973</td>\n",
       "      <td>2</td>\n",
       "      <td>-1</td>\n",
       "      <td>0</td>\n",
       "      <td>unknown</td>\n",
       "      <td>yes</td>\n",
       "    </tr>\n",
       "  </tbody>\n",
       "</table>\n",
       "<p>31647 rows × 18 columns</p>\n",
       "</div>"
      ],
      "text/plain": [
       "          ID  age         job   marital  education default  balance housing  \\\n",
       "0      26110   56      admin.   married    unknown      no     1933      no   \n",
       "1      40576   31     unknown   married  secondary      no        3      no   \n",
       "2      15320   27    services   married  secondary      no      891     yes   \n",
       "3      43962   57  management  divorced   tertiary      no     3287      no   \n",
       "4      29842   31  technician   married  secondary      no      119     yes   \n",
       "...      ...  ...         ...       ...        ...     ...      ...     ...   \n",
       "31642  36483   29  management    single   tertiary      no        0     yes   \n",
       "31643  40178   53  management  divorced   tertiary      no      380      no   \n",
       "31644  19710   32  management    single   tertiary      no      312      no   \n",
       "31645  38556   57  technician   married  secondary      no      225     yes   \n",
       "31646  14156   55  management  divorced  secondary      no      204     yes   \n",
       "\n",
       "      loan    contact  day month  duration  campaign  pdays  previous  \\\n",
       "0       no  telephone   19   nov        44         2     -1         0   \n",
       "1       no   cellular   20   jul        91         2     -1         0   \n",
       "2       no   cellular   18   jul       240         1     -1         0   \n",
       "3       no   cellular   22   jun       867         1     84         3   \n",
       "4       no   cellular    4   feb       380         1     -1         0   \n",
       "...    ...        ...  ...   ...       ...       ...    ...       ...   \n",
       "31642   no   cellular   12   may       116         2     -1         0   \n",
       "31643  yes   cellular    5   jun       438         2     -1         0   \n",
       "31644   no   cellular    7   aug        37         3     -1         0   \n",
       "31645   no  telephone   15   may        22         7    337        12   \n",
       "31646   no   cellular   11   jul      1973         2     -1         0   \n",
       "\n",
       "      poutcome subscribed  \n",
       "0      unknown         no  \n",
       "1      unknown         no  \n",
       "2      unknown         no  \n",
       "3      success        yes  \n",
       "4      unknown         no  \n",
       "...        ...        ...  \n",
       "31642  unknown         no  \n",
       "31643  unknown        yes  \n",
       "31644  unknown         no  \n",
       "31645  failure         no  \n",
       "31646  unknown        yes  \n",
       "\n",
       "[31647 rows x 18 columns]"
      ]
     },
     "execution_count": 3,
     "metadata": {},
     "output_type": "execute_result"
    }
   ],
   "source": [
    "df"
   ]
  },
  {
   "cell_type": "code",
   "execution_count": 4,
   "id": "d02f626b",
   "metadata": {},
   "outputs": [
    {
     "data": {
      "text/html": [
       "<div>\n",
       "<style scoped>\n",
       "    .dataframe tbody tr th:only-of-type {\n",
       "        vertical-align: middle;\n",
       "    }\n",
       "\n",
       "    .dataframe tbody tr th {\n",
       "        vertical-align: top;\n",
       "    }\n",
       "\n",
       "    .dataframe thead th {\n",
       "        text-align: right;\n",
       "    }\n",
       "</style>\n",
       "<table border=\"1\" class=\"dataframe\">\n",
       "  <thead>\n",
       "    <tr style=\"text-align: right;\">\n",
       "      <th></th>\n",
       "      <th>ID</th>\n",
       "      <th>age</th>\n",
       "      <th>job</th>\n",
       "      <th>marital</th>\n",
       "      <th>education</th>\n",
       "      <th>default</th>\n",
       "      <th>balance</th>\n",
       "      <th>housing</th>\n",
       "      <th>loan</th>\n",
       "      <th>contact</th>\n",
       "      <th>day</th>\n",
       "      <th>month</th>\n",
       "      <th>duration</th>\n",
       "      <th>campaign</th>\n",
       "      <th>pdays</th>\n",
       "      <th>previous</th>\n",
       "      <th>poutcome</th>\n",
       "      <th>subscribed</th>\n",
       "    </tr>\n",
       "  </thead>\n",
       "  <tbody>\n",
       "    <tr>\n",
       "      <th>0</th>\n",
       "      <td>26110</td>\n",
       "      <td>56</td>\n",
       "      <td>admin.</td>\n",
       "      <td>married</td>\n",
       "      <td>unknown</td>\n",
       "      <td>no</td>\n",
       "      <td>1933</td>\n",
       "      <td>no</td>\n",
       "      <td>no</td>\n",
       "      <td>telephone</td>\n",
       "      <td>19</td>\n",
       "      <td>nov</td>\n",
       "      <td>44</td>\n",
       "      <td>2</td>\n",
       "      <td>-1</td>\n",
       "      <td>0</td>\n",
       "      <td>unknown</td>\n",
       "      <td>no</td>\n",
       "    </tr>\n",
       "    <tr>\n",
       "      <th>1</th>\n",
       "      <td>40576</td>\n",
       "      <td>31</td>\n",
       "      <td>unknown</td>\n",
       "      <td>married</td>\n",
       "      <td>secondary</td>\n",
       "      <td>no</td>\n",
       "      <td>3</td>\n",
       "      <td>no</td>\n",
       "      <td>no</td>\n",
       "      <td>cellular</td>\n",
       "      <td>20</td>\n",
       "      <td>jul</td>\n",
       "      <td>91</td>\n",
       "      <td>2</td>\n",
       "      <td>-1</td>\n",
       "      <td>0</td>\n",
       "      <td>unknown</td>\n",
       "      <td>no</td>\n",
       "    </tr>\n",
       "    <tr>\n",
       "      <th>2</th>\n",
       "      <td>15320</td>\n",
       "      <td>27</td>\n",
       "      <td>services</td>\n",
       "      <td>married</td>\n",
       "      <td>secondary</td>\n",
       "      <td>no</td>\n",
       "      <td>891</td>\n",
       "      <td>yes</td>\n",
       "      <td>no</td>\n",
       "      <td>cellular</td>\n",
       "      <td>18</td>\n",
       "      <td>jul</td>\n",
       "      <td>240</td>\n",
       "      <td>1</td>\n",
       "      <td>-1</td>\n",
       "      <td>0</td>\n",
       "      <td>unknown</td>\n",
       "      <td>no</td>\n",
       "    </tr>\n",
       "    <tr>\n",
       "      <th>3</th>\n",
       "      <td>43962</td>\n",
       "      <td>57</td>\n",
       "      <td>management</td>\n",
       "      <td>divorced</td>\n",
       "      <td>tertiary</td>\n",
       "      <td>no</td>\n",
       "      <td>3287</td>\n",
       "      <td>no</td>\n",
       "      <td>no</td>\n",
       "      <td>cellular</td>\n",
       "      <td>22</td>\n",
       "      <td>jun</td>\n",
       "      <td>867</td>\n",
       "      <td>1</td>\n",
       "      <td>84</td>\n",
       "      <td>3</td>\n",
       "      <td>success</td>\n",
       "      <td>yes</td>\n",
       "    </tr>\n",
       "    <tr>\n",
       "      <th>4</th>\n",
       "      <td>29842</td>\n",
       "      <td>31</td>\n",
       "      <td>technician</td>\n",
       "      <td>married</td>\n",
       "      <td>secondary</td>\n",
       "      <td>no</td>\n",
       "      <td>119</td>\n",
       "      <td>yes</td>\n",
       "      <td>no</td>\n",
       "      <td>cellular</td>\n",
       "      <td>4</td>\n",
       "      <td>feb</td>\n",
       "      <td>380</td>\n",
       "      <td>1</td>\n",
       "      <td>-1</td>\n",
       "      <td>0</td>\n",
       "      <td>unknown</td>\n",
       "      <td>no</td>\n",
       "    </tr>\n",
       "  </tbody>\n",
       "</table>\n",
       "</div>"
      ],
      "text/plain": [
       "      ID  age         job   marital  education default  balance housing loan  \\\n",
       "0  26110   56      admin.   married    unknown      no     1933      no   no   \n",
       "1  40576   31     unknown   married  secondary      no        3      no   no   \n",
       "2  15320   27    services   married  secondary      no      891     yes   no   \n",
       "3  43962   57  management  divorced   tertiary      no     3287      no   no   \n",
       "4  29842   31  technician   married  secondary      no      119     yes   no   \n",
       "\n",
       "     contact  day month  duration  campaign  pdays  previous poutcome  \\\n",
       "0  telephone   19   nov        44         2     -1         0  unknown   \n",
       "1   cellular   20   jul        91         2     -1         0  unknown   \n",
       "2   cellular   18   jul       240         1     -1         0  unknown   \n",
       "3   cellular   22   jun       867         1     84         3  success   \n",
       "4   cellular    4   feb       380         1     -1         0  unknown   \n",
       "\n",
       "  subscribed  \n",
       "0         no  \n",
       "1         no  \n",
       "2         no  \n",
       "3        yes  \n",
       "4         no  "
      ]
     },
     "execution_count": 4,
     "metadata": {},
     "output_type": "execute_result"
    }
   ],
   "source": [
    "df.head()"
   ]
  },
  {
   "cell_type": "code",
   "execution_count": 5,
   "id": "d9ddf891",
   "metadata": {},
   "outputs": [
    {
     "data": {
      "text/html": [
       "<div>\n",
       "<style scoped>\n",
       "    .dataframe tbody tr th:only-of-type {\n",
       "        vertical-align: middle;\n",
       "    }\n",
       "\n",
       "    .dataframe tbody tr th {\n",
       "        vertical-align: top;\n",
       "    }\n",
       "\n",
       "    .dataframe thead th {\n",
       "        text-align: right;\n",
       "    }\n",
       "</style>\n",
       "<table border=\"1\" class=\"dataframe\">\n",
       "  <thead>\n",
       "    <tr style=\"text-align: right;\">\n",
       "      <th></th>\n",
       "      <th>ID</th>\n",
       "      <th>age</th>\n",
       "      <th>job</th>\n",
       "      <th>marital</th>\n",
       "      <th>education</th>\n",
       "      <th>default</th>\n",
       "      <th>balance</th>\n",
       "      <th>housing</th>\n",
       "      <th>loan</th>\n",
       "      <th>contact</th>\n",
       "      <th>day</th>\n",
       "      <th>month</th>\n",
       "      <th>duration</th>\n",
       "      <th>campaign</th>\n",
       "      <th>pdays</th>\n",
       "      <th>previous</th>\n",
       "      <th>poutcome</th>\n",
       "      <th>subscribed</th>\n",
       "    </tr>\n",
       "  </thead>\n",
       "  <tbody>\n",
       "    <tr>\n",
       "      <th>31642</th>\n",
       "      <td>36483</td>\n",
       "      <td>29</td>\n",
       "      <td>management</td>\n",
       "      <td>single</td>\n",
       "      <td>tertiary</td>\n",
       "      <td>no</td>\n",
       "      <td>0</td>\n",
       "      <td>yes</td>\n",
       "      <td>no</td>\n",
       "      <td>cellular</td>\n",
       "      <td>12</td>\n",
       "      <td>may</td>\n",
       "      <td>116</td>\n",
       "      <td>2</td>\n",
       "      <td>-1</td>\n",
       "      <td>0</td>\n",
       "      <td>unknown</td>\n",
       "      <td>no</td>\n",
       "    </tr>\n",
       "    <tr>\n",
       "      <th>31643</th>\n",
       "      <td>40178</td>\n",
       "      <td>53</td>\n",
       "      <td>management</td>\n",
       "      <td>divorced</td>\n",
       "      <td>tertiary</td>\n",
       "      <td>no</td>\n",
       "      <td>380</td>\n",
       "      <td>no</td>\n",
       "      <td>yes</td>\n",
       "      <td>cellular</td>\n",
       "      <td>5</td>\n",
       "      <td>jun</td>\n",
       "      <td>438</td>\n",
       "      <td>2</td>\n",
       "      <td>-1</td>\n",
       "      <td>0</td>\n",
       "      <td>unknown</td>\n",
       "      <td>yes</td>\n",
       "    </tr>\n",
       "    <tr>\n",
       "      <th>31644</th>\n",
       "      <td>19710</td>\n",
       "      <td>32</td>\n",
       "      <td>management</td>\n",
       "      <td>single</td>\n",
       "      <td>tertiary</td>\n",
       "      <td>no</td>\n",
       "      <td>312</td>\n",
       "      <td>no</td>\n",
       "      <td>no</td>\n",
       "      <td>cellular</td>\n",
       "      <td>7</td>\n",
       "      <td>aug</td>\n",
       "      <td>37</td>\n",
       "      <td>3</td>\n",
       "      <td>-1</td>\n",
       "      <td>0</td>\n",
       "      <td>unknown</td>\n",
       "      <td>no</td>\n",
       "    </tr>\n",
       "    <tr>\n",
       "      <th>31645</th>\n",
       "      <td>38556</td>\n",
       "      <td>57</td>\n",
       "      <td>technician</td>\n",
       "      <td>married</td>\n",
       "      <td>secondary</td>\n",
       "      <td>no</td>\n",
       "      <td>225</td>\n",
       "      <td>yes</td>\n",
       "      <td>no</td>\n",
       "      <td>telephone</td>\n",
       "      <td>15</td>\n",
       "      <td>may</td>\n",
       "      <td>22</td>\n",
       "      <td>7</td>\n",
       "      <td>337</td>\n",
       "      <td>12</td>\n",
       "      <td>failure</td>\n",
       "      <td>no</td>\n",
       "    </tr>\n",
       "    <tr>\n",
       "      <th>31646</th>\n",
       "      <td>14156</td>\n",
       "      <td>55</td>\n",
       "      <td>management</td>\n",
       "      <td>divorced</td>\n",
       "      <td>secondary</td>\n",
       "      <td>no</td>\n",
       "      <td>204</td>\n",
       "      <td>yes</td>\n",
       "      <td>no</td>\n",
       "      <td>cellular</td>\n",
       "      <td>11</td>\n",
       "      <td>jul</td>\n",
       "      <td>1973</td>\n",
       "      <td>2</td>\n",
       "      <td>-1</td>\n",
       "      <td>0</td>\n",
       "      <td>unknown</td>\n",
       "      <td>yes</td>\n",
       "    </tr>\n",
       "  </tbody>\n",
       "</table>\n",
       "</div>"
      ],
      "text/plain": [
       "          ID  age         job   marital  education default  balance housing  \\\n",
       "31642  36483   29  management    single   tertiary      no        0     yes   \n",
       "31643  40178   53  management  divorced   tertiary      no      380      no   \n",
       "31644  19710   32  management    single   tertiary      no      312      no   \n",
       "31645  38556   57  technician   married  secondary      no      225     yes   \n",
       "31646  14156   55  management  divorced  secondary      no      204     yes   \n",
       "\n",
       "      loan    contact  day month  duration  campaign  pdays  previous  \\\n",
       "31642   no   cellular   12   may       116         2     -1         0   \n",
       "31643  yes   cellular    5   jun       438         2     -1         0   \n",
       "31644   no   cellular    7   aug        37         3     -1         0   \n",
       "31645   no  telephone   15   may        22         7    337        12   \n",
       "31646   no   cellular   11   jul      1973         2     -1         0   \n",
       "\n",
       "      poutcome subscribed  \n",
       "31642  unknown         no  \n",
       "31643  unknown        yes  \n",
       "31644  unknown         no  \n",
       "31645  failure         no  \n",
       "31646  unknown        yes  "
      ]
     },
     "execution_count": 5,
     "metadata": {},
     "output_type": "execute_result"
    }
   ],
   "source": [
    "df.tail()"
   ]
  },
  {
   "cell_type": "code",
   "execution_count": 6,
   "id": "07df0bb0",
   "metadata": {},
   "outputs": [
    {
     "data": {
      "text/plain": [
       "(31647, 18)"
      ]
     },
     "execution_count": 6,
     "metadata": {},
     "output_type": "execute_result"
    }
   ],
   "source": [
    "df.shape               #Cheking the data dimension"
   ]
  },
  {
   "cell_type": "code",
   "execution_count": 7,
   "id": "25ce3d11",
   "metadata": {},
   "outputs": [
    {
     "data": {
      "text/plain": [
       "Index(['ID', 'age', 'job', 'marital', 'education', 'default', 'balance',\n",
       "       'housing', 'loan', 'contact', 'day', 'month', 'duration', 'campaign',\n",
       "       'pdays', 'previous', 'poutcome', 'subscribed'],\n",
       "      dtype='object')"
      ]
     },
     "execution_count": 7,
     "metadata": {},
     "output_type": "execute_result"
    }
   ],
   "source": [
    "df.columns "
   ]
  },
  {
   "cell_type": "code",
   "execution_count": 8,
   "id": "abf26c3d",
   "metadata": {},
   "outputs": [],
   "source": [
    "pd.set_option('display.max_rows',10)   #This code will display all the rows in output"
   ]
  },
  {
   "cell_type": "code",
   "execution_count": 9,
   "id": "d25abaa1",
   "metadata": {},
   "outputs": [
    {
     "data": {
      "text/html": [
       "<div>\n",
       "<style scoped>\n",
       "    .dataframe tbody tr th:only-of-type {\n",
       "        vertical-align: middle;\n",
       "    }\n",
       "\n",
       "    .dataframe tbody tr th {\n",
       "        vertical-align: top;\n",
       "    }\n",
       "\n",
       "    .dataframe thead th {\n",
       "        text-align: right;\n",
       "    }\n",
       "</style>\n",
       "<table border=\"1\" class=\"dataframe\">\n",
       "  <thead>\n",
       "    <tr style=\"text-align: right;\">\n",
       "      <th></th>\n",
       "      <th>ID</th>\n",
       "      <th>age</th>\n",
       "      <th>job</th>\n",
       "      <th>marital</th>\n",
       "      <th>education</th>\n",
       "      <th>default</th>\n",
       "      <th>balance</th>\n",
       "      <th>housing</th>\n",
       "      <th>loan</th>\n",
       "      <th>contact</th>\n",
       "      <th>day</th>\n",
       "      <th>month</th>\n",
       "      <th>duration</th>\n",
       "      <th>campaign</th>\n",
       "      <th>pdays</th>\n",
       "      <th>previous</th>\n",
       "      <th>poutcome</th>\n",
       "      <th>subscribed</th>\n",
       "    </tr>\n",
       "  </thead>\n",
       "  <tbody>\n",
       "    <tr>\n",
       "      <th>0</th>\n",
       "      <td>26110</td>\n",
       "      <td>56</td>\n",
       "      <td>admin.</td>\n",
       "      <td>married</td>\n",
       "      <td>unknown</td>\n",
       "      <td>no</td>\n",
       "      <td>1933</td>\n",
       "      <td>no</td>\n",
       "      <td>no</td>\n",
       "      <td>telephone</td>\n",
       "      <td>19</td>\n",
       "      <td>nov</td>\n",
       "      <td>44</td>\n",
       "      <td>2</td>\n",
       "      <td>-1</td>\n",
       "      <td>0</td>\n",
       "      <td>unknown</td>\n",
       "      <td>no</td>\n",
       "    </tr>\n",
       "    <tr>\n",
       "      <th>1</th>\n",
       "      <td>40576</td>\n",
       "      <td>31</td>\n",
       "      <td>unknown</td>\n",
       "      <td>married</td>\n",
       "      <td>secondary</td>\n",
       "      <td>no</td>\n",
       "      <td>3</td>\n",
       "      <td>no</td>\n",
       "      <td>no</td>\n",
       "      <td>cellular</td>\n",
       "      <td>20</td>\n",
       "      <td>jul</td>\n",
       "      <td>91</td>\n",
       "      <td>2</td>\n",
       "      <td>-1</td>\n",
       "      <td>0</td>\n",
       "      <td>unknown</td>\n",
       "      <td>no</td>\n",
       "    </tr>\n",
       "    <tr>\n",
       "      <th>2</th>\n",
       "      <td>15320</td>\n",
       "      <td>27</td>\n",
       "      <td>services</td>\n",
       "      <td>married</td>\n",
       "      <td>secondary</td>\n",
       "      <td>no</td>\n",
       "      <td>891</td>\n",
       "      <td>yes</td>\n",
       "      <td>no</td>\n",
       "      <td>cellular</td>\n",
       "      <td>18</td>\n",
       "      <td>jul</td>\n",
       "      <td>240</td>\n",
       "      <td>1</td>\n",
       "      <td>-1</td>\n",
       "      <td>0</td>\n",
       "      <td>unknown</td>\n",
       "      <td>no</td>\n",
       "    </tr>\n",
       "    <tr>\n",
       "      <th>3</th>\n",
       "      <td>43962</td>\n",
       "      <td>57</td>\n",
       "      <td>management</td>\n",
       "      <td>divorced</td>\n",
       "      <td>tertiary</td>\n",
       "      <td>no</td>\n",
       "      <td>3287</td>\n",
       "      <td>no</td>\n",
       "      <td>no</td>\n",
       "      <td>cellular</td>\n",
       "      <td>22</td>\n",
       "      <td>jun</td>\n",
       "      <td>867</td>\n",
       "      <td>1</td>\n",
       "      <td>84</td>\n",
       "      <td>3</td>\n",
       "      <td>success</td>\n",
       "      <td>yes</td>\n",
       "    </tr>\n",
       "    <tr>\n",
       "      <th>4</th>\n",
       "      <td>29842</td>\n",
       "      <td>31</td>\n",
       "      <td>technician</td>\n",
       "      <td>married</td>\n",
       "      <td>secondary</td>\n",
       "      <td>no</td>\n",
       "      <td>119</td>\n",
       "      <td>yes</td>\n",
       "      <td>no</td>\n",
       "      <td>cellular</td>\n",
       "      <td>4</td>\n",
       "      <td>feb</td>\n",
       "      <td>380</td>\n",
       "      <td>1</td>\n",
       "      <td>-1</td>\n",
       "      <td>0</td>\n",
       "      <td>unknown</td>\n",
       "      <td>no</td>\n",
       "    </tr>\n",
       "    <tr>\n",
       "      <th>...</th>\n",
       "      <td>...</td>\n",
       "      <td>...</td>\n",
       "      <td>...</td>\n",
       "      <td>...</td>\n",
       "      <td>...</td>\n",
       "      <td>...</td>\n",
       "      <td>...</td>\n",
       "      <td>...</td>\n",
       "      <td>...</td>\n",
       "      <td>...</td>\n",
       "      <td>...</td>\n",
       "      <td>...</td>\n",
       "      <td>...</td>\n",
       "      <td>...</td>\n",
       "      <td>...</td>\n",
       "      <td>...</td>\n",
       "      <td>...</td>\n",
       "      <td>...</td>\n",
       "    </tr>\n",
       "    <tr>\n",
       "      <th>31642</th>\n",
       "      <td>36483</td>\n",
       "      <td>29</td>\n",
       "      <td>management</td>\n",
       "      <td>single</td>\n",
       "      <td>tertiary</td>\n",
       "      <td>no</td>\n",
       "      <td>0</td>\n",
       "      <td>yes</td>\n",
       "      <td>no</td>\n",
       "      <td>cellular</td>\n",
       "      <td>12</td>\n",
       "      <td>may</td>\n",
       "      <td>116</td>\n",
       "      <td>2</td>\n",
       "      <td>-1</td>\n",
       "      <td>0</td>\n",
       "      <td>unknown</td>\n",
       "      <td>no</td>\n",
       "    </tr>\n",
       "    <tr>\n",
       "      <th>31643</th>\n",
       "      <td>40178</td>\n",
       "      <td>53</td>\n",
       "      <td>management</td>\n",
       "      <td>divorced</td>\n",
       "      <td>tertiary</td>\n",
       "      <td>no</td>\n",
       "      <td>380</td>\n",
       "      <td>no</td>\n",
       "      <td>yes</td>\n",
       "      <td>cellular</td>\n",
       "      <td>5</td>\n",
       "      <td>jun</td>\n",
       "      <td>438</td>\n",
       "      <td>2</td>\n",
       "      <td>-1</td>\n",
       "      <td>0</td>\n",
       "      <td>unknown</td>\n",
       "      <td>yes</td>\n",
       "    </tr>\n",
       "    <tr>\n",
       "      <th>31644</th>\n",
       "      <td>19710</td>\n",
       "      <td>32</td>\n",
       "      <td>management</td>\n",
       "      <td>single</td>\n",
       "      <td>tertiary</td>\n",
       "      <td>no</td>\n",
       "      <td>312</td>\n",
       "      <td>no</td>\n",
       "      <td>no</td>\n",
       "      <td>cellular</td>\n",
       "      <td>7</td>\n",
       "      <td>aug</td>\n",
       "      <td>37</td>\n",
       "      <td>3</td>\n",
       "      <td>-1</td>\n",
       "      <td>0</td>\n",
       "      <td>unknown</td>\n",
       "      <td>no</td>\n",
       "    </tr>\n",
       "    <tr>\n",
       "      <th>31645</th>\n",
       "      <td>38556</td>\n",
       "      <td>57</td>\n",
       "      <td>technician</td>\n",
       "      <td>married</td>\n",
       "      <td>secondary</td>\n",
       "      <td>no</td>\n",
       "      <td>225</td>\n",
       "      <td>yes</td>\n",
       "      <td>no</td>\n",
       "      <td>telephone</td>\n",
       "      <td>15</td>\n",
       "      <td>may</td>\n",
       "      <td>22</td>\n",
       "      <td>7</td>\n",
       "      <td>337</td>\n",
       "      <td>12</td>\n",
       "      <td>failure</td>\n",
       "      <td>no</td>\n",
       "    </tr>\n",
       "    <tr>\n",
       "      <th>31646</th>\n",
       "      <td>14156</td>\n",
       "      <td>55</td>\n",
       "      <td>management</td>\n",
       "      <td>divorced</td>\n",
       "      <td>secondary</td>\n",
       "      <td>no</td>\n",
       "      <td>204</td>\n",
       "      <td>yes</td>\n",
       "      <td>no</td>\n",
       "      <td>cellular</td>\n",
       "      <td>11</td>\n",
       "      <td>jul</td>\n",
       "      <td>1973</td>\n",
       "      <td>2</td>\n",
       "      <td>-1</td>\n",
       "      <td>0</td>\n",
       "      <td>unknown</td>\n",
       "      <td>yes</td>\n",
       "    </tr>\n",
       "  </tbody>\n",
       "</table>\n",
       "<p>31647 rows × 18 columns</p>\n",
       "</div>"
      ],
      "text/plain": [
       "          ID  age         job   marital  education default  balance housing  \\\n",
       "0      26110   56      admin.   married    unknown      no     1933      no   \n",
       "1      40576   31     unknown   married  secondary      no        3      no   \n",
       "2      15320   27    services   married  secondary      no      891     yes   \n",
       "3      43962   57  management  divorced   tertiary      no     3287      no   \n",
       "4      29842   31  technician   married  secondary      no      119     yes   \n",
       "...      ...  ...         ...       ...        ...     ...      ...     ...   \n",
       "31642  36483   29  management    single   tertiary      no        0     yes   \n",
       "31643  40178   53  management  divorced   tertiary      no      380      no   \n",
       "31644  19710   32  management    single   tertiary      no      312      no   \n",
       "31645  38556   57  technician   married  secondary      no      225     yes   \n",
       "31646  14156   55  management  divorced  secondary      no      204     yes   \n",
       "\n",
       "      loan    contact  day month  duration  campaign  pdays  previous  \\\n",
       "0       no  telephone   19   nov        44         2     -1         0   \n",
       "1       no   cellular   20   jul        91         2     -1         0   \n",
       "2       no   cellular   18   jul       240         1     -1         0   \n",
       "3       no   cellular   22   jun       867         1     84         3   \n",
       "4       no   cellular    4   feb       380         1     -1         0   \n",
       "...    ...        ...  ...   ...       ...       ...    ...       ...   \n",
       "31642   no   cellular   12   may       116         2     -1         0   \n",
       "31643  yes   cellular    5   jun       438         2     -1         0   \n",
       "31644   no   cellular    7   aug        37         3     -1         0   \n",
       "31645   no  telephone   15   may        22         7    337        12   \n",
       "31646   no   cellular   11   jul      1973         2     -1         0   \n",
       "\n",
       "      poutcome subscribed  \n",
       "0      unknown         no  \n",
       "1      unknown         no  \n",
       "2      unknown         no  \n",
       "3      success        yes  \n",
       "4      unknown         no  \n",
       "...        ...        ...  \n",
       "31642  unknown         no  \n",
       "31643  unknown        yes  \n",
       "31644  unknown         no  \n",
       "31645  failure         no  \n",
       "31646  unknown        yes  \n",
       "\n",
       "[31647 rows x 18 columns]"
      ]
     },
     "execution_count": 9,
     "metadata": {},
     "output_type": "execute_result"
    }
   ],
   "source": [
    "df"
   ]
  },
  {
   "cell_type": "code",
   "execution_count": 10,
   "id": "4d186be6",
   "metadata": {},
   "outputs": [
    {
     "data": {
      "text/plain": [
       "ID             int64\n",
       "age            int64\n",
       "job           object\n",
       "marital       object\n",
       "education     object\n",
       "               ...  \n",
       "campaign       int64\n",
       "pdays          int64\n",
       "previous       int64\n",
       "poutcome      object\n",
       "subscribed    object\n",
       "Length: 18, dtype: object"
      ]
     },
     "execution_count": 10,
     "metadata": {},
     "output_type": "execute_result"
    }
   ],
   "source": [
    "df.dtypes"
   ]
  },
  {
   "cell_type": "code",
   "execution_count": 11,
   "id": "22186057",
   "metadata": {},
   "outputs": [
    {
     "data": {
      "text/plain": [
       "ID            0\n",
       "age           0\n",
       "job           0\n",
       "marital       0\n",
       "education     0\n",
       "             ..\n",
       "campaign      0\n",
       "pdays         0\n",
       "previous      0\n",
       "poutcome      0\n",
       "subscribed    0\n",
       "Length: 18, dtype: int64"
      ]
     },
     "execution_count": 11,
     "metadata": {},
     "output_type": "execute_result"
    }
   ],
   "source": [
    "df.isnull().sum()"
   ]
  },
  {
   "cell_type": "markdown",
   "id": "ba5e315e",
   "metadata": {},
   "source": [
    "So here above we can see that there are no null values are present in the data set."
   ]
  },
  {
   "cell_type": "markdown",
   "id": "94b07090",
   "metadata": {},
   "source": [
    "# Visualization of the Data:"
   ]
  },
  {
   "cell_type": "code",
   "execution_count": 12,
   "id": "7381b50e",
   "metadata": {},
   "outputs": [],
   "source": [
    "df_visualization_nominal=df[['default','housing','loan','subscribed']]"
   ]
  },
  {
   "cell_type": "code",
   "execution_count": 13,
   "id": "f4a4957b",
   "metadata": {},
   "outputs": [
    {
     "data": {
      "text/plain": [
       "Index(['default', 'housing', 'loan', 'subscribed'], dtype='object')"
      ]
     },
     "execution_count": 13,
     "metadata": {},
     "output_type": "execute_result"
    }
   ],
   "source": [
    "df_visualization_nominal.columns"
   ]
  },
  {
   "cell_type": "markdown",
   "id": "e657cc7c",
   "metadata": {},
   "source": [
    "For the nominal categorical data we will use countplot as it will give the frequency of the classes of the column"
   ]
  },
  {
   "cell_type": "code",
   "execution_count": 14,
   "id": "de19570c",
   "metadata": {},
   "outputs": [
    {
     "name": "stdout",
     "output_type": "stream",
     "text": [
      "no     31062\n",
      "yes      585\n",
      "Name: default, dtype: int64\n"
     ]
    },
    {
     "data": {
      "image/png": "[encoded data removed]",
      "text/plain": [
       "<Figure size 432x288 with 1 Axes>"
      ]
     },
     "metadata": {
      "needs_background": "light"
     },
     "output_type": "display_data"
    }
   ],
   "source": [
    "ax= sns.countplot(x=\"default\",data=df_visualization_nominal)\n",
    "print(df_visualization_nominal[\"default\"].value_counts())"
   ]
  },
  {
   "cell_type": "code",
   "execution_count": 15,
   "id": "6156ec4c",
   "metadata": {},
   "outputs": [
    {
     "name": "stdout",
     "output_type": "stream",
     "text": [
      "yes    17584\n",
      "no     14063\n",
      "Name: housing, dtype: int64\n"
     ]
    },
    {
     "data": {
      "image/png": "[encoded data removed]",
      "text/plain": [
       "<Figure size 432x288 with 1 Axes>"
      ]
     },
     "metadata": {
      "needs_background": "light"
     },
     "output_type": "display_data"
    }
   ],
   "source": [
    "ax= sns.countplot(x=\"housing\",data=df_visualization_nominal)\n",
    "print(df_visualization_nominal[\"housing\"].value_counts())"
   ]
  },
  {
   "cell_type": "code",
   "execution_count": 16,
   "id": "b908e13d",
   "metadata": {},
   "outputs": [
    {
     "name": "stdout",
     "output_type": "stream",
     "text": [
      "no     26516\n",
      "yes     5131\n",
      "Name: loan, dtype: int64\n"
     ]
    },
    {
     "data": {
      "image/png": "[encoded data removed]",
      "text/plain": [
       "<Figure size 432x288 with 1 Axes>"
      ]
     },
     "metadata": {
      "needs_background": "light"
     },
     "output_type": "display_data"
    }
   ],
   "source": [
    "ax= sns.countplot(x=\"loan\",data=df_visualization_nominal)\n",
    "print(df_visualization_nominal[\"loan\"].value_counts())"
   ]
  },
  {
   "cell_type": "code",
   "execution_count": 17,
   "id": "42b0d05a",
   "metadata": {},
   "outputs": [
    {
     "name": "stdout",
     "output_type": "stream",
     "text": [
      "no     27932\n",
      "yes     3715\n",
      "Name: subscribed, dtype: int64\n"
     ]
    },
    {
     "data": {
      "image/png": "[encoded data removed]",
      "text/plain": [
       "<Figure size 432x288 with 1 Axes>"
      ]
     },
     "metadata": {
      "needs_background": "light"
     },
     "output_type": "display_data"
    }
   ],
   "source": [
    "ax= sns.countplot(x=\"subscribed\",data=df_visualization_nominal)\n",
    "print(df_visualization_nominal[\"subscribed\"].value_counts())"
   ]
  },
  {
   "cell_type": "code",
   "execution_count": 18,
   "id": "d46f6c6c",
   "metadata": {},
   "outputs": [],
   "source": [
    "from sklearn.preprocessing import OrdinalEncoder\n",
    "enc=OrdinalEncoder()"
   ]
  },
  {
   "cell_type": "code",
   "execution_count": 19,
   "id": "f904c99e",
   "metadata": {},
   "outputs": [],
   "source": [
    "for i in df.columns:\n",
    "    if df[i].dtypes==\"object\":\n",
    "        df[i]=enc.fit_transform(df[i].values.reshape(-1,1))"
   ]
  },
  {
   "cell_type": "code",
   "execution_count": 20,
   "id": "635df36e",
   "metadata": {},
   "outputs": [
    {
     "data": {
      "text/html": [
       "<div>\n",
       "<style scoped>\n",
       "    .dataframe tbody tr th:only-of-type {\n",
       "        vertical-align: middle;\n",
       "    }\n",
       "\n",
       "    .dataframe tbody tr th {\n",
       "        vertical-align: top;\n",
       "    }\n",
       "\n",
       "    .dataframe thead th {\n",
       "        text-align: right;\n",
       "    }\n",
       "</style>\n",
       "<table border=\"1\" class=\"dataframe\">\n",
       "  <thead>\n",
       "    <tr style=\"text-align: right;\">\n",
       "      <th></th>\n",
       "      <th>ID</th>\n",
       "      <th>age</th>\n",
       "      <th>job</th>\n",
       "      <th>marital</th>\n",
       "      <th>education</th>\n",
       "      <th>default</th>\n",
       "      <th>balance</th>\n",
       "      <th>housing</th>\n",
       "      <th>loan</th>\n",
       "      <th>contact</th>\n",
       "      <th>day</th>\n",
       "      <th>month</th>\n",
       "      <th>duration</th>\n",
       "      <th>campaign</th>\n",
       "      <th>pdays</th>\n",
       "      <th>previous</th>\n",
       "      <th>poutcome</th>\n",
       "      <th>subscribed</th>\n",
       "    </tr>\n",
       "  </thead>\n",
       "  <tbody>\n",
       "    <tr>\n",
       "      <th>0</th>\n",
       "      <td>26110</td>\n",
       "      <td>56</td>\n",
       "      <td>0.0</td>\n",
       "      <td>1.0</td>\n",
       "      <td>3.0</td>\n",
       "      <td>0.0</td>\n",
       "      <td>1933</td>\n",
       "      <td>0.0</td>\n",
       "      <td>0.0</td>\n",
       "      <td>1.0</td>\n",
       "      <td>19</td>\n",
       "      <td>9.0</td>\n",
       "      <td>44</td>\n",
       "      <td>2</td>\n",
       "      <td>-1</td>\n",
       "      <td>0</td>\n",
       "      <td>3.0</td>\n",
       "      <td>0.0</td>\n",
       "    </tr>\n",
       "    <tr>\n",
       "      <th>1</th>\n",
       "      <td>40576</td>\n",
       "      <td>31</td>\n",
       "      <td>11.0</td>\n",
       "      <td>1.0</td>\n",
       "      <td>1.0</td>\n",
       "      <td>0.0</td>\n",
       "      <td>3</td>\n",
       "      <td>0.0</td>\n",
       "      <td>0.0</td>\n",
       "      <td>0.0</td>\n",
       "      <td>20</td>\n",
       "      <td>5.0</td>\n",
       "      <td>91</td>\n",
       "      <td>2</td>\n",
       "      <td>-1</td>\n",
       "      <td>0</td>\n",
       "      <td>3.0</td>\n",
       "      <td>0.0</td>\n",
       "    </tr>\n",
       "    <tr>\n",
       "      <th>2</th>\n",
       "      <td>15320</td>\n",
       "      <td>27</td>\n",
       "      <td>7.0</td>\n",
       "      <td>1.0</td>\n",
       "      <td>1.0</td>\n",
       "      <td>0.0</td>\n",
       "      <td>891</td>\n",
       "      <td>1.0</td>\n",
       "      <td>0.0</td>\n",
       "      <td>0.0</td>\n",
       "      <td>18</td>\n",
       "      <td>5.0</td>\n",
       "      <td>240</td>\n",
       "      <td>1</td>\n",
       "      <td>-1</td>\n",
       "      <td>0</td>\n",
       "      <td>3.0</td>\n",
       "      <td>0.0</td>\n",
       "    </tr>\n",
       "    <tr>\n",
       "      <th>3</th>\n",
       "      <td>43962</td>\n",
       "      <td>57</td>\n",
       "      <td>4.0</td>\n",
       "      <td>0.0</td>\n",
       "      <td>2.0</td>\n",
       "      <td>0.0</td>\n",
       "      <td>3287</td>\n",
       "      <td>0.0</td>\n",
       "      <td>0.0</td>\n",
       "      <td>0.0</td>\n",
       "      <td>22</td>\n",
       "      <td>6.0</td>\n",
       "      <td>867</td>\n",
       "      <td>1</td>\n",
       "      <td>84</td>\n",
       "      <td>3</td>\n",
       "      <td>2.0</td>\n",
       "      <td>1.0</td>\n",
       "    </tr>\n",
       "    <tr>\n",
       "      <th>4</th>\n",
       "      <td>29842</td>\n",
       "      <td>31</td>\n",
       "      <td>9.0</td>\n",
       "      <td>1.0</td>\n",
       "      <td>1.0</td>\n",
       "      <td>0.0</td>\n",
       "      <td>119</td>\n",
       "      <td>1.0</td>\n",
       "      <td>0.0</td>\n",
       "      <td>0.0</td>\n",
       "      <td>4</td>\n",
       "      <td>3.0</td>\n",
       "      <td>380</td>\n",
       "      <td>1</td>\n",
       "      <td>-1</td>\n",
       "      <td>0</td>\n",
       "      <td>3.0</td>\n",
       "      <td>0.0</td>\n",
       "    </tr>\n",
       "    <tr>\n",
       "      <th>...</th>\n",
       "      <td>...</td>\n",
       "      <td>...</td>\n",
       "      <td>...</td>\n",
       "      <td>...</td>\n",
       "      <td>...</td>\n",
       "      <td>...</td>\n",
       "      <td>...</td>\n",
       "      <td>...</td>\n",
       "      <td>...</td>\n",
       "      <td>...</td>\n",
       "      <td>...</td>\n",
       "      <td>...</td>\n",
       "      <td>...</td>\n",
       "      <td>...</td>\n",
       "      <td>...</td>\n",
       "      <td>...</td>\n",
       "      <td>...</td>\n",
       "      <td>...</td>\n",
       "    </tr>\n",
       "    <tr>\n",
       "      <th>31642</th>\n",
       "      <td>36483</td>\n",
       "      <td>29</td>\n",
       "      <td>4.0</td>\n",
       "      <td>2.0</td>\n",
       "      <td>2.0</td>\n",
       "      <td>0.0</td>\n",
       "      <td>0</td>\n",
       "      <td>1.0</td>\n",
       "      <td>0.0</td>\n",
       "      <td>0.0</td>\n",
       "      <td>12</td>\n",
       "      <td>8.0</td>\n",
       "      <td>116</td>\n",
       "      <td>2</td>\n",
       "      <td>-1</td>\n",
       "      <td>0</td>\n",
       "      <td>3.0</td>\n",
       "      <td>0.0</td>\n",
       "    </tr>\n",
       "    <tr>\n",
       "      <th>31643</th>\n",
       "      <td>40178</td>\n",
       "      <td>53</td>\n",
       "      <td>4.0</td>\n",
       "      <td>0.0</td>\n",
       "      <td>2.0</td>\n",
       "      <td>0.0</td>\n",
       "      <td>380</td>\n",
       "      <td>0.0</td>\n",
       "      <td>1.0</td>\n",
       "      <td>0.0</td>\n",
       "      <td>5</td>\n",
       "      <td>6.0</td>\n",
       "      <td>438</td>\n",
       "      <td>2</td>\n",
       "      <td>-1</td>\n",
       "      <td>0</td>\n",
       "      <td>3.0</td>\n",
       "      <td>1.0</td>\n",
       "    </tr>\n",
       "    <tr>\n",
       "      <th>31644</th>\n",
       "      <td>19710</td>\n",
       "      <td>32</td>\n",
       "      <td>4.0</td>\n",
       "      <td>2.0</td>\n",
       "      <td>2.0</td>\n",
       "      <td>0.0</td>\n",
       "      <td>312</td>\n",
       "      <td>0.0</td>\n",
       "      <td>0.0</td>\n",
       "      <td>0.0</td>\n",
       "      <td>7</td>\n",
       "      <td>1.0</td>\n",
       "      <td>37</td>\n",
       "      <td>3</td>\n",
       "      <td>-1</td>\n",
       "      <td>0</td>\n",
       "      <td>3.0</td>\n",
       "      <td>0.0</td>\n",
       "    </tr>\n",
       "    <tr>\n",
       "      <th>31645</th>\n",
       "      <td>38556</td>\n",
       "      <td>57</td>\n",
       "      <td>9.0</td>\n",
       "      <td>1.0</td>\n",
       "      <td>1.0</td>\n",
       "      <td>0.0</td>\n",
       "      <td>225</td>\n",
       "      <td>1.0</td>\n",
       "      <td>0.0</td>\n",
       "      <td>1.0</td>\n",
       "      <td>15</td>\n",
       "      <td>8.0</td>\n",
       "      <td>22</td>\n",
       "      <td>7</td>\n",
       "      <td>337</td>\n",
       "      <td>12</td>\n",
       "      <td>0.0</td>\n",
       "      <td>0.0</td>\n",
       "    </tr>\n",
       "    <tr>\n",
       "      <th>31646</th>\n",
       "      <td>14156</td>\n",
       "      <td>55</td>\n",
       "      <td>4.0</td>\n",
       "      <td>0.0</td>\n",
       "      <td>1.0</td>\n",
       "      <td>0.0</td>\n",
       "      <td>204</td>\n",
       "      <td>1.0</td>\n",
       "      <td>0.0</td>\n",
       "      <td>0.0</td>\n",
       "      <td>11</td>\n",
       "      <td>5.0</td>\n",
       "      <td>1973</td>\n",
       "      <td>2</td>\n",
       "      <td>-1</td>\n",
       "      <td>0</td>\n",
       "      <td>3.0</td>\n",
       "      <td>1.0</td>\n",
       "    </tr>\n",
       "  </tbody>\n",
       "</table>\n",
       "<p>31647 rows × 18 columns</p>\n",
       "</div>"
      ],
      "text/plain": [
       "          ID  age   job  marital  education  default  balance  housing  loan  \\\n",
       "0      26110   56   0.0      1.0        3.0      0.0     1933      0.0   0.0   \n",
       "1      40576   31  11.0      1.0        1.0      0.0        3      0.0   0.0   \n",
       "2      15320   27   7.0      1.0        1.0      0.0      891      1.0   0.0   \n",
       "3      43962   57   4.0      0.0        2.0      0.0     3287      0.0   0.0   \n",
       "4      29842   31   9.0      1.0        1.0      0.0      119      1.0   0.0   \n",
       "...      ...  ...   ...      ...        ...      ...      ...      ...   ...   \n",
       "31642  36483   29   4.0      2.0        2.0      0.0        0      1.0   0.0   \n",
       "31643  40178   53   4.0      0.0        2.0      0.0      380      0.0   1.0   \n",
       "31644  19710   32   4.0      2.0        2.0      0.0      312      0.0   0.0   \n",
       "31645  38556   57   9.0      1.0        1.0      0.0      225      1.0   0.0   \n",
       "31646  14156   55   4.0      0.0        1.0      0.0      204      1.0   0.0   \n",
       "\n",
       "       contact  day  month  duration  campaign  pdays  previous  poutcome  \\\n",
       "0          1.0   19    9.0        44         2     -1         0       3.0   \n",
       "1          0.0   20    5.0        91         2     -1         0       3.0   \n",
       "2          0.0   18    5.0       240         1     -1         0       3.0   \n",
       "3          0.0   22    6.0       867         1     84         3       2.0   \n",
       "4          0.0    4    3.0       380         1     -1         0       3.0   \n",
       "...        ...  ...    ...       ...       ...    ...       ...       ...   \n",
       "31642      0.0   12    8.0       116         2     -1         0       3.0   \n",
       "31643      0.0    5    6.0       438         2     -1         0       3.0   \n",
       "31644      0.0    7    1.0        37         3     -1         0       3.0   \n",
       "31645      1.0   15    8.0        22         7    337        12       0.0   \n",
       "31646      0.0   11    5.0      1973         2     -1         0       3.0   \n",
       "\n",
       "       subscribed  \n",
       "0             0.0  \n",
       "1             0.0  \n",
       "2             0.0  \n",
       "3             1.0  \n",
       "4             0.0  \n",
       "...           ...  \n",
       "31642         0.0  \n",
       "31643         1.0  \n",
       "31644         0.0  \n",
       "31645         0.0  \n",
       "31646         1.0  \n",
       "\n",
       "[31647 rows x 18 columns]"
      ]
     },
     "execution_count": 20,
     "metadata": {},
     "output_type": "execute_result"
    }
   ],
   "source": [
    "df"
   ]
  },
  {
   "cell_type": "code",
   "execution_count": 21,
   "id": "06a46d56",
   "metadata": {},
   "outputs": [
    {
     "data": {
      "text/html": [
       "<div>\n",
       "<style scoped>\n",
       "    .dataframe tbody tr th:only-of-type {\n",
       "        vertical-align: middle;\n",
       "    }\n",
       "\n",
       "    .dataframe tbody tr th {\n",
       "        vertical-align: top;\n",
       "    }\n",
       "\n",
       "    .dataframe thead th {\n",
       "        text-align: right;\n",
       "    }\n",
       "</style>\n",
       "<table border=\"1\" class=\"dataframe\">\n",
       "  <thead>\n",
       "    <tr style=\"text-align: right;\">\n",
       "      <th></th>\n",
       "      <th>ID</th>\n",
       "      <th>age</th>\n",
       "      <th>job</th>\n",
       "      <th>marital</th>\n",
       "      <th>education</th>\n",
       "      <th>default</th>\n",
       "      <th>balance</th>\n",
       "      <th>housing</th>\n",
       "      <th>loan</th>\n",
       "      <th>contact</th>\n",
       "      <th>day</th>\n",
       "      <th>month</th>\n",
       "      <th>duration</th>\n",
       "      <th>campaign</th>\n",
       "      <th>pdays</th>\n",
       "      <th>previous</th>\n",
       "      <th>poutcome</th>\n",
       "      <th>subscribed</th>\n",
       "    </tr>\n",
       "  </thead>\n",
       "  <tbody>\n",
       "    <tr>\n",
       "      <th>count</th>\n",
       "      <td>31647.000000</td>\n",
       "      <td>31647.000000</td>\n",
       "      <td>31647.000000</td>\n",
       "      <td>31647.000000</td>\n",
       "      <td>31647.000000</td>\n",
       "      <td>31647.000000</td>\n",
       "      <td>31647.000000</td>\n",
       "      <td>31647.000000</td>\n",
       "      <td>31647.000000</td>\n",
       "      <td>31647.000000</td>\n",
       "      <td>31647.000000</td>\n",
       "      <td>31647.000000</td>\n",
       "      <td>31647.000000</td>\n",
       "      <td>31647.000000</td>\n",
       "      <td>31647.000000</td>\n",
       "      <td>31647.000000</td>\n",
       "      <td>31647.000000</td>\n",
       "      <td>31647.000000</td>\n",
       "    </tr>\n",
       "    <tr>\n",
       "      <th>mean</th>\n",
       "      <td>22563.972162</td>\n",
       "      <td>40.957247</td>\n",
       "      <td>4.332923</td>\n",
       "      <td>1.167220</td>\n",
       "      <td>1.225013</td>\n",
       "      <td>0.018485</td>\n",
       "      <td>1363.890258</td>\n",
       "      <td>0.555629</td>\n",
       "      <td>0.162132</td>\n",
       "      <td>0.644642</td>\n",
       "      <td>15.835466</td>\n",
       "      <td>5.533131</td>\n",
       "      <td>258.113534</td>\n",
       "      <td>2.765697</td>\n",
       "      <td>39.576042</td>\n",
       "      <td>0.574272</td>\n",
       "      <td>2.566152</td>\n",
       "      <td>0.117389</td>\n",
       "    </tr>\n",
       "    <tr>\n",
       "      <th>std</th>\n",
       "      <td>13075.936990</td>\n",
       "      <td>10.625134</td>\n",
       "      <td>3.271868</td>\n",
       "      <td>0.607186</td>\n",
       "      <td>0.749195</td>\n",
       "      <td>0.134700</td>\n",
       "      <td>3028.304293</td>\n",
       "      <td>0.496904</td>\n",
       "      <td>0.368578</td>\n",
       "      <td>0.899480</td>\n",
       "      <td>8.337097</td>\n",
       "      <td>3.004247</td>\n",
       "      <td>257.118973</td>\n",
       "      <td>3.113830</td>\n",
       "      <td>99.317592</td>\n",
       "      <td>2.422529</td>\n",
       "      <td>0.982069</td>\n",
       "      <td>0.321888</td>\n",
       "    </tr>\n",
       "    <tr>\n",
       "      <th>min</th>\n",
       "      <td>2.000000</td>\n",
       "      <td>18.000000</td>\n",
       "      <td>0.000000</td>\n",
       "      <td>0.000000</td>\n",
       "      <td>0.000000</td>\n",
       "      <td>0.000000</td>\n",
       "      <td>-8019.000000</td>\n",
       "      <td>0.000000</td>\n",
       "      <td>0.000000</td>\n",
       "      <td>0.000000</td>\n",
       "      <td>1.000000</td>\n",
       "      <td>0.000000</td>\n",
       "      <td>0.000000</td>\n",
       "      <td>1.000000</td>\n",
       "      <td>-1.000000</td>\n",
       "      <td>0.000000</td>\n",
       "      <td>0.000000</td>\n",
       "      <td>0.000000</td>\n",
       "    </tr>\n",
       "    <tr>\n",
       "      <th>25%</th>\n",
       "      <td>11218.000000</td>\n",
       "      <td>33.000000</td>\n",
       "      <td>1.000000</td>\n",
       "      <td>1.000000</td>\n",
       "      <td>1.000000</td>\n",
       "      <td>0.000000</td>\n",
       "      <td>73.000000</td>\n",
       "      <td>0.000000</td>\n",
       "      <td>0.000000</td>\n",
       "      <td>0.000000</td>\n",
       "      <td>8.000000</td>\n",
       "      <td>3.000000</td>\n",
       "      <td>104.000000</td>\n",
       "      <td>1.000000</td>\n",
       "      <td>-1.000000</td>\n",
       "      <td>0.000000</td>\n",
       "      <td>3.000000</td>\n",
       "      <td>0.000000</td>\n",
       "    </tr>\n",
       "    <tr>\n",
       "      <th>50%</th>\n",
       "      <td>22519.000000</td>\n",
       "      <td>39.000000</td>\n",
       "      <td>4.000000</td>\n",
       "      <td>1.000000</td>\n",
       "      <td>1.000000</td>\n",
       "      <td>0.000000</td>\n",
       "      <td>450.000000</td>\n",
       "      <td>1.000000</td>\n",
       "      <td>0.000000</td>\n",
       "      <td>0.000000</td>\n",
       "      <td>16.000000</td>\n",
       "      <td>6.000000</td>\n",
       "      <td>180.000000</td>\n",
       "      <td>2.000000</td>\n",
       "      <td>-1.000000</td>\n",
       "      <td>0.000000</td>\n",
       "      <td>3.000000</td>\n",
       "      <td>0.000000</td>\n",
       "    </tr>\n",
       "    <tr>\n",
       "      <th>75%</th>\n",
       "      <td>33879.500000</td>\n",
       "      <td>48.000000</td>\n",
       "      <td>7.000000</td>\n",
       "      <td>2.000000</td>\n",
       "      <td>2.000000</td>\n",
       "      <td>0.000000</td>\n",
       "      <td>1431.000000</td>\n",
       "      <td>1.000000</td>\n",
       "      <td>0.000000</td>\n",
       "      <td>2.000000</td>\n",
       "      <td>21.000000</td>\n",
       "      <td>8.000000</td>\n",
       "      <td>318.500000</td>\n",
       "      <td>3.000000</td>\n",
       "      <td>-1.000000</td>\n",
       "      <td>0.000000</td>\n",
       "      <td>3.000000</td>\n",
       "      <td>0.000000</td>\n",
       "    </tr>\n",
       "    <tr>\n",
       "      <th>max</th>\n",
       "      <td>45211.000000</td>\n",
       "      <td>95.000000</td>\n",
       "      <td>11.000000</td>\n",
       "      <td>2.000000</td>\n",
       "      <td>3.000000</td>\n",
       "      <td>1.000000</td>\n",
       "      <td>102127.000000</td>\n",
       "      <td>1.000000</td>\n",
       "      <td>1.000000</td>\n",
       "      <td>2.000000</td>\n",
       "      <td>31.000000</td>\n",
       "      <td>11.000000</td>\n",
       "      <td>4918.000000</td>\n",
       "      <td>63.000000</td>\n",
       "      <td>871.000000</td>\n",
       "      <td>275.000000</td>\n",
       "      <td>3.000000</td>\n",
       "      <td>1.000000</td>\n",
       "    </tr>\n",
       "  </tbody>\n",
       "</table>\n",
       "</div>"
      ],
      "text/plain": [
       "                 ID           age           job       marital     education  \\\n",
       "count  31647.000000  31647.000000  31647.000000  31647.000000  31647.000000   \n",
       "mean   22563.972162     40.957247      4.332923      1.167220      1.225013   \n",
       "std    13075.936990     10.625134      3.271868      0.607186      0.749195   \n",
       "min        2.000000     18.000000      0.000000      0.000000      0.000000   \n",
       "25%    11218.000000     33.000000      1.000000      1.000000      1.000000   \n",
       "50%    22519.000000     39.000000      4.000000      1.000000      1.000000   \n",
       "75%    33879.500000     48.000000      7.000000      2.000000      2.000000   \n",
       "max    45211.000000     95.000000     11.000000      2.000000      3.000000   \n",
       "\n",
       "            default        balance       housing          loan       contact  \\\n",
       "count  31647.000000   31647.000000  31647.000000  31647.000000  31647.000000   \n",
       "mean       0.018485    1363.890258      0.555629      0.162132      0.644642   \n",
       "std        0.134700    3028.304293      0.496904      0.368578      0.899480   \n",
       "min        0.000000   -8019.000000      0.000000      0.000000      0.000000   \n",
       "25%        0.000000      73.000000      0.000000      0.000000      0.000000   \n",
       "50%        0.000000     450.000000      1.000000      0.000000      0.000000   \n",
       "75%        0.000000    1431.000000      1.000000      0.000000      2.000000   \n",
       "max        1.000000  102127.000000      1.000000      1.000000      2.000000   \n",
       "\n",
       "                day         month      duration      campaign         pdays  \\\n",
       "count  31647.000000  31647.000000  31647.000000  31647.000000  31647.000000   \n",
       "mean      15.835466      5.533131    258.113534      2.765697     39.576042   \n",
       "std        8.337097      3.004247    257.118973      3.113830     99.317592   \n",
       "min        1.000000      0.000000      0.000000      1.000000     -1.000000   \n",
       "25%        8.000000      3.000000    104.000000      1.000000     -1.000000   \n",
       "50%       16.000000      6.000000    180.000000      2.000000     -1.000000   \n",
       "75%       21.000000      8.000000    318.500000      3.000000     -1.000000   \n",
       "max       31.000000     11.000000   4918.000000     63.000000    871.000000   \n",
       "\n",
       "           previous      poutcome    subscribed  \n",
       "count  31647.000000  31647.000000  31647.000000  \n",
       "mean       0.574272      2.566152      0.117389  \n",
       "std        2.422529      0.982069      0.321888  \n",
       "min        0.000000      0.000000      0.000000  \n",
       "25%        0.000000      3.000000      0.000000  \n",
       "50%        0.000000      3.000000      0.000000  \n",
       "75%        0.000000      3.000000      0.000000  \n",
       "max      275.000000      3.000000      1.000000  "
      ]
     },
     "execution_count": 21,
     "metadata": {},
     "output_type": "execute_result"
    }
   ],
   "source": [
    "df.describe()"
   ]
  },
  {
   "cell_type": "markdown",
   "id": "39d99f5d",
   "metadata": {},
   "source": [
    "df.describe\n",
    "gives count means number of rows present in dataset. gives mean of all column as well as std(standard deviation). gives minimum values of each column. gives 25% means first quantile, 50% means second quantile or median & 75% means third quantile. gives maximum value i.e. larger value present in dataset.\n",
    "\n",
    "Every columns has same count i.e. there is no missing values present in dataset.\n",
    "\n",
    "From above observation mean is greater than median in column mostly in balance,duration & pdays columns skewed so my data is skewed to the right i.e mean>median(50%) .\n",
    "\n",
    "But in balance,duration & pdays column mean>median so my data is skewed to the right.\n",
    "\n",
    "From above observation there is huge difference between 75% & max hence there is no outliers present in the dataset."
   ]
  },
  {
   "cell_type": "code",
   "execution_count": 22,
   "id": "72873c87",
   "metadata": {},
   "outputs": [
    {
     "data": {
      "text/plain": [
       "<AxesSubplot:>"
      ]
     },
     "execution_count": 22,
     "metadata": {},
     "output_type": "execute_result"
    },
    {
     "data": {
      "image/png": "[encoded data removed]",
      "text/plain": [
       "<Figure size 1584x576 with 2 Axes>"
      ]
     },
     "metadata": {
      "needs_background": "light"
     },
     "output_type": "display_data"
    }
   ],
   "source": [
    "import matplotlib.pyplot as plt                       #Showing scale 100000 means very good correlation positive correlation as we move down sacle value decreases means downward correlation decreases\n",
    "plt.figure(figsize=(22,8))\n",
    "sns.heatmap(df.describe(),annot=True, linewidths=0.5,linecolor=\"black\",fmt='.2f')"
   ]
  },
  {
   "cell_type": "markdown",
   "id": "4b5d47ae",
   "metadata": {},
   "source": [
    "Correlation of the column with the target column: #Correlation means the correlation finds out the relatioship between variables"
   ]
  },
  {
   "cell_type": "code",
   "execution_count": 23,
   "id": "92be0a0b",
   "metadata": {},
   "outputs": [
    {
     "data": {
      "text/plain": [
       "contact      -0.150051\n",
       "housing      -0.141092\n",
       "poutcome     -0.080895\n",
       "loan         -0.072266\n",
       "campaign     -0.070607\n",
       "                ...   \n",
       "previous      0.088081\n",
       "pdays         0.108290\n",
       "ID            0.296663\n",
       "duration      0.389838\n",
       "subscribed    1.000000\n",
       "Name: subscribed, Length: 18, dtype: float64"
      ]
     },
     "execution_count": 23,
     "metadata": {},
     "output_type": "execute_result"
    }
   ],
   "source": [
    "df.corr()['subscribed'].sort_values()"
   ]
  },
  {
   "cell_type": "markdown",
   "id": "d602401a",
   "metadata": {},
   "source": [
    "Correlation also find out the realatinship between one dependent variable & one independent variable and find out the strength also.\n",
    "\n",
    "Range of correlation is -1 to 1 i.e. -1 means highly negative correlated and 1 means highly positive correlated and 0 means no correlation i.e. they are independent to each other."
   ]
  },
  {
   "cell_type": "markdown",
   "id": "79c1b74c",
   "metadata": {},
   "source": [
    "# EDA:"
   ]
  },
  {
   "cell_type": "markdown",
   "id": "1bbe40f6",
   "metadata": {},
   "source": [
    "Scatterplot:"
   ]
  },
  {
   "cell_type": "code",
   "execution_count": 24,
   "id": "9c145264",
   "metadata": {},
   "outputs": [
    {
     "data": {
      "text/plain": [
       "<AxesSubplot:xlabel='ID', ylabel='subscribed'>"
      ]
     },
     "execution_count": 24,
     "metadata": {},
     "output_type": "execute_result"
    },
    {
     "data": {
      "image/png": "[encoded data removed]",
      "text/plain": [
       "<Figure size 432x288 with 1 Axes>"
      ]
     },
     "metadata": {
      "needs_background": "light"
     },
     "output_type": "display_data"
    }
   ],
   "source": [
    "import seaborn as sns\n",
    "sns.scatterplot(x=\"ID\",y=\"subscribed\",data=df)"
   ]
  },
  {
   "cell_type": "code",
   "execution_count": 25,
   "id": "4eb98cc4",
   "metadata": {},
   "outputs": [
    {
     "data": {
      "text/plain": [
       "<AxesSubplot:xlabel='age', ylabel='subscribed'>"
      ]
     },
     "execution_count": 25,
     "metadata": {},
     "output_type": "execute_result"
    },
    {
     "data": {
      "image/png": "[encoded data removed]",
      "text/plain": [
       "<Figure size 432x288 with 1 Axes>"
      ]
     },
     "metadata": {
      "needs_background": "light"
     },
     "output_type": "display_data"
    }
   ],
   "source": [
    "import seaborn as sns\n",
    "sns.scatterplot(x=\"age\",y=\"subscribed\",data=df)"
   ]
  },
  {
   "cell_type": "code",
   "execution_count": 26,
   "id": "c4964906",
   "metadata": {},
   "outputs": [
    {
     "data": {
      "text/plain": [
       "<AxesSubplot:xlabel='job', ylabel='subscribed'>"
      ]
     },
     "execution_count": 26,
     "metadata": {},
     "output_type": "execute_result"
    },
    {
     "data": {
      "image/png": "[encoded data removed]",
      "text/plain": [
       "<Figure size 432x288 with 1 Axes>"
      ]
     },
     "metadata": {
      "needs_background": "light"
     },
     "output_type": "display_data"
    }
   ],
   "source": [
    "import seaborn as sns\n",
    "sns.scatterplot(x=\"job\",y=\"subscribed\",data=df)"
   ]
  },
  {
   "cell_type": "code",
   "execution_count": 27,
   "id": "f25484b6",
   "metadata": {},
   "outputs": [
    {
     "data": {
      "text/plain": [
       "<AxesSubplot:xlabel='marital', ylabel='subscribed'>"
      ]
     },
     "execution_count": 27,
     "metadata": {},
     "output_type": "execute_result"
    },
    {
     "data": {
      "image/png": "[encoded data removed]",
      "text/plain": [
       "<Figure size 432x288 with 1 Axes>"
      ]
     },
     "metadata": {
      "needs_background": "light"
     },
     "output_type": "display_data"
    }
   ],
   "source": [
    "import seaborn as sns\n",
    "sns.scatterplot(x=\"marital\",y=\"subscribed\",data=df)"
   ]
  },
  {
   "cell_type": "code",
   "execution_count": 28,
   "id": "652402be",
   "metadata": {},
   "outputs": [
    {
     "data": {
      "text/plain": [
       "<AxesSubplot:xlabel='education', ylabel='subscribed'>"
      ]
     },
     "execution_count": 28,
     "metadata": {},
     "output_type": "execute_result"
    },
    {
     "data": {
      "image/png": "[encoded data removed]",
      "text/plain": [
       "<Figure size 432x288 with 1 Axes>"
      ]
     },
     "metadata": {
      "needs_background": "light"
     },
     "output_type": "display_data"
    }
   ],
   "source": [
    "import seaborn as sns\n",
    "sns.scatterplot(x=\"education\",y=\"subscribed\",data=df)"
   ]
  },
  {
   "cell_type": "code",
   "execution_count": 29,
   "id": "6ccba85c",
   "metadata": {},
   "outputs": [
    {
     "data": {
      "text/plain": [
       "<AxesSubplot:xlabel='balance', ylabel='subscribed'>"
      ]
     },
     "execution_count": 29,
     "metadata": {},
     "output_type": "execute_result"
    },
    {
     "data": {
      "image/png": "[encoded data removed]",
      "text/plain": [
       "<Figure size 432x288 with 1 Axes>"
      ]
     },
     "metadata": {
      "needs_background": "light"
     },
     "output_type": "display_data"
    }
   ],
   "source": [
    "import seaborn as sns\n",
    "sns.scatterplot(x=\"balance\",y=\"subscribed\",data=df)"
   ]
  },
  {
   "cell_type": "code",
   "execution_count": 30,
   "id": "3a6eb5d8",
   "metadata": {},
   "outputs": [
    {
     "data": {
      "text/plain": [
       "<AxesSubplot:xlabel='housing', ylabel='subscribed'>"
      ]
     },
     "execution_count": 30,
     "metadata": {},
     "output_type": "execute_result"
    },
    {
     "data": {
      "image/png": "[encoded data removed]",
      "text/plain": [
       "<Figure size 432x288 with 1 Axes>"
      ]
     },
     "metadata": {
      "needs_background": "light"
     },
     "output_type": "display_data"
    }
   ],
   "source": [
    "import seaborn as sns\n",
    "sns.scatterplot(x=\"housing\",y=\"subscribed\",data=df)"
   ]
  },
  {
   "cell_type": "code",
   "execution_count": 31,
   "id": "519352a3",
   "metadata": {},
   "outputs": [
    {
     "data": {
      "text/plain": [
       "<AxesSubplot:xlabel='loan', ylabel='subscribed'>"
      ]
     },
     "execution_count": 31,
     "metadata": {},
     "output_type": "execute_result"
    },
    {
     "data": {
      "image/png": "[encoded data removed]",
      "text/plain": [
       "<Figure size 432x288 with 1 Axes>"
      ]
     },
     "metadata": {
      "needs_background": "light"
     },
     "output_type": "display_data"
    }
   ],
   "source": [
    "import seaborn as sns\n",
    "sns.scatterplot(x=\"loan\",y=\"subscribed\",data=df)"
   ]
  },
  {
   "cell_type": "code",
   "execution_count": 32,
   "id": "f9632b4a",
   "metadata": {},
   "outputs": [
    {
     "data": {
      "text/plain": [
       "<AxesSubplot:xlabel='default', ylabel='subscribed'>"
      ]
     },
     "execution_count": 32,
     "metadata": {},
     "output_type": "execute_result"
    },
    {
     "data": {
      "image/png": "[encoded data removed]",
      "text/plain": [
       "<Figure size 432x288 with 1 Axes>"
      ]
     },
     "metadata": {
      "needs_background": "light"
     },
     "output_type": "display_data"
    }
   ],
   "source": [
    "import seaborn as sns\n",
    "sns.scatterplot(x=\"default\",y=\"subscribed\",data=df)"
   ]
  },
  {
   "cell_type": "code",
   "execution_count": 33,
   "id": "b22df93b",
   "metadata": {},
   "outputs": [
    {
     "data": {
      "text/html": [
       "<div>\n",
       "<style scoped>\n",
       "    .dataframe tbody tr th:only-of-type {\n",
       "        vertical-align: middle;\n",
       "    }\n",
       "\n",
       "    .dataframe tbody tr th {\n",
       "        vertical-align: top;\n",
       "    }\n",
       "\n",
       "    .dataframe thead th {\n",
       "        text-align: right;\n",
       "    }\n",
       "</style>\n",
       "<table border=\"1\" class=\"dataframe\">\n",
       "  <thead>\n",
       "    <tr style=\"text-align: right;\">\n",
       "      <th></th>\n",
       "      <th>ID</th>\n",
       "      <th>age</th>\n",
       "      <th>job</th>\n",
       "      <th>marital</th>\n",
       "      <th>education</th>\n",
       "      <th>default</th>\n",
       "      <th>balance</th>\n",
       "      <th>housing</th>\n",
       "      <th>loan</th>\n",
       "      <th>contact</th>\n",
       "      <th>day</th>\n",
       "      <th>month</th>\n",
       "      <th>duration</th>\n",
       "      <th>campaign</th>\n",
       "      <th>pdays</th>\n",
       "      <th>previous</th>\n",
       "      <th>poutcome</th>\n",
       "      <th>subscribed</th>\n",
       "    </tr>\n",
       "  </thead>\n",
       "  <tbody>\n",
       "    <tr>\n",
       "      <th>ID</th>\n",
       "      <td>1.000000</td>\n",
       "      <td>0.013337</td>\n",
       "      <td>0.061805</td>\n",
       "      <td>0.086454</td>\n",
       "      <td>0.096480</td>\n",
       "      <td>-0.051521</td>\n",
       "      <td>0.067897</td>\n",
       "      <td>-0.180047</td>\n",
       "      <td>-0.086140</td>\n",
       "      <td>-0.723830</td>\n",
       "      <td>-0.063399</td>\n",
       "      <td>-0.165274</td>\n",
       "      <td>0.007183</td>\n",
       "      <td>-0.103508</td>\n",
       "      <td>0.436148</td>\n",
       "      <td>0.254476</td>\n",
       "      <td>-0.443429</td>\n",
       "      <td>0.296663</td>\n",
       "    </tr>\n",
       "    <tr>\n",
       "      <th>age</th>\n",
       "      <td>0.013337</td>\n",
       "      <td>1.000000</td>\n",
       "      <td>-0.020765</td>\n",
       "      <td>-0.406024</td>\n",
       "      <td>-0.102356</td>\n",
       "      <td>-0.016117</td>\n",
       "      <td>0.103245</td>\n",
       "      <td>-0.183775</td>\n",
       "      <td>-0.012657</td>\n",
       "      <td>0.026733</td>\n",
       "      <td>-0.011056</td>\n",
       "      <td>-0.038368</td>\n",
       "      <td>-0.003870</td>\n",
       "      <td>0.005733</td>\n",
       "      <td>-0.021947</td>\n",
       "      <td>0.005761</td>\n",
       "      <td>0.006466</td>\n",
       "      <td>0.024538</td>\n",
       "    </tr>\n",
       "    <tr>\n",
       "      <th>job</th>\n",
       "      <td>0.061805</td>\n",
       "      <td>-0.020765</td>\n",
       "      <td>1.000000</td>\n",
       "      <td>0.066124</td>\n",
       "      <td>0.170347</td>\n",
       "      <td>-0.005217</td>\n",
       "      <td>0.020638</td>\n",
       "      <td>-0.125347</td>\n",
       "      <td>-0.039049</td>\n",
       "      <td>-0.078253</td>\n",
       "      <td>0.020951</td>\n",
       "      <td>-0.089384</td>\n",
       "      <td>0.002694</td>\n",
       "      <td>0.001469</td>\n",
       "      <td>-0.022552</td>\n",
       "      <td>-0.003032</td>\n",
       "      <td>0.007101</td>\n",
       "      <td>0.038921</td>\n",
       "    </tr>\n",
       "    <tr>\n",
       "      <th>marital</th>\n",
       "      <td>0.086454</td>\n",
       "      <td>-0.406024</td>\n",
       "      <td>0.066124</td>\n",
       "      <td>1.000000</td>\n",
       "      <td>0.107547</td>\n",
       "      <td>-0.009591</td>\n",
       "      <td>0.003487</td>\n",
       "      <td>-0.017846</td>\n",
       "      <td>-0.041654</td>\n",
       "      <td>-0.040180</td>\n",
       "      <td>-0.007686</td>\n",
       "      <td>-0.003834</td>\n",
       "      <td>0.011544</td>\n",
       "      <td>-0.009394</td>\n",
       "      <td>0.019741</td>\n",
       "      <td>0.012717</td>\n",
       "      <td>-0.019770</td>\n",
       "      <td>0.046043</td>\n",
       "    </tr>\n",
       "    <tr>\n",
       "      <th>education</th>\n",
       "      <td>0.096480</td>\n",
       "      <td>-0.102356</td>\n",
       "      <td>0.170347</td>\n",
       "      <td>0.107547</td>\n",
       "      <td>1.000000</td>\n",
       "      <td>-0.006774</td>\n",
       "      <td>0.065176</td>\n",
       "      <td>-0.095376</td>\n",
       "      <td>-0.045950</td>\n",
       "      <td>-0.112000</td>\n",
       "      <td>0.017902</td>\n",
       "      <td>-0.055967</td>\n",
       "      <td>0.003842</td>\n",
       "      <td>0.006142</td>\n",
       "      <td>-0.001566</td>\n",
       "      <td>0.015280</td>\n",
       "      <td>-0.019007</td>\n",
       "      <td>0.066051</td>\n",
       "    </tr>\n",
       "    <tr>\n",
       "      <th>...</th>\n",
       "      <td>...</td>\n",
       "      <td>...</td>\n",
       "      <td>...</td>\n",
       "      <td>...</td>\n",
       "      <td>...</td>\n",
       "      <td>...</td>\n",
       "      <td>...</td>\n",
       "      <td>...</td>\n",
       "      <td>...</td>\n",
       "      <td>...</td>\n",
       "      <td>...</td>\n",
       "      <td>...</td>\n",
       "      <td>...</td>\n",
       "      <td>...</td>\n",
       "      <td>...</td>\n",
       "      <td>...</td>\n",
       "      <td>...</td>\n",
       "      <td>...</td>\n",
       "    </tr>\n",
       "    <tr>\n",
       "      <th>campaign</th>\n",
       "      <td>-0.103508</td>\n",
       "      <td>0.005733</td>\n",
       "      <td>0.001469</td>\n",
       "      <td>-0.009394</td>\n",
       "      <td>0.006142</td>\n",
       "      <td>0.018538</td>\n",
       "      <td>-0.012032</td>\n",
       "      <td>-0.021076</td>\n",
       "      <td>0.009340</td>\n",
       "      <td>0.022666</td>\n",
       "      <td>0.159168</td>\n",
       "      <td>-0.105428</td>\n",
       "      <td>-0.080305</td>\n",
       "      <td>1.000000</td>\n",
       "      <td>-0.087570</td>\n",
       "      <td>-0.033151</td>\n",
       "      <td>0.100720</td>\n",
       "      <td>-0.070607</td>\n",
       "    </tr>\n",
       "    <tr>\n",
       "      <th>pdays</th>\n",
       "      <td>0.436148</td>\n",
       "      <td>-0.021947</td>\n",
       "      <td>-0.022552</td>\n",
       "      <td>0.019741</td>\n",
       "      <td>-0.001566</td>\n",
       "      <td>-0.029622</td>\n",
       "      <td>0.001789</td>\n",
       "      <td>0.118790</td>\n",
       "      <td>-0.020078</td>\n",
       "      <td>-0.245076</td>\n",
       "      <td>-0.087626</td>\n",
       "      <td>0.027576</td>\n",
       "      <td>0.000529</td>\n",
       "      <td>-0.087570</td>\n",
       "      <td>1.000000</td>\n",
       "      <td>0.428938</td>\n",
       "      <td>-0.857716</td>\n",
       "      <td>0.108290</td>\n",
       "    </tr>\n",
       "    <tr>\n",
       "      <th>previous</th>\n",
       "      <td>0.254476</td>\n",
       "      <td>0.005761</td>\n",
       "      <td>-0.003032</td>\n",
       "      <td>0.012717</td>\n",
       "      <td>0.015280</td>\n",
       "      <td>-0.015877</td>\n",
       "      <td>0.013843</td>\n",
       "      <td>0.034231</td>\n",
       "      <td>-0.009258</td>\n",
       "      <td>-0.141098</td>\n",
       "      <td>-0.048752</td>\n",
       "      <td>0.020107</td>\n",
       "      <td>0.001783</td>\n",
       "      <td>-0.033151</td>\n",
       "      <td>0.428938</td>\n",
       "      <td>1.000000</td>\n",
       "      <td>-0.463034</td>\n",
       "      <td>0.088081</td>\n",
       "    </tr>\n",
       "    <tr>\n",
       "      <th>poutcome</th>\n",
       "      <td>-0.443429</td>\n",
       "      <td>0.006466</td>\n",
       "      <td>0.007101</td>\n",
       "      <td>-0.019770</td>\n",
       "      <td>-0.019007</td>\n",
       "      <td>0.035067</td>\n",
       "      <td>-0.019629</td>\n",
       "      <td>-0.092677</td>\n",
       "      <td>0.010919</td>\n",
       "      <td>0.272083</td>\n",
       "      <td>0.077586</td>\n",
       "      <td>-0.029369</td>\n",
       "      <td>0.009771</td>\n",
       "      <td>0.100720</td>\n",
       "      <td>-0.857716</td>\n",
       "      <td>-0.463034</td>\n",
       "      <td>1.000000</td>\n",
       "      <td>-0.080895</td>\n",
       "    </tr>\n",
       "    <tr>\n",
       "      <th>subscribed</th>\n",
       "      <td>0.296663</td>\n",
       "      <td>0.024538</td>\n",
       "      <td>0.038921</td>\n",
       "      <td>0.046043</td>\n",
       "      <td>0.066051</td>\n",
       "      <td>-0.020168</td>\n",
       "      <td>0.050807</td>\n",
       "      <td>-0.141092</td>\n",
       "      <td>-0.072266</td>\n",
       "      <td>-0.150051</td>\n",
       "      <td>-0.029600</td>\n",
       "      <td>-0.028088</td>\n",
       "      <td>0.389838</td>\n",
       "      <td>-0.070607</td>\n",
       "      <td>0.108290</td>\n",
       "      <td>0.088081</td>\n",
       "      <td>-0.080895</td>\n",
       "      <td>1.000000</td>\n",
       "    </tr>\n",
       "  </tbody>\n",
       "</table>\n",
       "<p>18 rows × 18 columns</p>\n",
       "</div>"
      ],
      "text/plain": [
       "                  ID       age       job   marital  education   default  \\\n",
       "ID          1.000000  0.013337  0.061805  0.086454   0.096480 -0.051521   \n",
       "age         0.013337  1.000000 -0.020765 -0.406024  -0.102356 -0.016117   \n",
       "job         0.061805 -0.020765  1.000000  0.066124   0.170347 -0.005217   \n",
       "marital     0.086454 -0.406024  0.066124  1.000000   0.107547 -0.009591   \n",
       "education   0.096480 -0.102356  0.170347  0.107547   1.000000 -0.006774   \n",
       "...              ...       ...       ...       ...        ...       ...   \n",
       "campaign   -0.103508  0.005733  0.001469 -0.009394   0.006142  0.018538   \n",
       "pdays       0.436148 -0.021947 -0.022552  0.019741  -0.001566 -0.029622   \n",
       "previous    0.254476  0.005761 -0.003032  0.012717   0.015280 -0.015877   \n",
       "poutcome   -0.443429  0.006466  0.007101 -0.019770  -0.019007  0.035067   \n",
       "subscribed  0.296663  0.024538  0.038921  0.046043   0.066051 -0.020168   \n",
       "\n",
       "             balance   housing      loan   contact       day     month  \\\n",
       "ID          0.067897 -0.180047 -0.086140 -0.723830 -0.063399 -0.165274   \n",
       "age         0.103245 -0.183775 -0.012657  0.026733 -0.011056 -0.038368   \n",
       "job         0.020638 -0.125347 -0.039049 -0.078253  0.020951 -0.089384   \n",
       "marital     0.003487 -0.017846 -0.041654 -0.040180 -0.007686 -0.003834   \n",
       "education   0.065176 -0.095376 -0.045950 -0.112000  0.017902 -0.055967   \n",
       "...              ...       ...       ...       ...       ...       ...   \n",
       "campaign   -0.012032 -0.021076  0.009340  0.022666  0.159168 -0.105428   \n",
       "pdays       0.001789  0.118790 -0.020078 -0.245076 -0.087626  0.027576   \n",
       "previous    0.013843  0.034231 -0.009258 -0.141098 -0.048752  0.020107   \n",
       "poutcome   -0.019629 -0.092677  0.010919  0.272083  0.077586 -0.029369   \n",
       "subscribed  0.050807 -0.141092 -0.072266 -0.150051 -0.029600 -0.028088   \n",
       "\n",
       "            duration  campaign     pdays  previous  poutcome  subscribed  \n",
       "ID          0.007183 -0.103508  0.436148  0.254476 -0.443429    0.296663  \n",
       "age        -0.003870  0.005733 -0.021947  0.005761  0.006466    0.024538  \n",
       "job         0.002694  0.001469 -0.022552 -0.003032  0.007101    0.038921  \n",
       "marital     0.011544 -0.009394  0.019741  0.012717 -0.019770    0.046043  \n",
       "education   0.003842  0.006142 -0.001566  0.015280 -0.019007    0.066051  \n",
       "...              ...       ...       ...       ...       ...         ...  \n",
       "campaign   -0.080305  1.000000 -0.087570 -0.033151  0.100720   -0.070607  \n",
       "pdays       0.000529 -0.087570  1.000000  0.428938 -0.857716    0.108290  \n",
       "previous    0.001783 -0.033151  0.428938  1.000000 -0.463034    0.088081  \n",
       "poutcome    0.009771  0.100720 -0.857716 -0.463034  1.000000   -0.080895  \n",
       "subscribed  0.389838 -0.070607  0.108290  0.088081 -0.080895    1.000000  \n",
       "\n",
       "[18 rows x 18 columns]"
      ]
     },
     "execution_count": 33,
     "metadata": {},
     "output_type": "execute_result"
    }
   ],
   "source": [
    "df.corr()"
   ]
  },
  {
   "cell_type": "markdown",
   "id": "33b305e1",
   "metadata": {},
   "source": [
    "Correlation using heatmap:"
   ]
  },
  {
   "cell_type": "code",
   "execution_count": 34,
   "id": "646d0f8d",
   "metadata": {},
   "outputs": [
    {
     "data": {
      "text/plain": [
       "<AxesSubplot:>"
      ]
     },
     "execution_count": 34,
     "metadata": {},
     "output_type": "execute_result"
    },
    {
     "data": {
      "image/png": "[encoded data removed]",
      "text/plain": [
       "<Figure size 1080x576 with 2 Axes>"
      ]
     },
     "metadata": {
      "needs_background": "light"
     },
     "output_type": "display_data"
    }
   ],
   "source": [
    "import matplotlib.pyplot as plt                       #Showing scale 1 means very good correlation positive correlation as we move down sacle value decreases means downward correlation decreases\n",
    "plt.figure(figsize=(15,8))\n",
    "sns.heatmap(df.corr(),annot=True, linewidths=0.5,linecolor=\"black\",fmt='.2f')"
   ]
  },
  {
   "cell_type": "markdown",
   "id": "f95a27d4",
   "metadata": {},
   "source": [
    "Maximum correlatin: ID & pdays Minimum correlation: contact & poutcome"
   ]
  },
  {
   "cell_type": "code",
   "execution_count": 35,
   "id": "d23f3092",
   "metadata": {},
   "outputs": [
    {
     "data": {
      "image/png": "[encoded data removed]",
      "text/plain": [
       "<Figure size 1080x1080 with 2 Axes>"
      ]
     },
     "metadata": {
      "needs_background": "light"
     },
     "output_type": "display_data"
    }
   ],
   "source": [
    "plt.figure(figsize=(15,15))\n",
    "sns.heatmap(round(df.describe()[1:].transpose(),2),linewidth=2,annot=True,fmt=\"f\")\n",
    "plt.xticks(fontsize=20)\n",
    "plt.yticks(fontsize=18)\n",
    "plt.title(\"Variables summary\")\n",
    "plt.show()"
   ]
  },
  {
   "cell_type": "code",
   "execution_count": 36,
   "id": "cbdc74a6",
   "metadata": {},
   "outputs": [
    {
     "data": {
      "text/plain": [
       "(31647, 18)"
      ]
     },
     "execution_count": 36,
     "metadata": {},
     "output_type": "execute_result"
    }
   ],
   "source": [
    "df.shape"
   ]
  },
  {
   "cell_type": "code",
   "execution_count": 37,
   "id": "04186b4e",
   "metadata": {},
   "outputs": [
    {
     "name": "stdout",
     "output_type": "stream",
     "text": [
      "<class 'pandas.core.frame.DataFrame'>\n",
      "RangeIndex: 31647 entries, 0 to 31646\n",
      "Data columns (total 18 columns):\n",
      " #   Column      Non-Null Count  Dtype  \n",
      "---  ------      --------------  -----  \n",
      " 0   ID          31647 non-null  int64  \n",
      " 1   age         31647 non-null  int64  \n",
      " 2   job         31647 non-null  float64\n",
      " 3   marital     31647 non-null  float64\n",
      " 4   education   31647 non-null  float64\n",
      " 5   default     31647 non-null  float64\n",
      " 6   balance     31647 non-null  int64  \n",
      " 7   housing     31647 non-null  float64\n",
      " 8   loan        31647 non-null  float64\n",
      " 9   contact     31647 non-null  float64\n",
      " 10  day         31647 non-null  int64  \n",
      " 11  month       31647 non-null  float64\n",
      " 12  duration    31647 non-null  int64  \n",
      " 13  campaign    31647 non-null  int64  \n",
      " 14  pdays       31647 non-null  int64  \n",
      " 15  previous    31647 non-null  int64  \n",
      " 16  poutcome    31647 non-null  float64\n",
      " 17  subscribed  31647 non-null  float64\n",
      "dtypes: float64(10), int64(8)\n",
      "memory usage: 4.3 MB\n"
     ]
    }
   ],
   "source": [
    "df.info()"
   ]
  },
  {
   "cell_type": "code",
   "execution_count": 38,
   "id": "4ac38d1d",
   "metadata": {},
   "outputs": [],
   "source": [
    "for i in df.columns:\n",
    "    if df[i].dtypes==\"int\":\n",
    "        df[i]=enc.fit_transform(df[i].values.reshape(-1,1))"
   ]
  },
  {
   "cell_type": "code",
   "execution_count": 39,
   "id": "4ed4b84b",
   "metadata": {},
   "outputs": [
    {
     "data": {
      "text/html": [
       "<div>\n",
       "<style scoped>\n",
       "    .dataframe tbody tr th:only-of-type {\n",
       "        vertical-align: middle;\n",
       "    }\n",
       "\n",
       "    .dataframe tbody tr th {\n",
       "        vertical-align: top;\n",
       "    }\n",
       "\n",
       "    .dataframe thead th {\n",
       "        text-align: right;\n",
       "    }\n",
       "</style>\n",
       "<table border=\"1\" class=\"dataframe\">\n",
       "  <thead>\n",
       "    <tr style=\"text-align: right;\">\n",
       "      <th></th>\n",
       "      <th>ID</th>\n",
       "      <th>age</th>\n",
       "      <th>job</th>\n",
       "      <th>marital</th>\n",
       "      <th>education</th>\n",
       "      <th>default</th>\n",
       "      <th>balance</th>\n",
       "      <th>housing</th>\n",
       "      <th>loan</th>\n",
       "      <th>contact</th>\n",
       "      <th>day</th>\n",
       "      <th>month</th>\n",
       "      <th>duration</th>\n",
       "      <th>campaign</th>\n",
       "      <th>pdays</th>\n",
       "      <th>previous</th>\n",
       "      <th>poutcome</th>\n",
       "      <th>subscribed</th>\n",
       "    </tr>\n",
       "  </thead>\n",
       "  <tbody>\n",
       "    <tr>\n",
       "      <th>0</th>\n",
       "      <td>26110</td>\n",
       "      <td>56</td>\n",
       "      <td>0.0</td>\n",
       "      <td>1.0</td>\n",
       "      <td>3.0</td>\n",
       "      <td>0.0</td>\n",
       "      <td>1933</td>\n",
       "      <td>0.0</td>\n",
       "      <td>0.0</td>\n",
       "      <td>1.0</td>\n",
       "      <td>19</td>\n",
       "      <td>9.0</td>\n",
       "      <td>44</td>\n",
       "      <td>2</td>\n",
       "      <td>-1</td>\n",
       "      <td>0</td>\n",
       "      <td>3.0</td>\n",
       "      <td>0.0</td>\n",
       "    </tr>\n",
       "    <tr>\n",
       "      <th>1</th>\n",
       "      <td>40576</td>\n",
       "      <td>31</td>\n",
       "      <td>11.0</td>\n",
       "      <td>1.0</td>\n",
       "      <td>1.0</td>\n",
       "      <td>0.0</td>\n",
       "      <td>3</td>\n",
       "      <td>0.0</td>\n",
       "      <td>0.0</td>\n",
       "      <td>0.0</td>\n",
       "      <td>20</td>\n",
       "      <td>5.0</td>\n",
       "      <td>91</td>\n",
       "      <td>2</td>\n",
       "      <td>-1</td>\n",
       "      <td>0</td>\n",
       "      <td>3.0</td>\n",
       "      <td>0.0</td>\n",
       "    </tr>\n",
       "    <tr>\n",
       "      <th>2</th>\n",
       "      <td>15320</td>\n",
       "      <td>27</td>\n",
       "      <td>7.0</td>\n",
       "      <td>1.0</td>\n",
       "      <td>1.0</td>\n",
       "      <td>0.0</td>\n",
       "      <td>891</td>\n",
       "      <td>1.0</td>\n",
       "      <td>0.0</td>\n",
       "      <td>0.0</td>\n",
       "      <td>18</td>\n",
       "      <td>5.0</td>\n",
       "      <td>240</td>\n",
       "      <td>1</td>\n",
       "      <td>-1</td>\n",
       "      <td>0</td>\n",
       "      <td>3.0</td>\n",
       "      <td>0.0</td>\n",
       "    </tr>\n",
       "    <tr>\n",
       "      <th>3</th>\n",
       "      <td>43962</td>\n",
       "      <td>57</td>\n",
       "      <td>4.0</td>\n",
       "      <td>0.0</td>\n",
       "      <td>2.0</td>\n",
       "      <td>0.0</td>\n",
       "      <td>3287</td>\n",
       "      <td>0.0</td>\n",
       "      <td>0.0</td>\n",
       "      <td>0.0</td>\n",
       "      <td>22</td>\n",
       "      <td>6.0</td>\n",
       "      <td>867</td>\n",
       "      <td>1</td>\n",
       "      <td>84</td>\n",
       "      <td>3</td>\n",
       "      <td>2.0</td>\n",
       "      <td>1.0</td>\n",
       "    </tr>\n",
       "    <tr>\n",
       "      <th>4</th>\n",
       "      <td>29842</td>\n",
       "      <td>31</td>\n",
       "      <td>9.0</td>\n",
       "      <td>1.0</td>\n",
       "      <td>1.0</td>\n",
       "      <td>0.0</td>\n",
       "      <td>119</td>\n",
       "      <td>1.0</td>\n",
       "      <td>0.0</td>\n",
       "      <td>0.0</td>\n",
       "      <td>4</td>\n",
       "      <td>3.0</td>\n",
       "      <td>380</td>\n",
       "      <td>1</td>\n",
       "      <td>-1</td>\n",
       "      <td>0</td>\n",
       "      <td>3.0</td>\n",
       "      <td>0.0</td>\n",
       "    </tr>\n",
       "    <tr>\n",
       "      <th>...</th>\n",
       "      <td>...</td>\n",
       "      <td>...</td>\n",
       "      <td>...</td>\n",
       "      <td>...</td>\n",
       "      <td>...</td>\n",
       "      <td>...</td>\n",
       "      <td>...</td>\n",
       "      <td>...</td>\n",
       "      <td>...</td>\n",
       "      <td>...</td>\n",
       "      <td>...</td>\n",
       "      <td>...</td>\n",
       "      <td>...</td>\n",
       "      <td>...</td>\n",
       "      <td>...</td>\n",
       "      <td>...</td>\n",
       "      <td>...</td>\n",
       "      <td>...</td>\n",
       "    </tr>\n",
       "    <tr>\n",
       "      <th>31642</th>\n",
       "      <td>36483</td>\n",
       "      <td>29</td>\n",
       "      <td>4.0</td>\n",
       "      <td>2.0</td>\n",
       "      <td>2.0</td>\n",
       "      <td>0.0</td>\n",
       "      <td>0</td>\n",
       "      <td>1.0</td>\n",
       "      <td>0.0</td>\n",
       "      <td>0.0</td>\n",
       "      <td>12</td>\n",
       "      <td>8.0</td>\n",
       "      <td>116</td>\n",
       "      <td>2</td>\n",
       "      <td>-1</td>\n",
       "      <td>0</td>\n",
       "      <td>3.0</td>\n",
       "      <td>0.0</td>\n",
       "    </tr>\n",
       "    <tr>\n",
       "      <th>31643</th>\n",
       "      <td>40178</td>\n",
       "      <td>53</td>\n",
       "      <td>4.0</td>\n",
       "      <td>0.0</td>\n",
       "      <td>2.0</td>\n",
       "      <td>0.0</td>\n",
       "      <td>380</td>\n",
       "      <td>0.0</td>\n",
       "      <td>1.0</td>\n",
       "      <td>0.0</td>\n",
       "      <td>5</td>\n",
       "      <td>6.0</td>\n",
       "      <td>438</td>\n",
       "      <td>2</td>\n",
       "      <td>-1</td>\n",
       "      <td>0</td>\n",
       "      <td>3.0</td>\n",
       "      <td>1.0</td>\n",
       "    </tr>\n",
       "    <tr>\n",
       "      <th>31644</th>\n",
       "      <td>19710</td>\n",
       "      <td>32</td>\n",
       "      <td>4.0</td>\n",
       "      <td>2.0</td>\n",
       "      <td>2.0</td>\n",
       "      <td>0.0</td>\n",
       "      <td>312</td>\n",
       "      <td>0.0</td>\n",
       "      <td>0.0</td>\n",
       "      <td>0.0</td>\n",
       "      <td>7</td>\n",
       "      <td>1.0</td>\n",
       "      <td>37</td>\n",
       "      <td>3</td>\n",
       "      <td>-1</td>\n",
       "      <td>0</td>\n",
       "      <td>3.0</td>\n",
       "      <td>0.0</td>\n",
       "    </tr>\n",
       "    <tr>\n",
       "      <th>31645</th>\n",
       "      <td>38556</td>\n",
       "      <td>57</td>\n",
       "      <td>9.0</td>\n",
       "      <td>1.0</td>\n",
       "      <td>1.0</td>\n",
       "      <td>0.0</td>\n",
       "      <td>225</td>\n",
       "      <td>1.0</td>\n",
       "      <td>0.0</td>\n",
       "      <td>1.0</td>\n",
       "      <td>15</td>\n",
       "      <td>8.0</td>\n",
       "      <td>22</td>\n",
       "      <td>7</td>\n",
       "      <td>337</td>\n",
       "      <td>12</td>\n",
       "      <td>0.0</td>\n",
       "      <td>0.0</td>\n",
       "    </tr>\n",
       "    <tr>\n",
       "      <th>31646</th>\n",
       "      <td>14156</td>\n",
       "      <td>55</td>\n",
       "      <td>4.0</td>\n",
       "      <td>0.0</td>\n",
       "      <td>1.0</td>\n",
       "      <td>0.0</td>\n",
       "      <td>204</td>\n",
       "      <td>1.0</td>\n",
       "      <td>0.0</td>\n",
       "      <td>0.0</td>\n",
       "      <td>11</td>\n",
       "      <td>5.0</td>\n",
       "      <td>1973</td>\n",
       "      <td>2</td>\n",
       "      <td>-1</td>\n",
       "      <td>0</td>\n",
       "      <td>3.0</td>\n",
       "      <td>1.0</td>\n",
       "    </tr>\n",
       "  </tbody>\n",
       "</table>\n",
       "<p>31647 rows × 18 columns</p>\n",
       "</div>"
      ],
      "text/plain": [
       "          ID  age   job  marital  education  default  balance  housing  loan  \\\n",
       "0      26110   56   0.0      1.0        3.0      0.0     1933      0.0   0.0   \n",
       "1      40576   31  11.0      1.0        1.0      0.0        3      0.0   0.0   \n",
       "2      15320   27   7.0      1.0        1.0      0.0      891      1.0   0.0   \n",
       "3      43962   57   4.0      0.0        2.0      0.0     3287      0.0   0.0   \n",
       "4      29842   31   9.0      1.0        1.0      0.0      119      1.0   0.0   \n",
       "...      ...  ...   ...      ...        ...      ...      ...      ...   ...   \n",
       "31642  36483   29   4.0      2.0        2.0      0.0        0      1.0   0.0   \n",
       "31643  40178   53   4.0      0.0        2.0      0.0      380      0.0   1.0   \n",
       "31644  19710   32   4.0      2.0        2.0      0.0      312      0.0   0.0   \n",
       "31645  38556   57   9.0      1.0        1.0      0.0      225      1.0   0.0   \n",
       "31646  14156   55   4.0      0.0        1.0      0.0      204      1.0   0.0   \n",
       "\n",
       "       contact  day  month  duration  campaign  pdays  previous  poutcome  \\\n",
       "0          1.0   19    9.0        44         2     -1         0       3.0   \n",
       "1          0.0   20    5.0        91         2     -1         0       3.0   \n",
       "2          0.0   18    5.0       240         1     -1         0       3.0   \n",
       "3          0.0   22    6.0       867         1     84         3       2.0   \n",
       "4          0.0    4    3.0       380         1     -1         0       3.0   \n",
       "...        ...  ...    ...       ...       ...    ...       ...       ...   \n",
       "31642      0.0   12    8.0       116         2     -1         0       3.0   \n",
       "31643      0.0    5    6.0       438         2     -1         0       3.0   \n",
       "31644      0.0    7    1.0        37         3     -1         0       3.0   \n",
       "31645      1.0   15    8.0        22         7    337        12       0.0   \n",
       "31646      0.0   11    5.0      1973         2     -1         0       3.0   \n",
       "\n",
       "       subscribed  \n",
       "0             0.0  \n",
       "1             0.0  \n",
       "2             0.0  \n",
       "3             1.0  \n",
       "4             0.0  \n",
       "...           ...  \n",
       "31642         0.0  \n",
       "31643         1.0  \n",
       "31644         0.0  \n",
       "31645         0.0  \n",
       "31646         1.0  \n",
       "\n",
       "[31647 rows x 18 columns]"
      ]
     },
     "execution_count": 39,
     "metadata": {},
     "output_type": "execute_result"
    }
   ],
   "source": [
    "df"
   ]
  },
  {
   "cell_type": "code",
   "execution_count": 40,
   "id": "94f0eef5",
   "metadata": {},
   "outputs": [
    {
     "name": "stdout",
     "output_type": "stream",
     "text": [
      "<class 'pandas.core.frame.DataFrame'>\n",
      "RangeIndex: 31647 entries, 0 to 31646\n",
      "Data columns (total 18 columns):\n",
      " #   Column      Non-Null Count  Dtype  \n",
      "---  ------      --------------  -----  \n",
      " 0   ID          31647 non-null  int64  \n",
      " 1   age         31647 non-null  int64  \n",
      " 2   job         31647 non-null  float64\n",
      " 3   marital     31647 non-null  float64\n",
      " 4   education   31647 non-null  float64\n",
      " 5   default     31647 non-null  float64\n",
      " 6   balance     31647 non-null  int64  \n",
      " 7   housing     31647 non-null  float64\n",
      " 8   loan        31647 non-null  float64\n",
      " 9   contact     31647 non-null  float64\n",
      " 10  day         31647 non-null  int64  \n",
      " 11  month       31647 non-null  float64\n",
      " 12  duration    31647 non-null  int64  \n",
      " 13  campaign    31647 non-null  int64  \n",
      " 14  pdays       31647 non-null  int64  \n",
      " 15  previous    31647 non-null  int64  \n",
      " 16  poutcome    31647 non-null  float64\n",
      " 17  subscribed  31647 non-null  float64\n",
      "dtypes: float64(10), int64(8)\n",
      "memory usage: 4.3 MB\n"
     ]
    }
   ],
   "source": [
    "df.info()"
   ]
  },
  {
   "cell_type": "code",
   "execution_count": 41,
   "id": "0c3b24c4",
   "metadata": {},
   "outputs": [
    {
     "name": "stdout",
     "output_type": "stream",
     "text": [
      "<class 'pandas.core.frame.DataFrame'>\n",
      "RangeIndex: 31647 entries, 0 to 31646\n",
      "Data columns (total 18 columns):\n",
      " #   Column      Non-Null Count  Dtype  \n",
      "---  ------      --------------  -----  \n",
      " 0   ID          31647 non-null  int64  \n",
      " 1   age         31647 non-null  int64  \n",
      " 2   job         31647 non-null  float64\n",
      " 3   marital     31647 non-null  float64\n",
      " 4   education   31647 non-null  float64\n",
      " 5   default     31647 non-null  float64\n",
      " 6   balance     31647 non-null  int64  \n",
      " 7   housing     31647 non-null  float64\n",
      " 8   loan        31647 non-null  float64\n",
      " 9   contact     31647 non-null  float64\n",
      " 10  day         31647 non-null  int64  \n",
      " 11  month       31647 non-null  float64\n",
      " 12  duration    31647 non-null  int64  \n",
      " 13  campaign    31647 non-null  int64  \n",
      " 14  pdays       31647 non-null  int64  \n",
      " 15  previous    31647 non-null  int64  \n",
      " 16  poutcome    31647 non-null  float64\n",
      " 17  subscribed  31647 non-null  float64\n",
      "dtypes: float64(10), int64(8)\n",
      "memory usage: 4.3 MB\n"
     ]
    }
   ],
   "source": [
    "df.info()"
   ]
  },
  {
   "cell_type": "code",
   "execution_count": 42,
   "id": "77a78578",
   "metadata": {},
   "outputs": [
    {
     "data": {
      "text/plain": [
       "array([0., 1.])"
      ]
     },
     "execution_count": 42,
     "metadata": {},
     "output_type": "execute_result"
    }
   ],
   "source": [
    "df['subscribed'].unique()"
   ]
  },
  {
   "cell_type": "code",
   "execution_count": 43,
   "id": "95d8a3e6",
   "metadata": {},
   "outputs": [
    {
     "data": {
      "text/plain": [
       "2"
      ]
     },
     "execution_count": 43,
     "metadata": {},
     "output_type": "execute_result"
    }
   ],
   "source": [
    "df['subscribed'].nunique()"
   ]
  },
  {
   "cell_type": "code",
   "execution_count": 44,
   "id": "8001a29b",
   "metadata": {},
   "outputs": [
    {
     "data": {
      "text/plain": [
       "array([26110, 40576, 15320, ..., 19710, 38556, 14156], dtype=int64)"
      ]
     },
     "execution_count": 44,
     "metadata": {},
     "output_type": "execute_result"
    }
   ],
   "source": [
    "df['ID'].unique()"
   ]
  },
  {
   "cell_type": "code",
   "execution_count": 45,
   "id": "3764d72e",
   "metadata": {},
   "outputs": [
    {
     "data": {
      "text/plain": [
       "31647"
      ]
     },
     "execution_count": 45,
     "metadata": {},
     "output_type": "execute_result"
    }
   ],
   "source": [
    "df['ID'].nunique()"
   ]
  },
  {
   "cell_type": "markdown",
   "id": "cb25db42",
   "metadata": {},
   "source": [
    "# Cheking Outliers:"
   ]
  },
  {
   "cell_type": "code",
   "execution_count": 46,
   "id": "27fccf87",
   "metadata": {},
   "outputs": [
    {
     "data": {
      "image/png": "[encoded data removed]",
      "text/plain": [
       "<Figure size 2880x8640 with 18 Axes>"
      ]
     },
     "metadata": {
      "needs_background": "light"
     },
     "output_type": "display_data"
    }
   ],
   "source": [
    "collist=df.columns.values\n",
    "ncol=40\n",
    "nrows=50\n",
    "plt.figure(figsize=(ncol,3*ncol))\n",
    "for i in range (0, len(collist)):\n",
    "    plt.subplot(nrows,ncol,i+1)\n",
    "    sns.boxplot(df[collist[i]],color='green',orient='v')\n",
    "    plt.tight_layout()"
   ]
  },
  {
   "cell_type": "markdown",
   "id": "68cab8c3",
   "metadata": {},
   "source": [
    "# Removing Outliers:"
   ]
  },
  {
   "cell_type": "markdown",
   "id": "767f0d22",
   "metadata": {},
   "source": [
    "Z-Score Technique:"
   ]
  },
  {
   "cell_type": "code",
   "execution_count": 47,
   "id": "da82694a",
   "metadata": {},
   "outputs": [
    {
     "data": {
      "text/plain": [
       "(31647, 18)"
      ]
     },
     "execution_count": 47,
     "metadata": {},
     "output_type": "execute_result"
    }
   ],
   "source": [
    "from scipy.stats import zscore\n",
    "import numpy as np\n",
    "z=np.abs(zscore(df))\n",
    "z.shape"
   ]
  },
  {
   "cell_type": "code",
   "execution_count": 48,
   "id": "3f46b719",
   "metadata": {},
   "outputs": [
    {
     "name": "stdout",
     "output_type": "stream",
     "text": [
      "(array([   10,    21,    26, ..., 31622, 31645, 31646], dtype=int64), array([ 5, 13,  6, ..., 14, 15, 12], dtype=int64))\n"
     ]
    }
   ],
   "source": [
    "threshold=3\n",
    "print(np.where(z>3))"
   ]
  },
  {
   "cell_type": "code",
   "execution_count": 49,
   "id": "7ca36b19",
   "metadata": {},
   "outputs": [
    {
     "data": {
      "text/plain": [
       "(27584, 18)"
      ]
     },
     "execution_count": 49,
     "metadata": {},
     "output_type": "execute_result"
    }
   ],
   "source": [
    "df=df[(z<3).all(axis=1)]\n",
    "\"\"\"print(df.shape)\n",
    "print(df_new.shape)\"\"\"\n",
    "df.shape"
   ]
  },
  {
   "cell_type": "code",
   "execution_count": 50,
   "id": "984f02d1",
   "metadata": {},
   "outputs": [],
   "source": [
    "features=df.drop(\"subscribed\",axis=1)\n",
    "target=df[\"subscribed\"]"
   ]
  },
  {
   "cell_type": "code",
   "execution_count": 51,
   "id": "ce1aa68c",
   "metadata": {},
   "outputs": [
    {
     "data": {
      "text/plain": [
       "ID            0.069698\n",
       "age           0.439159\n",
       "job           0.258302\n",
       "marital      -0.095968\n",
       "education     0.197092\n",
       "                ...   \n",
       "campaign      2.064222\n",
       "pdays         2.799415\n",
       "previous      3.657231\n",
       "poutcome     -2.449518\n",
       "subscribed    2.624756\n",
       "Length: 18, dtype: float64"
      ]
     },
     "execution_count": 51,
     "metadata": {},
     "output_type": "execute_result"
    }
   ],
   "source": [
    "df.skew()"
   ]
  },
  {
   "cell_type": "markdown",
   "id": "8bad1248",
   "metadata": {},
   "source": [
    "# Transforming data to remove skewness:"
   ]
  },
  {
   "cell_type": "code",
   "execution_count": 52,
   "id": "1e3369aa",
   "metadata": {},
   "outputs": [],
   "source": [
    "from sklearn.preprocessing import power_transform\n",
    "df=power_transform(df,method='yeo-johnson')"
   ]
  },
  {
   "cell_type": "code",
   "execution_count": 53,
   "id": "321a0138",
   "metadata": {},
   "outputs": [
    {
     "data": {
      "text/plain": [
       "array([[ 0.41705109,  1.41638695, -1.60682351, ..., -0.40614368,\n",
       "         0.4050244 , -0.33758695],\n",
       "       [ 1.32515318, -0.97065514,  1.64175721, ..., -0.40614368,\n",
       "         0.4050244 , -0.33758695],\n",
       "       [-0.37651969, -1.52279707,  0.85225253, ..., -0.40614368,\n",
       "         0.4050244 , -0.33758695],\n",
       "       ...,\n",
       "       [ 1.08096853, -1.23751569,  0.09264005, ..., -0.40614368,\n",
       "         0.4050244 , -0.33758695],\n",
       "       [ 1.30177715,  1.19284141,  0.09264005, ..., -0.40614368,\n",
       "         0.4050244 ,  2.96219985],\n",
       "       [-0.03663593, -0.84341811,  0.09264005, ..., -0.40614368,\n",
       "         0.4050244 , -0.33758695]])"
      ]
     },
     "execution_count": 53,
     "metadata": {},
     "output_type": "execute_result"
    }
   ],
   "source": [
    "df"
   ]
  },
  {
   "cell_type": "code",
   "execution_count": 54,
   "id": "b55bd3ff",
   "metadata": {},
   "outputs": [
    {
     "data": {
      "text/plain": [
       "array([[ 0.41705109,  1.41638695, -1.60682351, ..., -0.40614368,\n",
       "         0.4050244 , -0.33758695],\n",
       "       [ 1.32515318, -0.97065514,  1.64175721, ..., -0.40614368,\n",
       "         0.4050244 , -0.33758695],\n",
       "       [-0.37651969, -1.52279707,  0.85225253, ..., -0.40614368,\n",
       "         0.4050244 , -0.33758695],\n",
       "       ...,\n",
       "       [ 1.08096853, -1.23751569,  0.09264005, ..., -0.40614368,\n",
       "         0.4050244 , -0.33758695],\n",
       "       [ 1.30177715,  1.19284141,  0.09264005, ..., -0.40614368,\n",
       "         0.4050244 ,  2.96219985],\n",
       "       [-0.03663593, -0.84341811,  0.09264005, ..., -0.40614368,\n",
       "         0.4050244 , -0.33758695]])"
      ]
     },
     "execution_count": 54,
     "metadata": {},
     "output_type": "execute_result"
    }
   ],
   "source": [
    "from sklearn.preprocessing import StandardScaler\n",
    "sc=StandardScaler()\n",
    "df=sc.fit_transform(df)\n",
    "df"
   ]
  },
  {
   "cell_type": "code",
   "execution_count": 55,
   "id": "c2545d9c",
   "metadata": {},
   "outputs": [
    {
     "name": "stdout",
     "output_type": "stream",
     "text": [
      "12.83849969981357\n"
     ]
    }
   ],
   "source": [
    "loss_percent=(31647-27584)/31647*100        \n",
    "print(loss_percent)"
   ]
  },
  {
   "cell_type": "code",
   "execution_count": 56,
   "id": "e4762f93",
   "metadata": {},
   "outputs": [],
   "source": [
    "#Oversampling the Data\n",
    "from imblearn.over_sampling import SMOTE\n",
    "SM = SMOTE()\n",
    "features,target = SM.fit_resample(features,target)"
   ]
  },
  {
   "cell_type": "code",
   "execution_count": 57,
   "id": "144cff3f",
   "metadata": {},
   "outputs": [
    {
     "data": {
      "text/plain": [
       "0.0    24762\n",
       "1.0    24762\n",
       "Name: subscribed, dtype: int64"
      ]
     },
     "execution_count": 57,
     "metadata": {},
     "output_type": "execute_result"
    }
   ],
   "source": [
    "#Cheking value count of target column\n",
    "target.value_counts()"
   ]
  },
  {
   "cell_type": "markdown",
   "id": "b1651aa2",
   "metadata": {},
   "source": [
    "# Since the outcome has only two variable we will use Binary Classification model."
   ]
  },
  {
   "cell_type": "code",
   "execution_count": 58,
   "id": "1524e2e3",
   "metadata": {},
   "outputs": [],
   "source": [
    "from sklearn.model_selection import train_test_split\n",
    "from sklearn.linear_model import LogisticRegression\n",
    "lr=LogisticRegression()\n",
    "from sklearn.metrics import classification_report,confusion_matrix,roc_curve,accuracy_score\n"
   ]
  },
  {
   "cell_type": "code",
   "execution_count": 59,
   "id": "7dab93fc",
   "metadata": {},
   "outputs": [
    {
     "name": "stdout",
     "output_type": "stream",
     "text": [
      "At random state 3 The model performs very well\n",
      "At random state:- 3\n",
      "The Training accuracy is:- 79.43663393826195\n",
      "The Testing accuracy is:- 79.39424533064108\n",
      "At random state 19 The model performs very well\n",
      "At random state:- 19\n",
      "The Training accuracy is:- 81.03435220475025\n",
      "The Testing accuracy is:- 81.04997476022211\n",
      "At random state 30 The model performs very well\n",
      "At random state:- 30\n",
      "The Training accuracy is:- 79.52497539059542\n",
      "The Testing accuracy is:- 79.50530035335689\n",
      "At random state 38 The model performs very well\n",
      "At random state:- 38\n",
      "The Training accuracy is:- 79.36091269340469\n",
      "The Testing accuracy is:- 79.40434124179707\n",
      "At random state 46 The model performs very well\n",
      "At random state:- 46\n",
      "The Training accuracy is:- 79.38110502536662\n",
      "The Testing accuracy is:- 79.41443715295306\n",
      "At random state 67 The model performs very well\n",
      "At random state:- 67\n",
      "The Training accuracy is:- 81.0015396653121\n",
      "The Testing accuracy is:- 81.04997476022211\n",
      "At random state 77 The model performs very well\n",
      "At random state:- 77\n",
      "The Training accuracy is:- 79.43158585527146\n",
      "The Testing accuracy is:- 79.43462897526501\n",
      "At random state 115 The model performs very well\n",
      "At random state:- 115\n",
      "The Training accuracy is:- 79.52245134910018\n",
      "The Testing accuracy is:- 79.53558808682484\n",
      "At random state 123 The model performs very well\n",
      "At random state:- 123\n",
      "The Training accuracy is:- 80.97125116736919\n",
      "The Testing accuracy is:- 81.03987884906613\n",
      "At random state 128 The model performs very well\n",
      "At random state:- 128\n",
      "The Training accuracy is:- 81.09492920063606\n",
      "The Testing accuracy is:- 81.07016658253407\n",
      "At random state 140 The model performs very well\n",
      "At random state:- 140\n",
      "The Training accuracy is:- 79.59060046947172\n",
      "The Testing accuracy is:- 79.61635537607269\n",
      "At random state 142 The model performs very well\n",
      "At random state:- 142\n",
      "The Training accuracy is:- 79.4038213988238\n",
      "The Testing accuracy is:- 79.35386168601715\n",
      "At random state 179 The model performs very well\n",
      "At random state:- 179\n",
      "The Training accuracy is:- 79.46692243620485\n",
      "The Testing accuracy is:- 79.46491670873296\n",
      "At random state 181 The model performs very well\n",
      "At random state:- 181\n",
      "The Training accuracy is:- 79.6612736313385\n",
      "The Testing accuracy is:- 79.68702675416456\n",
      "At random state 184 The model performs very well\n",
      "At random state:- 184\n",
      "The Training accuracy is:- 79.45935031171912\n",
      "The Testing accuracy is:- 79.47501261988894\n",
      "At random state 235 The model performs very well\n",
      "At random state:- 235\n",
      "The Training accuracy is:- 79.43158585527146\n",
      "The Testing accuracy is:- 79.37405350832913\n",
      "At random state 241 The model performs very well\n",
      "At random state:- 241\n",
      "The Training accuracy is:- 79.46187435321437\n",
      "The Testing accuracy is:- 79.46491670873296\n",
      "At random state 252 The model performs very well\n",
      "At random state:- 252\n",
      "The Training accuracy is:- 79.50730710012873\n",
      "The Testing accuracy is:- 79.46491670873296\n",
      "At random state 253 The model performs very well\n",
      "At random state:- 253\n",
      "The Training accuracy is:- 81.031828163255\n",
      "The Testing accuracy is:- 81.04997476022211\n",
      "At random state 254 The model performs very well\n",
      "At random state:- 254\n",
      "The Training accuracy is:- 79.50225901713824\n",
      "The Testing accuracy is:- 79.46491670873296\n",
      "At random state 256 The model performs very well\n",
      "At random state:- 256\n",
      "The Training accuracy is:- 79.45682627022389\n",
      "The Testing accuracy is:- 79.54568399798082\n",
      "At random state 269 The model performs very well\n",
      "At random state:- 269\n",
      "The Training accuracy is:- 79.51235518311921\n",
      "The Testing accuracy is:- 79.46491670873296\n",
      "At random state 271 The model performs very well\n",
      "At random state:- 271\n",
      "The Training accuracy is:- 79.44420606274767\n",
      "The Testing accuracy is:- 79.37405350832913\n",
      "At random state 276 The model performs very well\n",
      "At random state:- 276\n",
      "The Training accuracy is:- 81.01668391428355\n",
      "The Testing accuracy is:- 81.00959111559818\n",
      "At random state 279 The model performs very well\n",
      "At random state:- 279\n",
      "The Training accuracy is:- 79.41139352330953\n",
      "The Testing accuracy is:- 79.36395759717314\n",
      "At random state 286 The model performs very well\n",
      "At random state:- 286\n",
      "The Training accuracy is:- 79.4341098967667\n",
      "The Testing accuracy is:- 79.39424533064108\n",
      "At random state 310 The model performs very well\n",
      "At random state:- 310\n",
      "The Training accuracy is:- 79.36343673489992\n",
      "The Testing accuracy is:- 79.38414941948511\n",
      "At random state 316 The model performs very well\n",
      "At random state:- 316\n",
      "The Training accuracy is:- 81.14288598904565\n",
      "The Testing accuracy is:- 81.07016658253407\n",
      "At random state 321 The model performs very well\n",
      "At random state:- 321\n",
      "The Training accuracy is:- 79.82786037002448\n",
      "The Testing accuracy is:- 79.80817768803634\n",
      "At random state 329 The model performs very well\n",
      "At random state:- 329\n",
      "The Training accuracy is:- 80.70117872737828\n",
      "The Testing accuracy is:- 80.68652195860676\n",
      "At random state 335 The model performs very well\n",
      "At random state:- 335\n",
      "The Training accuracy is:- 79.45430222872864\n",
      "The Testing accuracy is:- 79.46491670873296\n",
      "At random state 337 The model performs very well\n",
      "At random state:- 337\n",
      "The Training accuracy is:- 80.96872712587395\n",
      "The Testing accuracy is:- 81.02978293791014\n",
      "At random state 341 The model performs very well\n",
      "At random state:- 341\n",
      "The Training accuracy is:- 81.01668391428355\n",
      "The Testing accuracy is:- 81.04997476022211\n",
      "At random state 388 The model performs very well\n",
      "At random state:- 388\n",
      "The Training accuracy is:- 80.67593831242586\n",
      "The Testing accuracy is:- 80.7168096920747\n",
      "At random state 408 The model performs very well\n",
      "At random state:- 408\n",
      "The Training accuracy is:- 80.79961634569273\n",
      "The Testing accuracy is:- 80.84805653710248\n",
      "At random state 411 The model performs very well\n",
      "At random state:- 411\n",
      "The Training accuracy is:- 79.4820666851763\n",
      "The Testing accuracy is:- 79.54568399798082\n",
      "At random state 425 The model performs very well\n",
      "At random state:- 425\n",
      "The Training accuracy is:- 79.46187435321437\n",
      "The Testing accuracy is:- 79.48510853104493\n",
      "At random state 444 The model performs very well\n",
      "At random state:- 444\n",
      "The Training accuracy is:- 80.74156339130215\n",
      "The Testing accuracy is:- 80.74709742554266\n",
      "At random state 457 The model performs very well\n",
      "At random state:- 457\n",
      "The Training accuracy is:- 78.79552739847043\n",
      "The Testing accuracy is:- 78.7783947501262\n",
      "At random state 461 The model performs very well\n",
      "At random state:- 461\n",
      "The Training accuracy is:- 80.96872712587395\n",
      "The Testing accuracy is:- 81.02978293791014\n",
      "At random state 462 The model performs very well\n",
      "At random state:- 462\n",
      "The Training accuracy is:- 79.50225901713824\n",
      "The Testing accuracy is:- 79.52549217566886\n",
      "At random state 467 The model performs very well\n",
      "At random state:- 467\n",
      "The Training accuracy is:- 79.50730710012873\n",
      "The Testing accuracy is:- 79.50530035335689\n",
      "At random state 481 The model performs very well\n",
      "At random state:- 481\n",
      "The Training accuracy is:- 81.0141598727883\n",
      "The Testing accuracy is:- 80.95911155981827\n",
      "At random state 482 The model performs very well\n",
      "At random state:- 482\n",
      "The Training accuracy is:- 79.4820666851763\n",
      "The Testing accuracy is:- 79.53558808682484\n",
      "At random state 490 The model performs very well\n",
      "At random state:- 490\n",
      "The Training accuracy is:- 79.60826875993841\n",
      "The Testing accuracy is:- 79.57597173144876\n",
      "At random state 506 The model performs very well\n",
      "At random state:- 506\n",
      "The Training accuracy is:- 79.60069663545268\n",
      "The Testing accuracy is:- 79.56587582029279\n",
      "At random state 522 The model performs very well\n",
      "At random state:- 522\n",
      "The Training accuracy is:- 79.43663393826195\n",
      "The Testing accuracy is:- 79.41443715295306\n",
      "At random state 529 The model performs very well\n",
      "At random state:- 529\n",
      "The Training accuracy is:- 78.8838688508039\n",
      "The Testing accuracy is:- 78.89954568399799\n",
      "At random state 538 The model performs very well\n",
      "At random state:- 538\n",
      "The Training accuracy is:- 79.44168202125242\n",
      "The Testing accuracy is:- 79.36395759717314\n",
      "At random state 539 The model performs very well\n",
      "At random state:- 539\n",
      "The Training accuracy is:- 79.50983114162396\n",
      "The Testing accuracy is:- 79.48510853104493\n",
      "At random state 540 The model performs very well\n",
      "At random state:- 540\n",
      "The Training accuracy is:- 80.99396754082638\n",
      "The Testing accuracy is:- 80.97930338213024\n",
      "At random state 544 The model performs very well\n",
      "At random state:- 544\n",
      "The Training accuracy is:- 80.98891945783589\n",
      "The Testing accuracy is:- 81.03987884906613\n",
      "At random state 545 The model performs very well\n",
      "At random state:- 545\n",
      "The Training accuracy is:- 79.44420606274767\n",
      "The Testing accuracy is:- 79.39424533064108\n",
      "At random state 553 The model performs very well\n",
      "At random state:- 553\n",
      "The Training accuracy is:- 80.85262121709282\n",
      "The Testing accuracy is:- 80.8884401817264\n",
      "At random state 556 The model performs very well\n",
      "At random state:- 556\n",
      "The Training accuracy is:- 79.44673010424292\n",
      "The Testing accuracy is:- 79.444724886421\n",
      "At random state 562 The model performs very well\n",
      "At random state:- 562\n",
      "The Training accuracy is:- 79.5174032661097\n",
      "The Testing accuracy is:- 79.48510853104493\n",
      "At random state 564 The model performs very well\n",
      "At random state:- 564\n",
      "The Training accuracy is:- 80.72389510083546\n",
      "The Testing accuracy is:- 80.7168096920747\n",
      "At random state 571 The model performs very well\n",
      "At random state:- 571\n",
      "The Training accuracy is:- 79.4820666851763\n",
      "The Testing accuracy is:- 79.45482079757699\n",
      "At random state 639 The model performs very well\n",
      "At random state:- 639\n",
      "The Training accuracy is:- 80.99649158232161\n",
      "The Testing accuracy is:- 80.96920747097425\n",
      "At random state 652 The model performs very well\n",
      "At random state:- 652\n",
      "The Training accuracy is:- 79.43663393826195\n",
      "The Testing accuracy is:- 79.40434124179707\n",
      "At random state 679 The model performs very well\n",
      "At random state:- 679\n",
      "The Training accuracy is:- 79.39877331583331\n",
      "The Testing accuracy is:- 79.43462897526501\n",
      "At random state 685 The model performs very well\n",
      "At random state:- 685\n",
      "The Training accuracy is:- 79.94649032030087\n",
      "The Testing accuracy is:- 79.93942453306411\n",
      "At random state 722 The model performs very well\n",
      "At random state:- 722\n",
      "The Training accuracy is:- 79.54011963956688\n",
      "The Testing accuracy is:- 79.47501261988894\n",
      "At random state 730 The model performs very well\n",
      "At random state:- 730\n",
      "The Training accuracy is:- 79.41896564779525\n",
      "The Testing accuracy is:- 79.42453306410904\n",
      "At random state 744 The model performs very well\n",
      "At random state:- 744\n",
      "The Training accuracy is:- 79.57293217900502\n",
      "The Testing accuracy is:- 79.5557799091368\n",
      "At random state 762 The model performs very well\n",
      "At random state:- 762\n",
      "The Training accuracy is:- 81.00911178979783\n",
      "The Testing accuracy is:- 80.98939929328623\n",
      "At random state 767 The model performs very well\n",
      "At random state:- 767\n",
      "The Training accuracy is:- 80.54216411317802\n",
      "The Testing accuracy is:- 80.48460373548713\n",
      "At random state 771 The model performs very well\n",
      "At random state:- 771\n",
      "The Training accuracy is:- 79.4164416063\n",
      "The Testing accuracy is:- 79.444724886421\n",
      "At random state 793 The model performs very well\n",
      "At random state:- 793\n",
      "The Training accuracy is:- 81.08988111764558\n",
      "The Testing accuracy is:- 81.10045431600203\n",
      "At random state 799 The model performs very well\n",
      "At random state:- 799\n",
      "The Training accuracy is:- 80.99901562381685\n",
      "The Testing accuracy is:- 80.9994952044422\n",
      "At random state 819 The model performs very well\n",
      "At random state:- 819\n",
      "The Training accuracy is:- 79.26752315808072\n",
      "The Testing accuracy is:- 79.26299848561332\n",
      "At random state 841 The model performs very well\n",
      "At random state:- 841\n",
      "The Training accuracy is:- 79.43158585527146\n",
      "The Testing accuracy is:- 79.42453306410904\n",
      "At random state 853 The model performs very well\n",
      "At random state:- 853\n",
      "The Training accuracy is:- 79.41391756480478\n",
      "The Testing accuracy is:- 79.39424533064108\n",
      "At random state 861 The model performs very well\n",
      "At random state:- 861\n",
      "The Training accuracy is:- 79.44673010424292\n",
      "The Testing accuracy is:- 79.39424533064108\n",
      "At random state 876 The model performs very well\n",
      "At random state:- 876\n",
      "The Training accuracy is:- 79.4038213988238\n",
      "The Testing accuracy is:- 79.36395759717314\n",
      "At random state 905 The model performs very well\n",
      "At random state:- 905\n",
      "The Training accuracy is:- 79.43663393826195\n",
      "The Testing accuracy is:- 79.37405350832913\n",
      "At random state 911 The model performs very well\n",
      "At random state:- 911\n",
      "The Training accuracy is:- 79.51235518311921\n",
      "The Testing accuracy is:- 79.51539626451287\n",
      "At random state 933 The model performs very well\n",
      "At random state:- 933\n",
      "The Training accuracy is:- 79.0756960044423\n",
      "The Testing accuracy is:- 79.07117617364968\n",
      "At random state 948 The model performs very well\n",
      "At random state:- 948\n",
      "The Training accuracy is:- 79.45682627022389\n",
      "The Testing accuracy is:- 79.47501261988894\n",
      "At random state 952 The model performs very well\n",
      "At random state:- 952\n",
      "The Training accuracy is:- 79.48711476816679\n",
      "The Testing accuracy is:- 79.50530035335689\n",
      "At random state 956 The model performs very well\n",
      "At random state:- 956\n",
      "The Training accuracy is:- 79.33567227845226\n",
      "The Testing accuracy is:- 79.34376577486118\n",
      "At random state 993 The model performs very well\n",
      "At random state:- 993\n",
      "The Training accuracy is:- 79.47449456069057\n",
      "The Testing accuracy is:- 79.47501261988894\n",
      "At random state 996 The model performs very well\n",
      "At random state:- 996\n",
      "The Training accuracy is:- 80.98134733335016\n",
      "The Testing accuracy is:- 80.95911155981827\n"
     ]
    }
   ],
   "source": [
    "for i in range(0,1000):\n",
    "    features_train,features_test,target_train,target_test=train_test_split(features,target,random_state=i,test_size=0.20)\n",
    "    lr.fit(features_train,target_train)\n",
    "    pred_train=lr.predict(features_train)\n",
    "    pred_test=lr.predict(features_test)\n",
    "    if round(accuracy_score(target_train,pred_train)*100,1) == round(accuracy_score(target_test,pred_test)*100,1):\n",
    "        \n",
    "        print(\"At random state\",i,\"The model performs very well\")\n",
    "        print(\"At random state:-\",i)\n",
    "        print(\"The Training accuracy is:-\",accuracy_score(target_train, pred_train)*100)\n",
    "        print(\"The Testing accuracy is:-\",accuracy_score(target_test, pred_test)*100)\n",
    "    \n"
   ]
  },
  {
   "cell_type": "code",
   "execution_count": 60,
   "id": "abfc15a1",
   "metadata": {},
   "outputs": [],
   "source": [
    "features_train,features_test,target_train,target_test=train_test_split(features,target,test_size=0.2,random_state=832)"
   ]
  },
  {
   "cell_type": "code",
   "execution_count": 61,
   "id": "70a92c97",
   "metadata": {},
   "outputs": [
    {
     "name": "stdout",
     "output_type": "stream",
     "text": [
      "              precision    recall  f1-score   support\n",
      "\n",
      "         0.0       0.50      0.45      0.48      4958\n",
      "         1.0       0.50      0.55      0.52      4947\n",
      "\n",
      "    accuracy                           0.50      9905\n",
      "   macro avg       0.50      0.50      0.50      9905\n",
      "weighted avg       0.50      0.50      0.50      9905\n",
      "\n"
     ]
    }
   ],
   "source": [
    "from sklearn.metrics import classification_report\n",
    "print(classification_report(target_test,pred_test))"
   ]
  },
  {
   "cell_type": "markdown",
   "id": "159f2dbe",
   "metadata": {},
   "source": [
    "# Cross Validation Score for Logistics Regression:"
   ]
  },
  {
   "cell_type": "code",
   "execution_count": 62,
   "id": "2362f1eb",
   "metadata": {},
   "outputs": [
    {
     "name": "stdout",
     "output_type": "stream",
     "text": [
      "At cv:- 2\n",
      "cross validation score is :- 80.20353767870122\n",
      "accuracy score is :- 80.20353767870122\n",
      "\n",
      "\n",
      "At cv:- 3\n",
      "cross validation score is :- 80.53065180518537\n",
      "accuracy score is :- 80.53065180518537\n",
      "\n",
      "\n",
      "At cv:- 4\n",
      "cross validation score is :- 79.50690574267021\n",
      "accuracy score is :- 79.50690574267021\n",
      "\n",
      "\n",
      "At cv:- 5\n",
      "cross validation score is :- 79.66439066935564\n",
      "accuracy score is :- 79.66439066935564\n",
      "\n",
      "\n",
      "At cv:- 6\n",
      "cross validation score is :- 79.51902108068815\n",
      "accuracy score is :- 79.51902108068815\n",
      "\n",
      "\n",
      "At cv:- 7\n",
      "cross validation score is :- 80.02582749293293\n",
      "accuracy score is :- 80.02582749293293\n",
      "\n",
      "\n",
      "At cv:- 8\n",
      "cross validation score is :- 79.74515223385659\n",
      "accuracy score is :- 79.74515223385659\n",
      "\n",
      "\n",
      "At cv:- 9\n",
      "cross validation score is :- 79.91476870284127\n",
      "accuracy score is :- 79.91476870284127\n",
      "\n",
      "\n"
     ]
    }
   ],
   "source": [
    "pred_lr = lr.predict(features_test)\n",
    "from sklearn.model_selection import cross_val_score\n",
    "lss = accuracy_score(target_test,pred_lr)\n",
    "for j in range(2,10):\n",
    "    lsscore = cross_val_score(lr,features,target,cv=j)\n",
    "    lsc = lsscore.mean()\n",
    "    print(\"At cv:-\",j)\n",
    "    print(\"cross validation score is :-\",lsc*100)\n",
    "    print(\"accuracy score is :-\",lsc*100)\n",
    "    print(\"\\n\")\n",
    "    "
   ]
  },
  {
   "cell_type": "code",
   "execution_count": 63,
   "id": "2eb03fcb",
   "metadata": {},
   "outputs": [
    {
     "name": "stdout",
     "output_type": "stream",
     "text": [
      "The cv score is:  0.7966439066935564 \n",
      "The accuracy score is:  0.8077738515901061\n"
     ]
    }
   ],
   "source": [
    "lsscore_selected = cross_val_score(lr,features,target,cv=5).mean()\n",
    "print(\"The cv score is: \",lsscore_selected,\"\\nThe accuracy score is: \",lss)"
   ]
  },
  {
   "cell_type": "code",
   "execution_count": 64,
   "id": "2995cdba",
   "metadata": {},
   "outputs": [
    {
     "name": "stdout",
     "output_type": "stream",
     "text": [
      "0.9573952549217567\n",
      "[[4709  249]\n",
      " [ 173 4774]]\n",
      "              precision    recall  f1-score   support\n",
      "\n",
      "         0.0       0.96      0.95      0.96      4958\n",
      "         1.0       0.95      0.97      0.96      4947\n",
      "\n",
      "    accuracy                           0.96      9905\n",
      "   macro avg       0.96      0.96      0.96      9905\n",
      "weighted avg       0.96      0.96      0.96      9905\n",
      "\n"
     ]
    }
   ],
   "source": [
    "from sklearn.ensemble import GradientBoostingClassifier,AdaBoostClassifier,BaggingClassifier\n",
    "from sklearn.ensemble import RandomForestClassifier,ExtraTreesClassifier\n",
    "RFC = RandomForestClassifier()\n",
    "RFC.fit(features_train,target_train)\n",
    "predRFC = RFC.predict(features_test)\n",
    "print(accuracy_score(target_test,predRFC))\n",
    "print(confusion_matrix(target_test,predRFC))\n",
    "print(classification_report(target_test,predRFC))\n"
   ]
  },
  {
   "cell_type": "code",
   "execution_count": 65,
   "id": "e9ff2c49",
   "metadata": {},
   "outputs": [
    {
     "name": "stdout",
     "output_type": "stream",
     "text": [
      "[0.83472993 0.97082282 0.97183241 0.97334679 0.97081987]\n",
      "0.9443103648636196\n",
      "Difference between Accuracy score and cross validation score is -  0.013084890058137066\n"
     ]
    }
   ],
   "source": [
    "#Cheking cv score for Random Forest Classifier\n",
    "score = cross_val_score(RFC,features,target,cv=5)\n",
    "print(score)\n",
    "print(score.mean())\n",
    "print(\"Difference between Accuracy score and cross validation score is - \",accuracy_score(target_test,predRFC) - score.mean()) "
   ]
  },
  {
   "cell_type": "code",
   "execution_count": 66,
   "id": "d836001a",
   "metadata": {},
   "outputs": [
    {
     "name": "stdout",
     "output_type": "stream",
     "text": [
      "0.8120141342756184\n",
      "[[4002  956]\n",
      " [ 906 4041]]\n",
      "              precision    recall  f1-score   support\n",
      "\n",
      "         0.0       0.82      0.81      0.81      4958\n",
      "         1.0       0.81      0.82      0.81      4947\n",
      "\n",
      "    accuracy                           0.81      9905\n",
      "   macro avg       0.81      0.81      0.81      9905\n",
      "weighted avg       0.81      0.81      0.81      9905\n",
      "\n"
     ]
    }
   ],
   "source": [
    "from sklearn.svm import SVC\n",
    "svc = SVC()\n",
    "svc.fit(features_train,target_train)\n",
    "predsvc = svc.predict(features_test)\n",
    "print(accuracy_score(target_test,predsvc))\n",
    "print(confusion_matrix(target_test,predsvc))\n",
    "print(classification_report(target_test,predsvc))"
   ]
  },
  {
   "cell_type": "code",
   "execution_count": 67,
   "id": "70fff667",
   "metadata": {},
   "outputs": [
    {
     "name": "stdout",
     "output_type": "stream",
     "text": [
      "[0.81070167 0.81070167 0.8160525  0.81393236 0.80916801]\n",
      "0.8121112401416039\n",
      "Difference between Accuracy score and cross validation score is -  -9.710586598543625e-05\n"
     ]
    }
   ],
   "source": [
    "#Cheking cv score for Support Vector Machine Classifier\n",
    "score = cross_val_score(svc,features,target,cv=5)\n",
    "print(score)\n",
    "print(score.mean())\n",
    "print(\"Difference between Accuracy score and cross validation score is - \",accuracy_score(target_test,predsvc) - score.mean())"
   ]
  },
  {
   "cell_type": "code",
   "execution_count": 68,
   "id": "745b7c42",
   "metadata": {},
   "outputs": [
    {
     "name": "stdout",
     "output_type": "stream",
     "text": [
      "0.9395254921756688\n",
      "[[4618  340]\n",
      " [ 259 4688]]\n",
      "              precision    recall  f1-score   support\n",
      "\n",
      "         0.0       0.95      0.93      0.94      4958\n",
      "         1.0       0.93      0.95      0.94      4947\n",
      "\n",
      "    accuracy                           0.94      9905\n",
      "   macro avg       0.94      0.94      0.94      9905\n",
      "weighted avg       0.94      0.94      0.94      9905\n",
      "\n"
     ]
    }
   ],
   "source": [
    "#Cheking accuracy for Gradient Boosting Classifier\n",
    "GB = GradientBoostingClassifier()\n",
    "GB.fit(features_train,target_train)\n",
    "predGB = GB.predict(features_test)\n",
    "print(accuracy_score(target_test,predGB))\n",
    "print(confusion_matrix(target_test,predGB))\n",
    "print(classification_report(target_test,predGB))"
   ]
  },
  {
   "cell_type": "code",
   "execution_count": 69,
   "id": "7915c77c",
   "metadata": {},
   "outputs": [
    {
     "name": "stdout",
     "output_type": "stream",
     "text": [
      "[0.79141848 0.95295305 0.95466936 0.95557799 0.95415994]\n",
      "0.9217557629467013\n",
      "Difference between Accuracy score and cross validation score is -  0.01776972922896758\n"
     ]
    }
   ],
   "source": [
    "#Cheking cv score for Gradient Boosting Classifier\n",
    "score = cross_val_score(GB,features,target,cv=5)\n",
    "print(score)\n",
    "print(score.mean())\n",
    "print(\"Difference between Accuracy score and cross validation score is - \",accuracy_score(target_test,predGB) - score.mean())"
   ]
  },
  {
   "cell_type": "code",
   "execution_count": 70,
   "id": "e1f9f207",
   "metadata": {},
   "outputs": [
    {
     "name": "stdout",
     "output_type": "stream",
     "text": [
      "0.9654719838465422\n",
      "[[4711  247]\n",
      " [  95 4852]]\n",
      "              precision    recall  f1-score   support\n",
      "\n",
      "         0.0       0.98      0.95      0.96      4958\n",
      "         1.0       0.95      0.98      0.97      4947\n",
      "\n",
      "    accuracy                           0.97      9905\n",
      "   macro avg       0.97      0.97      0.97      9905\n",
      "weighted avg       0.97      0.97      0.97      9905\n",
      "\n"
     ]
    }
   ],
   "source": [
    "#Cheking accuracy for ExtraTressClassifier\n",
    "ET = ExtraTreesClassifier()\n",
    "ET.fit(features_train,target_train)\n",
    "predET = ET.predict(features_test)\n",
    "print(accuracy_score(target_test,predET))\n",
    "print(confusion_matrix(target_test,predET))\n",
    "print(classification_report(target_test,predET))"
   ]
  },
  {
   "cell_type": "code",
   "execution_count": 71,
   "id": "6e6065f9",
   "metadata": {},
   "outputs": [
    {
     "name": "stdout",
     "output_type": "stream",
     "text": [
      "[0.92498738 0.97132761 0.97152953 0.97385159 0.97092084]\n",
      "0.962523390627765\n",
      "Difference between Accuracy score and cross validation score is -  0.0029485932187771624\n"
     ]
    }
   ],
   "source": [
    "#Cheking cv score for ExtraTreesClassifier\n",
    "score = cross_val_score(ET,features,target,cv=5)\n",
    "print(score)\n",
    "print(score.mean())\n",
    "print(\"Difference between Accuracy score and cross validation score is - \",accuracy_score(target_test,predET) - score.mean())"
   ]
  },
  {
   "cell_type": "markdown",
   "id": "59b29c07",
   "metadata": {},
   "source": [
    "# Hyper Parameter Tuning"
   ]
  },
  {
   "cell_type": "code",
   "execution_count": 72,
   "id": "4af44771",
   "metadata": {},
   "outputs": [],
   "source": [
    "# Extra Trees Classifier\n",
    "from sklearn.model_selection import GridSearchCV\n",
    "\n",
    "parameters = {'criterion' : ['gini','entropy'],\n",
    "             'random_state' : [10, 50, 1000],\n",
    "             'max_depth' : [0, 10, 20],\n",
    "             'n_jobs' : [-2, -1, 1],\n",
    "             'n_estimators' : [50, 100, 200, 300]}"
   ]
  },
  {
   "cell_type": "code",
   "execution_count": 73,
   "id": "8f6b3e28",
   "metadata": {},
   "outputs": [],
   "source": [
    "GCV = GridSearchCV(ExtraTreesClassifier(), parameters, cv=5)"
   ]
  },
  {
   "cell_type": "code",
   "execution_count": 74,
   "id": "7e933ca5",
   "metadata": {},
   "outputs": [
    {
     "data": {
      "text/html": [
       "<style>#sk-container-id-1 {color: black;background-color: white;}#sk-container-id-1 pre{padding: 0;}#sk-container-id-1 div.sk-toggleable {background-color: white;}#sk-container-id-1 label.sk-toggleable__label {cursor: pointer;display: block;width: 100%;margin-bottom: 0;padding: 0.3em;box-sizing: border-box;text-align: center;}#sk-container-id-1 label.sk-toggleable__label-arrow:before {content: \"▸\";float: left;margin-right: 0.25em;color: #696969;}#sk-container-id-1 label.sk-toggleable__label-arrow:hover:before {color: black;}#sk-container-id-1 div.sk-estimator:hover label.sk-toggleable__label-arrow:before {color: black;}#sk-container-id-1 div.sk-toggleable__content {max-height: 0;max-width: 0;overflow: hidden;text-align: left;background-color: #f0f8ff;}#sk-container-id-1 div.sk-toggleable__content pre {margin: 0.2em;color: black;border-radius: 0.25em;background-color: #f0f8ff;}#sk-container-id-1 input.sk-toggleable__control:checked~div.sk-toggleable__content {max-height: 200px;max-width: 100%;overflow: auto;}#sk-container-id-1 input.sk-toggleable__control:checked~label.sk-toggleable__label-arrow:before {content: \"▾\";}#sk-container-id-1 div.sk-estimator input.sk-toggleable__control:checked~label.sk-toggleable__label {background-color: #d4ebff;}#sk-container-id-1 div.sk-label input.sk-toggleable__control:checked~label.sk-toggleable__label {background-color: #d4ebff;}#sk-container-id-1 input.sk-hidden--visually {border: 0;clip: rect(1px 1px 1px 1px);clip: rect(1px, 1px, 1px, 1px);height: 1px;margin: -1px;overflow: hidden;padding: 0;position: absolute;width: 1px;}#sk-container-id-1 div.sk-estimator {font-family: monospace;background-color: #f0f8ff;border: 1px dotted black;border-radius: 0.25em;box-sizing: border-box;margin-bottom: 0.5em;}#sk-container-id-1 div.sk-estimator:hover {background-color: #d4ebff;}#sk-container-id-1 div.sk-parallel-item::after {content: \"\";width: 100%;border-bottom: 1px solid gray;flex-grow: 1;}#sk-container-id-1 div.sk-label:hover label.sk-toggleable__label {background-color: #d4ebff;}#sk-container-id-1 div.sk-serial::before {content: \"\";position: absolute;border-left: 1px solid gray;box-sizing: border-box;top: 0;bottom: 0;left: 50%;z-index: 0;}#sk-container-id-1 div.sk-serial {display: flex;flex-direction: column;align-items: center;background-color: white;padding-right: 0.2em;padding-left: 0.2em;position: relative;}#sk-container-id-1 div.sk-item {position: relative;z-index: 1;}#sk-container-id-1 div.sk-parallel {display: flex;align-items: stretch;justify-content: center;background-color: white;position: relative;}#sk-container-id-1 div.sk-item::before, #sk-container-id-1 div.sk-parallel-item::before {content: \"\";position: absolute;border-left: 1px solid gray;box-sizing: border-box;top: 0;bottom: 0;left: 50%;z-index: -1;}#sk-container-id-1 div.sk-parallel-item {display: flex;flex-direction: column;z-index: 1;position: relative;background-color: white;}#sk-container-id-1 div.sk-parallel-item:first-child::after {align-self: flex-end;width: 50%;}#sk-container-id-1 div.sk-parallel-item:last-child::after {align-self: flex-start;width: 50%;}#sk-container-id-1 div.sk-parallel-item:only-child::after {width: 0;}#sk-container-id-1 div.sk-dashed-wrapped {border: 1px dashed gray;margin: 0 0.4em 0.5em 0.4em;box-sizing: border-box;padding-bottom: 0.4em;background-color: white;}#sk-container-id-1 div.sk-label label {font-family: monospace;font-weight: bold;display: inline-block;line-height: 1.2em;}#sk-container-id-1 div.sk-label-container {text-align: center;}#sk-container-id-1 div.sk-container {/* jupyter's `normalize.less` sets `[hidden] { display: none; }` but bootstrap.min.css set `[hidden] { display: none !important; }` so we also need the `!important` here to be able to override the default hidden behavior on the sphinx rendered scikit-learn.org. See: https://github.com/scikit-learn/scikit-learn/issues/21755 */display: inline-block !important;position: relative;}#sk-container-id-1 div.sk-text-repr-fallback {display: none;}</style><div id=\"sk-container-id-1\" class=\"sk-top-container\"><div class=\"sk-text-repr-fallback\"><pre>GridSearchCV(cv=5, estimator=ExtraTreesClassifier(),\n",
       "             param_grid={&#x27;criterion&#x27;: [&#x27;gini&#x27;, &#x27;entropy&#x27;],\n",
       "                         &#x27;max_depth&#x27;: [0, 10, 20],\n",
       "                         &#x27;n_estimators&#x27;: [50, 100, 200, 300],\n",
       "                         &#x27;n_jobs&#x27;: [-2, -1, 1],\n",
       "                         &#x27;random_state&#x27;: [10, 50, 1000]})</pre><b>In a Jupyter environment, please rerun this cell to show the HTML representation or trust the notebook. <br />On GitHub, the HTML representation is unable to render, please try loading this page with nbviewer.org.</b></div><div class=\"sk-container\" hidden><div class=\"sk-item sk-dashed-wrapped\"><div class=\"sk-label-container\"><div class=\"sk-label sk-toggleable\"><input class=\"sk-toggleable__control sk-hidden--visually\" id=\"sk-estimator-id-1\" type=\"checkbox\" ><label for=\"sk-estimator-id-1\" class=\"sk-toggleable__label sk-toggleable__label-arrow\">GridSearchCV</label><div class=\"sk-toggleable__content\"><pre>GridSearchCV(cv=5, estimator=ExtraTreesClassifier(),\n",
       "             param_grid={&#x27;criterion&#x27;: [&#x27;gini&#x27;, &#x27;entropy&#x27;],\n",
       "                         &#x27;max_depth&#x27;: [0, 10, 20],\n",
       "                         &#x27;n_estimators&#x27;: [50, 100, 200, 300],\n",
       "                         &#x27;n_jobs&#x27;: [-2, -1, 1],\n",
       "                         &#x27;random_state&#x27;: [10, 50, 1000]})</pre></div></div></div><div class=\"sk-parallel\"><div class=\"sk-parallel-item\"><div class=\"sk-item\"><div class=\"sk-label-container\"><div class=\"sk-label sk-toggleable\"><input class=\"sk-toggleable__control sk-hidden--visually\" id=\"sk-estimator-id-2\" type=\"checkbox\" ><label for=\"sk-estimator-id-2\" class=\"sk-toggleable__label sk-toggleable__label-arrow\">estimator: ExtraTreesClassifier</label><div class=\"sk-toggleable__content\"><pre>ExtraTreesClassifier()</pre></div></div></div><div class=\"sk-serial\"><div class=\"sk-item\"><div class=\"sk-estimator sk-toggleable\"><input class=\"sk-toggleable__control sk-hidden--visually\" id=\"sk-estimator-id-3\" type=\"checkbox\" ><label for=\"sk-estimator-id-3\" class=\"sk-toggleable__label sk-toggleable__label-arrow\">ExtraTreesClassifier</label><div class=\"sk-toggleable__content\"><pre>ExtraTreesClassifier()</pre></div></div></div></div></div></div></div></div></div></div>"
      ],
      "text/plain": [
       "GridSearchCV(cv=5, estimator=ExtraTreesClassifier(),\n",
       "             param_grid={'criterion': ['gini', 'entropy'],\n",
       "                         'max_depth': [0, 10, 20],\n",
       "                         'n_estimators': [50, 100, 200, 300],\n",
       "                         'n_jobs': [-2, -1, 1],\n",
       "                         'random_state': [10, 50, 1000]})"
      ]
     },
     "execution_count": 74,
     "metadata": {},
     "output_type": "execute_result"
    }
   ],
   "source": [
    "GCV.fit(features_train, target_train)"
   ]
  },
  {
   "cell_type": "code",
   "execution_count": 75,
   "id": "5b28ec77",
   "metadata": {},
   "outputs": [
    {
     "data": {
      "text/plain": [
       "{'criterion': 'gini',\n",
       " 'max_depth': 20,\n",
       " 'n_estimators': 100,\n",
       " 'n_jobs': -2,\n",
       " 'random_state': 10}"
      ]
     },
     "execution_count": 75,
     "metadata": {},
     "output_type": "execute_result"
    }
   ],
   "source": [
    "GCV.best_params_"
   ]
  },
  {
   "cell_type": "code",
   "execution_count": 76,
   "id": "15695171",
   "metadata": {},
   "outputs": [
    {
     "name": "stdout",
     "output_type": "stream",
     "text": [
      "95.2751135790005\n"
     ]
    }
   ],
   "source": [
    "Final_model = ExtraTreesClassifier(criterion = 'gini', max_depth = 20, n_estimators = 100, n_jobs =  -2, random_state =  10  )\n",
    "Final_model.fit(features_train, target_train)\n",
    "pred = Final_model.predict(features_test)\n",
    "acc = accuracy_score(target_test, pred)\n",
    "print(acc*100)\n"
   ]
  },
  {
   "cell_type": "markdown",
   "id": "40d37388",
   "metadata": {},
   "source": [
    "# AUC ROC Curve:"
   ]
  },
  {
   "cell_type": "code",
   "execution_count": 77,
   "id": "0f3b706e",
   "metadata": {},
   "outputs": [
    {
     "data": {
      "image/png": "[encoded data removed]",
      "text/plain": [
       "<Figure size 432x288 with 1 Axes>"
      ]
     },
     "metadata": {
      "needs_background": "light"
     },
     "output_type": "display_data"
    }
   ],
   "source": [
    "from sklearn.metrics import roc_curve,auc\n",
    "fpr, tpr, thresholds = roc_curve(pred_test, target_test)\n",
    "roc_auc = auc(fpr, tpr)\n",
    "\n",
    "plt.figure()\n",
    "plt.plot(fpr, tpr, color='darkorange', lw=10, label = 'ROC curve(area = %0.2f)' % roc_auc)\n",
    "plt.plot([0,1], [0,1], color= 'navy', lw=10, linestyle='--')\n",
    "plt.xlim([0.0, 1.0])\n",
    "plt.ylim([0.0, 1.05])\n",
    "plt.xlabel('False Positive Rate')\n",
    "plt.ylabel('True Positive Rate')\n",
    "plt.title('Receiver operating characteristic')\n",
    "plt.legend(loc = \"lower right\")\n",
    "plt.show()"
   ]
  },
  {
   "cell_type": "code",
   "execution_count": 78,
   "id": "727f6dcd",
   "metadata": {},
   "outputs": [
    {
     "data": {
      "image/png": "[encoded data removed]",
      "text/plain": [
       "<Figure size 432x288 with 1 Axes>"
      ]
     },
     "metadata": {
      "needs_background": "light"
     },
     "output_type": "display_data"
    }
   ],
   "source": [
    "from sklearn import datasets\n",
    "from sklearn import metrics\n",
    "from sklearn import model_selection\n",
    "from sklearn.metrics import plot_roc_curve\n",
    "\n",
    "disp = plot_roc_curve(ET, features_test, target_test)\n",
    "plot_roc_curve(RFC, features_test,  target_test,  ax=disp.ax_)\n",
    "\n",
    "plot_roc_curve(svc, features_test,  target_test,  ax=disp.ax_)\n",
    "plot_roc_curve(GB,  features_test,  target_test,  ax=disp.ax_)\n",
    "\n",
    "plt.legend(prop={'size':11}, loc = 'lower right')\n",
    "plt.show()"
   ]
  },
  {
   "cell_type": "markdown",
   "id": "86d6332f",
   "metadata": {},
   "source": [
    "# Model Saving:"
   ]
  },
  {
   "cell_type": "code",
   "execution_count": 79,
   "id": "2c148783",
   "metadata": {},
   "outputs": [],
   "source": [
    "import pickle\n",
    "filename = 'termdeposit Project 7.pk1'\n",
    "pickle.dump(Final_model, open(filename,'wb'))"
   ]
  },
  {
   "cell_type": "markdown",
   "id": "dcc44ca8",
   "metadata": {},
   "source": [
    "# Conclusion:"
   ]
  },
  {
   "cell_type": "code",
   "execution_count": 80,
   "id": "4ce365de",
   "metadata": {},
   "outputs": [
    {
     "data": {
      "text/html": [
       "<div>\n",
       "<style scoped>\n",
       "    .dataframe tbody tr th:only-of-type {\n",
       "        vertical-align: middle;\n",
       "    }\n",
       "\n",
       "    .dataframe tbody tr th {\n",
       "        vertical-align: top;\n",
       "    }\n",
       "\n",
       "    .dataframe thead th {\n",
       "        text-align: right;\n",
       "    }\n",
       "</style>\n",
       "<table border=\"1\" class=\"dataframe\">\n",
       "  <thead>\n",
       "    <tr style=\"text-align: right;\">\n",
       "      <th></th>\n",
       "      <th>original</th>\n",
       "      <th>predicted</th>\n",
       "    </tr>\n",
       "  </thead>\n",
       "  <tbody>\n",
       "    <tr>\n",
       "      <th>0</th>\n",
       "      <td>1.0</td>\n",
       "      <td>1.0</td>\n",
       "    </tr>\n",
       "    <tr>\n",
       "      <th>1</th>\n",
       "      <td>0.0</td>\n",
       "      <td>0.0</td>\n",
       "    </tr>\n",
       "    <tr>\n",
       "      <th>2</th>\n",
       "      <td>0.0</td>\n",
       "      <td>0.0</td>\n",
       "    </tr>\n",
       "    <tr>\n",
       "      <th>3</th>\n",
       "      <td>1.0</td>\n",
       "      <td>1.0</td>\n",
       "    </tr>\n",
       "    <tr>\n",
       "      <th>4</th>\n",
       "      <td>1.0</td>\n",
       "      <td>1.0</td>\n",
       "    </tr>\n",
       "    <tr>\n",
       "      <th>...</th>\n",
       "      <td>...</td>\n",
       "      <td>...</td>\n",
       "    </tr>\n",
       "    <tr>\n",
       "      <th>9900</th>\n",
       "      <td>1.0</td>\n",
       "      <td>1.0</td>\n",
       "    </tr>\n",
       "    <tr>\n",
       "      <th>9901</th>\n",
       "      <td>0.0</td>\n",
       "      <td>0.0</td>\n",
       "    </tr>\n",
       "    <tr>\n",
       "      <th>9902</th>\n",
       "      <td>1.0</td>\n",
       "      <td>1.0</td>\n",
       "    </tr>\n",
       "    <tr>\n",
       "      <th>9903</th>\n",
       "      <td>0.0</td>\n",
       "      <td>1.0</td>\n",
       "    </tr>\n",
       "    <tr>\n",
       "      <th>9904</th>\n",
       "      <td>1.0</td>\n",
       "      <td>1.0</td>\n",
       "    </tr>\n",
       "  </tbody>\n",
       "</table>\n",
       "<p>9905 rows × 2 columns</p>\n",
       "</div>"
      ],
      "text/plain": [
       "      original  predicted\n",
       "0          1.0        1.0\n",
       "1          0.0        0.0\n",
       "2          0.0        0.0\n",
       "3          1.0        1.0\n",
       "4          1.0        1.0\n",
       "...        ...        ...\n",
       "9900       1.0        1.0\n",
       "9901       0.0        0.0\n",
       "9902       1.0        1.0\n",
       "9903       0.0        1.0\n",
       "9904       1.0        1.0\n",
       "\n",
       "[9905 rows x 2 columns]"
      ]
     },
     "execution_count": 80,
     "metadata": {},
     "output_type": "execute_result"
    }
   ],
   "source": [
    "import numpy as np\n",
    "a = np.array(target_test)\n",
    "predicted = np.array(lr.predict(features_test))\n",
    "df_com = pd.DataFrame({\"original\":a, \"predicted\":predicted}, index = range(len(a)))\n",
    "df_com"
   ]
  },
  {
   "cell_type": "code",
   "execution_count": null,
   "id": "298a775e",
   "metadata": {},
   "outputs": [],
   "source": []
  }
 ],
 "metadata": {
  "kernelspec": {
   "display_name": "Python 3 (ipykernel)",
   "language": "python",
   "name": "python3"
  },
  "language_info": {
   "codemirror_mode": {
    "name": "ipython",
    "version": 3
   },
   "file_extension": ".py",
   "mimetype": "text/x-python",
   "name": "python",
   "nbconvert_exporter": "python",
   "pygments_lexer": "ipython3",
   "version": "3.9.12"
  }
 },
 "nbformat": 4,
 "nbformat_minor": 5
}
