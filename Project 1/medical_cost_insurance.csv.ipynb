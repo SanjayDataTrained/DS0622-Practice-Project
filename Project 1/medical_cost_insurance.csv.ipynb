{
 "cells": [
  {
   "cell_type": "code",
   "execution_count": 1,
   "id": "5bf06ce8",
   "metadata": {},
   "outputs": [],
   "source": [
    "import pandas as pd\n",
    "import numpy as np\n",
    "import warnings\n",
    "warnings.filterwarnings('ignore')"
   ]
  },
  {
   "cell_type": "code",
   "execution_count": 2,
   "id": "6c1e7fb9",
   "metadata": {},
   "outputs": [],
   "source": [
    "df=pd.read_csv(\"medical_cost_insurance.csv\")"
   ]
  },
  {
   "cell_type": "code",
   "execution_count": 3,
   "id": "7914d4b4",
   "metadata": {},
   "outputs": [
    {
     "data": {
      "text/html": [
       "<div>\n",
       "<style scoped>\n",
       "    .dataframe tbody tr th:only-of-type {\n",
       "        vertical-align: middle;\n",
       "    }\n",
       "\n",
       "    .dataframe tbody tr th {\n",
       "        vertical-align: top;\n",
       "    }\n",
       "\n",
       "    .dataframe thead th {\n",
       "        text-align: right;\n",
       "    }\n",
       "</style>\n",
       "<table border=\"1\" class=\"dataframe\">\n",
       "  <thead>\n",
       "    <tr style=\"text-align: right;\">\n",
       "      <th></th>\n",
       "      <th>age</th>\n",
       "      <th>sex</th>\n",
       "      <th>bmi</th>\n",
       "      <th>children</th>\n",
       "      <th>smoker</th>\n",
       "      <th>region</th>\n",
       "      <th>charges</th>\n",
       "    </tr>\n",
       "  </thead>\n",
       "  <tbody>\n",
       "    <tr>\n",
       "      <th>0</th>\n",
       "      <td>19</td>\n",
       "      <td>female</td>\n",
       "      <td>27.900</td>\n",
       "      <td>0</td>\n",
       "      <td>yes</td>\n",
       "      <td>southwest</td>\n",
       "      <td>16884.92400</td>\n",
       "    </tr>\n",
       "    <tr>\n",
       "      <th>1</th>\n",
       "      <td>18</td>\n",
       "      <td>male</td>\n",
       "      <td>33.770</td>\n",
       "      <td>1</td>\n",
       "      <td>no</td>\n",
       "      <td>southeast</td>\n",
       "      <td>1725.55230</td>\n",
       "    </tr>\n",
       "    <tr>\n",
       "      <th>2</th>\n",
       "      <td>28</td>\n",
       "      <td>male</td>\n",
       "      <td>33.000</td>\n",
       "      <td>3</td>\n",
       "      <td>no</td>\n",
       "      <td>southeast</td>\n",
       "      <td>4449.46200</td>\n",
       "    </tr>\n",
       "    <tr>\n",
       "      <th>3</th>\n",
       "      <td>33</td>\n",
       "      <td>male</td>\n",
       "      <td>22.705</td>\n",
       "      <td>0</td>\n",
       "      <td>no</td>\n",
       "      <td>northwest</td>\n",
       "      <td>21984.47061</td>\n",
       "    </tr>\n",
       "    <tr>\n",
       "      <th>4</th>\n",
       "      <td>32</td>\n",
       "      <td>male</td>\n",
       "      <td>28.880</td>\n",
       "      <td>0</td>\n",
       "      <td>no</td>\n",
       "      <td>northwest</td>\n",
       "      <td>3866.85520</td>\n",
       "    </tr>\n",
       "    <tr>\n",
       "      <th>...</th>\n",
       "      <td>...</td>\n",
       "      <td>...</td>\n",
       "      <td>...</td>\n",
       "      <td>...</td>\n",
       "      <td>...</td>\n",
       "      <td>...</td>\n",
       "      <td>...</td>\n",
       "    </tr>\n",
       "    <tr>\n",
       "      <th>1333</th>\n",
       "      <td>50</td>\n",
       "      <td>male</td>\n",
       "      <td>30.970</td>\n",
       "      <td>3</td>\n",
       "      <td>no</td>\n",
       "      <td>northwest</td>\n",
       "      <td>10600.54830</td>\n",
       "    </tr>\n",
       "    <tr>\n",
       "      <th>1334</th>\n",
       "      <td>18</td>\n",
       "      <td>female</td>\n",
       "      <td>31.920</td>\n",
       "      <td>0</td>\n",
       "      <td>no</td>\n",
       "      <td>northeast</td>\n",
       "      <td>2205.98080</td>\n",
       "    </tr>\n",
       "    <tr>\n",
       "      <th>1335</th>\n",
       "      <td>18</td>\n",
       "      <td>female</td>\n",
       "      <td>36.850</td>\n",
       "      <td>0</td>\n",
       "      <td>no</td>\n",
       "      <td>southeast</td>\n",
       "      <td>1629.83350</td>\n",
       "    </tr>\n",
       "    <tr>\n",
       "      <th>1336</th>\n",
       "      <td>21</td>\n",
       "      <td>female</td>\n",
       "      <td>25.800</td>\n",
       "      <td>0</td>\n",
       "      <td>no</td>\n",
       "      <td>southwest</td>\n",
       "      <td>2007.94500</td>\n",
       "    </tr>\n",
       "    <tr>\n",
       "      <th>1337</th>\n",
       "      <td>61</td>\n",
       "      <td>female</td>\n",
       "      <td>29.070</td>\n",
       "      <td>0</td>\n",
       "      <td>yes</td>\n",
       "      <td>northwest</td>\n",
       "      <td>29141.36030</td>\n",
       "    </tr>\n",
       "  </tbody>\n",
       "</table>\n",
       "<p>1338 rows × 7 columns</p>\n",
       "</div>"
      ],
      "text/plain": [
       "      age     sex     bmi  children smoker     region      charges\n",
       "0      19  female  27.900         0    yes  southwest  16884.92400\n",
       "1      18    male  33.770         1     no  southeast   1725.55230\n",
       "2      28    male  33.000         3     no  southeast   4449.46200\n",
       "3      33    male  22.705         0     no  northwest  21984.47061\n",
       "4      32    male  28.880         0     no  northwest   3866.85520\n",
       "...   ...     ...     ...       ...    ...        ...          ...\n",
       "1333   50    male  30.970         3     no  northwest  10600.54830\n",
       "1334   18  female  31.920         0     no  northeast   2205.98080\n",
       "1335   18  female  36.850         0     no  southeast   1629.83350\n",
       "1336   21  female  25.800         0     no  southwest   2007.94500\n",
       "1337   61  female  29.070         0    yes  northwest  29141.36030\n",
       "\n",
       "[1338 rows x 7 columns]"
      ]
     },
     "execution_count": 3,
     "metadata": {},
     "output_type": "execute_result"
    }
   ],
   "source": [
    "df"
   ]
  },
  {
   "cell_type": "code",
   "execution_count": 4,
   "id": "9eed4d26",
   "metadata": {},
   "outputs": [
    {
     "data": {
      "text/plain": [
       "Index(['age', 'sex', 'bmi', 'children', 'smoker', 'region', 'charges'], dtype='object')"
      ]
     },
     "execution_count": 4,
     "metadata": {},
     "output_type": "execute_result"
    }
   ],
   "source": [
    "df.columns             #This command gives Names of the columns"
   ]
  },
  {
   "cell_type": "code",
   "execution_count": 5,
   "id": "337b5272",
   "metadata": {},
   "outputs": [
    {
     "data": {
      "text/html": [
       "<div>\n",
       "<style scoped>\n",
       "    .dataframe tbody tr th:only-of-type {\n",
       "        vertical-align: middle;\n",
       "    }\n",
       "\n",
       "    .dataframe tbody tr th {\n",
       "        vertical-align: top;\n",
       "    }\n",
       "\n",
       "    .dataframe thead th {\n",
       "        text-align: right;\n",
       "    }\n",
       "</style>\n",
       "<table border=\"1\" class=\"dataframe\">\n",
       "  <thead>\n",
       "    <tr style=\"text-align: right;\">\n",
       "      <th></th>\n",
       "      <th>age</th>\n",
       "      <th>sex</th>\n",
       "      <th>bmi</th>\n",
       "      <th>children</th>\n",
       "      <th>smoker</th>\n",
       "      <th>region</th>\n",
       "      <th>charges</th>\n",
       "    </tr>\n",
       "  </thead>\n",
       "  <tbody>\n",
       "    <tr>\n",
       "      <th>0</th>\n",
       "      <td>19</td>\n",
       "      <td>female</td>\n",
       "      <td>27.900</td>\n",
       "      <td>0</td>\n",
       "      <td>yes</td>\n",
       "      <td>southwest</td>\n",
       "      <td>16884.92400</td>\n",
       "    </tr>\n",
       "    <tr>\n",
       "      <th>1</th>\n",
       "      <td>18</td>\n",
       "      <td>male</td>\n",
       "      <td>33.770</td>\n",
       "      <td>1</td>\n",
       "      <td>no</td>\n",
       "      <td>southeast</td>\n",
       "      <td>1725.55230</td>\n",
       "    </tr>\n",
       "    <tr>\n",
       "      <th>2</th>\n",
       "      <td>28</td>\n",
       "      <td>male</td>\n",
       "      <td>33.000</td>\n",
       "      <td>3</td>\n",
       "      <td>no</td>\n",
       "      <td>southeast</td>\n",
       "      <td>4449.46200</td>\n",
       "    </tr>\n",
       "    <tr>\n",
       "      <th>3</th>\n",
       "      <td>33</td>\n",
       "      <td>male</td>\n",
       "      <td>22.705</td>\n",
       "      <td>0</td>\n",
       "      <td>no</td>\n",
       "      <td>northwest</td>\n",
       "      <td>21984.47061</td>\n",
       "    </tr>\n",
       "    <tr>\n",
       "      <th>4</th>\n",
       "      <td>32</td>\n",
       "      <td>male</td>\n",
       "      <td>28.880</td>\n",
       "      <td>0</td>\n",
       "      <td>no</td>\n",
       "      <td>northwest</td>\n",
       "      <td>3866.85520</td>\n",
       "    </tr>\n",
       "    <tr>\n",
       "      <th>5</th>\n",
       "      <td>31</td>\n",
       "      <td>female</td>\n",
       "      <td>25.740</td>\n",
       "      <td>0</td>\n",
       "      <td>no</td>\n",
       "      <td>southeast</td>\n",
       "      <td>3756.62160</td>\n",
       "    </tr>\n",
       "    <tr>\n",
       "      <th>6</th>\n",
       "      <td>46</td>\n",
       "      <td>female</td>\n",
       "      <td>33.440</td>\n",
       "      <td>1</td>\n",
       "      <td>no</td>\n",
       "      <td>southeast</td>\n",
       "      <td>8240.58960</td>\n",
       "    </tr>\n",
       "    <tr>\n",
       "      <th>7</th>\n",
       "      <td>37</td>\n",
       "      <td>female</td>\n",
       "      <td>27.740</td>\n",
       "      <td>3</td>\n",
       "      <td>no</td>\n",
       "      <td>northwest</td>\n",
       "      <td>7281.50560</td>\n",
       "    </tr>\n",
       "    <tr>\n",
       "      <th>8</th>\n",
       "      <td>37</td>\n",
       "      <td>male</td>\n",
       "      <td>29.830</td>\n",
       "      <td>2</td>\n",
       "      <td>no</td>\n",
       "      <td>northeast</td>\n",
       "      <td>6406.41070</td>\n",
       "    </tr>\n",
       "    <tr>\n",
       "      <th>9</th>\n",
       "      <td>60</td>\n",
       "      <td>female</td>\n",
       "      <td>25.840</td>\n",
       "      <td>0</td>\n",
       "      <td>no</td>\n",
       "      <td>northwest</td>\n",
       "      <td>28923.13692</td>\n",
       "    </tr>\n",
       "    <tr>\n",
       "      <th>10</th>\n",
       "      <td>25</td>\n",
       "      <td>male</td>\n",
       "      <td>26.220</td>\n",
       "      <td>0</td>\n",
       "      <td>no</td>\n",
       "      <td>northeast</td>\n",
       "      <td>2721.32080</td>\n",
       "    </tr>\n",
       "    <tr>\n",
       "      <th>11</th>\n",
       "      <td>62</td>\n",
       "      <td>female</td>\n",
       "      <td>26.290</td>\n",
       "      <td>0</td>\n",
       "      <td>yes</td>\n",
       "      <td>southeast</td>\n",
       "      <td>27808.72510</td>\n",
       "    </tr>\n",
       "    <tr>\n",
       "      <th>12</th>\n",
       "      <td>23</td>\n",
       "      <td>male</td>\n",
       "      <td>34.400</td>\n",
       "      <td>0</td>\n",
       "      <td>no</td>\n",
       "      <td>southwest</td>\n",
       "      <td>1826.84300</td>\n",
       "    </tr>\n",
       "    <tr>\n",
       "      <th>13</th>\n",
       "      <td>56</td>\n",
       "      <td>female</td>\n",
       "      <td>39.820</td>\n",
       "      <td>0</td>\n",
       "      <td>no</td>\n",
       "      <td>southeast</td>\n",
       "      <td>11090.71780</td>\n",
       "    </tr>\n",
       "    <tr>\n",
       "      <th>14</th>\n",
       "      <td>27</td>\n",
       "      <td>male</td>\n",
       "      <td>42.130</td>\n",
       "      <td>0</td>\n",
       "      <td>yes</td>\n",
       "      <td>southeast</td>\n",
       "      <td>39611.75770</td>\n",
       "    </tr>\n",
       "  </tbody>\n",
       "</table>\n",
       "</div>"
      ],
      "text/plain": [
       "    age     sex     bmi  children smoker     region      charges\n",
       "0    19  female  27.900         0    yes  southwest  16884.92400\n",
       "1    18    male  33.770         1     no  southeast   1725.55230\n",
       "2    28    male  33.000         3     no  southeast   4449.46200\n",
       "3    33    male  22.705         0     no  northwest  21984.47061\n",
       "4    32    male  28.880         0     no  northwest   3866.85520\n",
       "5    31  female  25.740         0     no  southeast   3756.62160\n",
       "6    46  female  33.440         1     no  southeast   8240.58960\n",
       "7    37  female  27.740         3     no  northwest   7281.50560\n",
       "8    37    male  29.830         2     no  northeast   6406.41070\n",
       "9    60  female  25.840         0     no  northwest  28923.13692\n",
       "10   25    male  26.220         0     no  northeast   2721.32080\n",
       "11   62  female  26.290         0    yes  southeast  27808.72510\n",
       "12   23    male  34.400         0     no  southwest   1826.84300\n",
       "13   56  female  39.820         0     no  southeast  11090.71780\n",
       "14   27    male  42.130         0    yes  southeast  39611.75770"
      ]
     },
     "execution_count": 5,
     "metadata": {},
     "output_type": "execute_result"
    }
   ],
   "source": [
    "df.head(15)         #This command gives number of rows of the dataframe if we input 15 gives 15 rows or input 5 gives 5 rows \n",
    "                    #  So here dimension of dataframe is 15 by 7"
   ]
  },
  {
   "cell_type": "code",
   "execution_count": 6,
   "id": "cd5d5d4f",
   "metadata": {},
   "outputs": [
    {
     "data": {
      "text/html": [
       "<div>\n",
       "<style scoped>\n",
       "    .dataframe tbody tr th:only-of-type {\n",
       "        vertical-align: middle;\n",
       "    }\n",
       "\n",
       "    .dataframe tbody tr th {\n",
       "        vertical-align: top;\n",
       "    }\n",
       "\n",
       "    .dataframe thead th {\n",
       "        text-align: right;\n",
       "    }\n",
       "</style>\n",
       "<table border=\"1\" class=\"dataframe\">\n",
       "  <thead>\n",
       "    <tr style=\"text-align: right;\">\n",
       "      <th></th>\n",
       "      <th>age</th>\n",
       "      <th>sex</th>\n",
       "      <th>bmi</th>\n",
       "      <th>children</th>\n",
       "      <th>smoker</th>\n",
       "      <th>region</th>\n",
       "      <th>charges</th>\n",
       "    </tr>\n",
       "  </thead>\n",
       "  <tbody>\n",
       "    <tr>\n",
       "      <th>1328</th>\n",
       "      <td>23</td>\n",
       "      <td>female</td>\n",
       "      <td>24.225</td>\n",
       "      <td>2</td>\n",
       "      <td>no</td>\n",
       "      <td>northeast</td>\n",
       "      <td>22395.74424</td>\n",
       "    </tr>\n",
       "    <tr>\n",
       "      <th>1329</th>\n",
       "      <td>52</td>\n",
       "      <td>male</td>\n",
       "      <td>38.600</td>\n",
       "      <td>2</td>\n",
       "      <td>no</td>\n",
       "      <td>southwest</td>\n",
       "      <td>10325.20600</td>\n",
       "    </tr>\n",
       "    <tr>\n",
       "      <th>1330</th>\n",
       "      <td>57</td>\n",
       "      <td>female</td>\n",
       "      <td>25.740</td>\n",
       "      <td>2</td>\n",
       "      <td>no</td>\n",
       "      <td>southeast</td>\n",
       "      <td>12629.16560</td>\n",
       "    </tr>\n",
       "    <tr>\n",
       "      <th>1331</th>\n",
       "      <td>23</td>\n",
       "      <td>female</td>\n",
       "      <td>33.400</td>\n",
       "      <td>0</td>\n",
       "      <td>no</td>\n",
       "      <td>southwest</td>\n",
       "      <td>10795.93733</td>\n",
       "    </tr>\n",
       "    <tr>\n",
       "      <th>1332</th>\n",
       "      <td>52</td>\n",
       "      <td>female</td>\n",
       "      <td>44.700</td>\n",
       "      <td>3</td>\n",
       "      <td>no</td>\n",
       "      <td>southwest</td>\n",
       "      <td>11411.68500</td>\n",
       "    </tr>\n",
       "    <tr>\n",
       "      <th>1333</th>\n",
       "      <td>50</td>\n",
       "      <td>male</td>\n",
       "      <td>30.970</td>\n",
       "      <td>3</td>\n",
       "      <td>no</td>\n",
       "      <td>northwest</td>\n",
       "      <td>10600.54830</td>\n",
       "    </tr>\n",
       "    <tr>\n",
       "      <th>1334</th>\n",
       "      <td>18</td>\n",
       "      <td>female</td>\n",
       "      <td>31.920</td>\n",
       "      <td>0</td>\n",
       "      <td>no</td>\n",
       "      <td>northeast</td>\n",
       "      <td>2205.98080</td>\n",
       "    </tr>\n",
       "    <tr>\n",
       "      <th>1335</th>\n",
       "      <td>18</td>\n",
       "      <td>female</td>\n",
       "      <td>36.850</td>\n",
       "      <td>0</td>\n",
       "      <td>no</td>\n",
       "      <td>southeast</td>\n",
       "      <td>1629.83350</td>\n",
       "    </tr>\n",
       "    <tr>\n",
       "      <th>1336</th>\n",
       "      <td>21</td>\n",
       "      <td>female</td>\n",
       "      <td>25.800</td>\n",
       "      <td>0</td>\n",
       "      <td>no</td>\n",
       "      <td>southwest</td>\n",
       "      <td>2007.94500</td>\n",
       "    </tr>\n",
       "    <tr>\n",
       "      <th>1337</th>\n",
       "      <td>61</td>\n",
       "      <td>female</td>\n",
       "      <td>29.070</td>\n",
       "      <td>0</td>\n",
       "      <td>yes</td>\n",
       "      <td>northwest</td>\n",
       "      <td>29141.36030</td>\n",
       "    </tr>\n",
       "  </tbody>\n",
       "</table>\n",
       "</div>"
      ],
      "text/plain": [
       "      age     sex     bmi  children smoker     region      charges\n",
       "1328   23  female  24.225         2     no  northeast  22395.74424\n",
       "1329   52    male  38.600         2     no  southwest  10325.20600\n",
       "1330   57  female  25.740         2     no  southeast  12629.16560\n",
       "1331   23  female  33.400         0     no  southwest  10795.93733\n",
       "1332   52  female  44.700         3     no  southwest  11411.68500\n",
       "1333   50    male  30.970         3     no  northwest  10600.54830\n",
       "1334   18  female  31.920         0     no  northeast   2205.98080\n",
       "1335   18  female  36.850         0     no  southeast   1629.83350\n",
       "1336   21  female  25.800         0     no  southwest   2007.94500\n",
       "1337   61  female  29.070         0    yes  northwest  29141.36030"
      ]
     },
     "execution_count": 6,
     "metadata": {},
     "output_type": "execute_result"
    }
   ],
   "source": [
    "df.tail(10)                   # It gives last 10 rows of data"
   ]
  },
  {
   "cell_type": "code",
   "execution_count": 7,
   "id": "592f6f69",
   "metadata": {},
   "outputs": [
    {
     "data": {
      "text/plain": [
       "(1338, 7)"
      ]
     },
     "execution_count": 7,
     "metadata": {},
     "output_type": "execute_result"
    }
   ],
   "source": [
    "df.shape             #df.shape Command gives whole dimension of dataset"
   ]
  },
  {
   "cell_type": "markdown",
   "id": "6bc574f4",
   "metadata": {},
   "source": [
    "Cheking Null Values in the DataFrame"
   ]
  },
  {
   "cell_type": "code",
   "execution_count": 8,
   "id": "0f175ece",
   "metadata": {},
   "outputs": [],
   "source": [
    "#np.nan, None, NaN,othrs"
   ]
  },
  {
   "cell_type": "code",
   "execution_count": 9,
   "id": "c4576e66",
   "metadata": {},
   "outputs": [
    {
     "data": {
      "text/plain": [
       "age         0\n",
       "sex         0\n",
       "bmi         0\n",
       "children    0\n",
       "smoker      0\n",
       "region      0\n",
       "charges     0\n",
       "dtype: int64"
      ]
     },
     "execution_count": 9,
     "metadata": {},
     "output_type": "execute_result"
    }
   ],
   "source": [
    "df.isnull().sum()            # it gives empty space where no values present or null values ,it is very mandatory to check null values and all columns give 0 so there is no null values present in dataset                  "
   ]
  },
  {
   "cell_type": "markdown",
   "id": "80c9f3ec",
   "metadata": {},
   "source": [
    "No null values present in the dataset"
   ]
  },
  {
   "cell_type": "code",
   "execution_count": 10,
   "id": "ba3bf70b",
   "metadata": {},
   "outputs": [
    {
     "data": {
      "text/plain": [
       "age           int64\n",
       "sex          object\n",
       "bmi         float64\n",
       "children      int64\n",
       "smoker       object\n",
       "region       object\n",
       "charges     float64\n",
       "dtype: object"
      ]
     },
     "execution_count": 10,
     "metadata": {},
     "output_type": "execute_result"
    }
   ],
   "source": [
    "df.dtypes      # it is basically used to check datatype present in columns of dataset whether it is integer,str,object and float so here datatype is float i.e. decimal values"
   ]
  },
  {
   "cell_type": "code",
   "execution_count": 11,
   "id": "967a49a4",
   "metadata": {},
   "outputs": [
    {
     "data": {
      "text/html": [
       "<div>\n",
       "<style scoped>\n",
       "    .dataframe tbody tr th:only-of-type {\n",
       "        vertical-align: middle;\n",
       "    }\n",
       "\n",
       "    .dataframe tbody tr th {\n",
       "        vertical-align: top;\n",
       "    }\n",
       "\n",
       "    .dataframe thead th {\n",
       "        text-align: right;\n",
       "    }\n",
       "</style>\n",
       "<table border=\"1\" class=\"dataframe\">\n",
       "  <thead>\n",
       "    <tr style=\"text-align: right;\">\n",
       "      <th></th>\n",
       "      <th>age</th>\n",
       "      <th>sex</th>\n",
       "      <th>bmi</th>\n",
       "      <th>children</th>\n",
       "      <th>smoker</th>\n",
       "      <th>region</th>\n",
       "      <th>charges</th>\n",
       "    </tr>\n",
       "  </thead>\n",
       "  <tbody>\n",
       "    <tr>\n",
       "      <th>0</th>\n",
       "      <td>19</td>\n",
       "      <td>female</td>\n",
       "      <td>27.900</td>\n",
       "      <td>0</td>\n",
       "      <td>yes</td>\n",
       "      <td>southwest</td>\n",
       "      <td>16884.92400</td>\n",
       "    </tr>\n",
       "    <tr>\n",
       "      <th>1</th>\n",
       "      <td>18</td>\n",
       "      <td>male</td>\n",
       "      <td>33.770</td>\n",
       "      <td>1</td>\n",
       "      <td>no</td>\n",
       "      <td>southeast</td>\n",
       "      <td>1725.55230</td>\n",
       "    </tr>\n",
       "    <tr>\n",
       "      <th>2</th>\n",
       "      <td>28</td>\n",
       "      <td>male</td>\n",
       "      <td>33.000</td>\n",
       "      <td>3</td>\n",
       "      <td>no</td>\n",
       "      <td>southeast</td>\n",
       "      <td>4449.46200</td>\n",
       "    </tr>\n",
       "    <tr>\n",
       "      <th>3</th>\n",
       "      <td>33</td>\n",
       "      <td>male</td>\n",
       "      <td>22.705</td>\n",
       "      <td>0</td>\n",
       "      <td>no</td>\n",
       "      <td>northwest</td>\n",
       "      <td>21984.47061</td>\n",
       "    </tr>\n",
       "    <tr>\n",
       "      <th>4</th>\n",
       "      <td>32</td>\n",
       "      <td>male</td>\n",
       "      <td>28.880</td>\n",
       "      <td>0</td>\n",
       "      <td>no</td>\n",
       "      <td>northwest</td>\n",
       "      <td>3866.85520</td>\n",
       "    </tr>\n",
       "    <tr>\n",
       "      <th>...</th>\n",
       "      <td>...</td>\n",
       "      <td>...</td>\n",
       "      <td>...</td>\n",
       "      <td>...</td>\n",
       "      <td>...</td>\n",
       "      <td>...</td>\n",
       "      <td>...</td>\n",
       "    </tr>\n",
       "    <tr>\n",
       "      <th>1333</th>\n",
       "      <td>50</td>\n",
       "      <td>male</td>\n",
       "      <td>30.970</td>\n",
       "      <td>3</td>\n",
       "      <td>no</td>\n",
       "      <td>northwest</td>\n",
       "      <td>10600.54830</td>\n",
       "    </tr>\n",
       "    <tr>\n",
       "      <th>1334</th>\n",
       "      <td>18</td>\n",
       "      <td>female</td>\n",
       "      <td>31.920</td>\n",
       "      <td>0</td>\n",
       "      <td>no</td>\n",
       "      <td>northeast</td>\n",
       "      <td>2205.98080</td>\n",
       "    </tr>\n",
       "    <tr>\n",
       "      <th>1335</th>\n",
       "      <td>18</td>\n",
       "      <td>female</td>\n",
       "      <td>36.850</td>\n",
       "      <td>0</td>\n",
       "      <td>no</td>\n",
       "      <td>southeast</td>\n",
       "      <td>1629.83350</td>\n",
       "    </tr>\n",
       "    <tr>\n",
       "      <th>1336</th>\n",
       "      <td>21</td>\n",
       "      <td>female</td>\n",
       "      <td>25.800</td>\n",
       "      <td>0</td>\n",
       "      <td>no</td>\n",
       "      <td>southwest</td>\n",
       "      <td>2007.94500</td>\n",
       "    </tr>\n",
       "    <tr>\n",
       "      <th>1337</th>\n",
       "      <td>61</td>\n",
       "      <td>female</td>\n",
       "      <td>29.070</td>\n",
       "      <td>0</td>\n",
       "      <td>yes</td>\n",
       "      <td>northwest</td>\n",
       "      <td>29141.36030</td>\n",
       "    </tr>\n",
       "  </tbody>\n",
       "</table>\n",
       "<p>1338 rows × 7 columns</p>\n",
       "</div>"
      ],
      "text/plain": [
       "      age     sex     bmi  children smoker     region      charges\n",
       "0      19  female  27.900         0    yes  southwest  16884.92400\n",
       "1      18    male  33.770         1     no  southeast   1725.55230\n",
       "2      28    male  33.000         3     no  southeast   4449.46200\n",
       "3      33    male  22.705         0     no  northwest  21984.47061\n",
       "4      32    male  28.880         0     no  northwest   3866.85520\n",
       "...   ...     ...     ...       ...    ...        ...          ...\n",
       "1333   50    male  30.970         3     no  northwest  10600.54830\n",
       "1334   18  female  31.920         0     no  northeast   2205.98080\n",
       "1335   18  female  36.850         0     no  southeast   1629.83350\n",
       "1336   21  female  25.800         0     no  southwest   2007.94500\n",
       "1337   61  female  29.070         0    yes  northwest  29141.36030\n",
       "\n",
       "[1338 rows x 7 columns]"
      ]
     },
     "execution_count": 11,
     "metadata": {},
     "output_type": "execute_result"
    }
   ],
   "source": [
    "df"
   ]
  },
  {
   "cell_type": "code",
   "execution_count": 12,
   "id": "b48d54ad",
   "metadata": {},
   "outputs": [
    {
     "data": {
      "text/plain": [
       "array([19, 18, 28, 33, 32, 31, 46, 37, 60, 25, 62, 23, 56, 27, 52, 30, 34,\n",
       "       59, 63, 55, 22, 26, 35, 24, 41, 38, 36, 21, 48, 40, 58, 53, 43, 64,\n",
       "       20, 61, 44, 57, 29, 45, 54, 49, 47, 51, 42, 50, 39], dtype=int64)"
      ]
     },
     "execution_count": 12,
     "metadata": {},
     "output_type": "execute_result"
    }
   ],
   "source": [
    "df['age'].unique()  #The unique method gives the list of unique values present in any specific column or in my dataset"
   ]
  },
  {
   "cell_type": "code",
   "execution_count": 13,
   "id": "16ecff3a",
   "metadata": {},
   "outputs": [
    {
     "data": {
      "text/plain": [
       "47"
      ]
     },
     "execution_count": 13,
     "metadata": {},
     "output_type": "execute_result"
    }
   ],
   "source": [
    "df['age'].nunique()"
   ]
  },
  {
   "cell_type": "code",
   "execution_count": 14,
   "id": "5742b640",
   "metadata": {},
   "outputs": [
    {
     "data": {
      "text/plain": [
       "array(['female', 'male'], dtype=object)"
      ]
     },
     "execution_count": 14,
     "metadata": {},
     "output_type": "execute_result"
    }
   ],
   "source": [
    "df['sex'].unique()"
   ]
  },
  {
   "cell_type": "code",
   "execution_count": 15,
   "id": "a3427d12",
   "metadata": {},
   "outputs": [
    {
     "data": {
      "text/plain": [
       "2"
      ]
     },
     "execution_count": 15,
     "metadata": {},
     "output_type": "execute_result"
    }
   ],
   "source": [
    "df['sex'].nunique()"
   ]
  },
  {
   "cell_type": "code",
   "execution_count": 16,
   "id": "54faa159",
   "metadata": {},
   "outputs": [
    {
     "data": {
      "text/plain": [
       "array([27.9  , 33.77 , 33.   , 22.705, 28.88 , 25.74 , 33.44 , 27.74 ,\n",
       "       29.83 , 25.84 , 26.22 , 26.29 , 34.4  , 39.82 , 42.13 , 24.6  ,\n",
       "       30.78 , 23.845, 40.3  , 35.3  , 36.005, 32.4  , 34.1  , 31.92 ,\n",
       "       28.025, 27.72 , 23.085, 32.775, 17.385, 36.3  , 35.6  , 26.315,\n",
       "       28.6  , 28.31 , 36.4  , 20.425, 32.965, 20.8  , 36.67 , 39.9  ,\n",
       "       26.6  , 36.63 , 21.78 , 30.8  , 37.05 , 37.3  , 38.665, 34.77 ,\n",
       "       24.53 , 35.2  , 35.625, 33.63 , 28.   , 34.43 , 28.69 , 36.955,\n",
       "       31.825, 31.68 , 22.88 , 37.335, 27.36 , 33.66 , 24.7  , 25.935,\n",
       "       22.42 , 28.9  , 39.1  , 36.19 , 23.98 , 24.75 , 28.5  , 28.1  ,\n",
       "       32.01 , 27.4  , 34.01 , 29.59 , 35.53 , 39.805, 26.885, 38.285,\n",
       "       37.62 , 41.23 , 34.8  , 22.895, 31.16 , 27.2  , 26.98 , 39.49 ,\n",
       "       24.795, 31.3  , 38.28 , 19.95 , 19.3  , 31.6  , 25.46 , 30.115,\n",
       "       29.92 , 27.5  , 28.4  , 30.875, 27.94 , 35.09 , 29.7  , 35.72 ,\n",
       "       32.205, 28.595, 49.06 , 27.17 , 23.37 , 37.1  , 23.75 , 28.975,\n",
       "       31.35 , 33.915, 28.785, 28.3  , 37.4  , 17.765, 34.7  , 26.505,\n",
       "       22.04 , 35.9  , 25.555, 28.05 , 25.175, 31.9  , 36.   , 32.49 ,\n",
       "       25.3  , 29.735, 38.83 , 30.495, 37.73 , 37.43 , 24.13 , 37.145,\n",
       "       39.52 , 24.42 , 27.83 , 36.85 , 39.6  , 29.8  , 29.64 , 28.215,\n",
       "       37.   , 33.155, 18.905, 41.47 , 30.3  , 15.96 , 33.345, 37.7  ,\n",
       "       27.835, 29.2  , 26.41 , 30.69 , 41.895, 30.9  , 32.2  , 32.11 ,\n",
       "       31.57 , 26.2  , 30.59 , 32.8  , 18.05 , 39.33 , 32.23 , 24.035,\n",
       "       36.08 , 22.3  , 26.4  , 31.8  , 26.73 , 23.1  , 23.21 , 33.7  ,\n",
       "       33.25 , 24.64 , 33.88 , 38.06 , 41.91 , 31.635, 36.195, 17.8  ,\n",
       "       24.51 , 22.22 , 38.39 , 29.07 , 22.135, 26.8  , 30.02 , 35.86 ,\n",
       "       20.9  , 17.29 , 34.21 , 25.365, 40.15 , 24.415, 25.2  , 26.84 ,\n",
       "       24.32 , 42.35 , 19.8  , 32.395, 30.2  , 29.37 , 34.2  , 27.455,\n",
       "       27.55 , 20.615, 24.3  , 31.79 , 21.56 , 28.12 , 40.565, 27.645,\n",
       "       31.2  , 26.62 , 48.07 , 36.765, 33.4  , 45.54 , 28.82 , 22.99 ,\n",
       "       27.7  , 25.41 , 34.39 , 22.61 , 37.51 , 38.   , 33.33 , 34.865,\n",
       "       33.06 , 35.97 , 31.4  , 25.27 , 40.945, 34.105, 36.48 , 33.8  ,\n",
       "       36.7  , 36.385, 34.5  , 32.3  , 27.6  , 29.26 , 35.75 , 23.18 ,\n",
       "       25.6  , 35.245, 43.89 , 20.79 , 30.5  , 21.7  , 21.89 , 24.985,\n",
       "       32.015, 30.4  , 21.09 , 22.23 , 32.9  , 24.89 , 31.46 , 17.955,\n",
       "       30.685, 43.34 , 39.05 , 30.21 , 31.445, 19.855, 31.02 , 38.17 ,\n",
       "       20.6  , 47.52 , 20.4  , 38.38 , 24.31 , 23.6  , 21.12 , 30.03 ,\n",
       "       17.48 , 20.235, 17.195, 23.9  , 35.15 , 35.64 , 22.6  , 39.16 ,\n",
       "       27.265, 29.165, 16.815, 33.1  , 26.9  , 33.11 , 31.73 , 46.75 ,\n",
       "       29.45 , 32.68 , 33.5  , 43.01 , 36.52 , 26.695, 25.65 , 29.6  ,\n",
       "       38.6  , 23.4  , 46.53 , 30.14 , 30.   , 38.095, 28.38 , 28.7  ,\n",
       "       33.82 , 24.09 , 32.67 , 25.1  , 32.56 , 41.325, 39.5  , 34.3  ,\n",
       "       31.065, 21.47 , 25.08 , 43.4  , 25.7  , 27.93 , 39.2  , 26.03 ,\n",
       "       30.25 , 28.93 , 35.7  , 35.31 , 31.   , 44.22 , 26.07 , 25.8  ,\n",
       "       39.425, 40.48 , 38.9  , 47.41 , 35.435, 46.7  , 46.2  , 21.4  ,\n",
       "       23.8  , 44.77 , 32.12 , 29.1  , 37.29 , 43.12 , 36.86 , 34.295,\n",
       "       23.465, 45.43 , 23.65 , 20.7  , 28.27 , 35.91 , 29.   , 19.57 ,\n",
       "       31.13 , 21.85 , 40.26 , 33.725, 29.48 , 32.6  , 37.525, 23.655,\n",
       "       37.8  , 19.   , 21.3  , 33.535, 42.46 , 38.95 , 36.1  , 29.3  ,\n",
       "       39.7  , 38.19 , 42.4  , 34.96 , 42.68 , 31.54 , 29.81 , 21.375,\n",
       "       40.81 , 17.4  , 20.3  , 18.5  , 26.125, 41.69 , 24.1  , 36.2  ,\n",
       "       40.185, 39.27 , 34.87 , 44.745, 29.545, 23.54 , 40.47 , 40.66 ,\n",
       "       36.6  , 35.4  , 27.075, 28.405, 21.755, 40.28 , 30.1  , 32.1  ,\n",
       "       23.7  , 35.5  , 29.15 , 27.   , 37.905, 22.77 , 22.8  , 34.58 ,\n",
       "       27.1  , 19.475, 26.7  , 34.32 , 24.4  , 41.14 , 22.515, 41.8  ,\n",
       "       26.18 , 42.24 , 26.51 , 35.815, 41.42 , 36.575, 42.94 , 21.01 ,\n",
       "       24.225, 17.67 , 31.5  , 31.1  , 32.78 , 32.45 , 50.38 , 47.6  ,\n",
       "       25.4  , 29.9  , 43.7  , 24.86 , 28.8  , 29.5  , 29.04 , 38.94 ,\n",
       "       44.   , 20.045, 40.92 , 35.1  , 29.355, 32.585, 32.34 , 39.8  ,\n",
       "       24.605, 33.99 , 28.2  , 25.   , 33.2  , 23.2  , 20.1  , 32.5  ,\n",
       "       37.18 , 46.09 , 39.93 , 35.8  , 31.255, 18.335, 42.9  , 26.79 ,\n",
       "       39.615, 25.9  , 25.745, 28.16 , 23.56 , 40.5  , 35.42 , 39.995,\n",
       "       34.675, 20.52 , 23.275, 36.29 , 32.7  , 19.19 , 20.13 , 23.32 ,\n",
       "       45.32 , 34.6  , 18.715, 21.565, 23.   , 37.07 , 52.58 , 42.655,\n",
       "       21.66 , 32.   , 18.3  , 47.74 , 22.1  , 19.095, 31.24 , 29.925,\n",
       "       20.35 , 25.85 , 42.75 , 18.6  , 23.87 , 45.9  , 21.5  , 30.305,\n",
       "       44.88 , 41.1  , 40.37 , 28.49 , 33.55 , 40.375, 27.28 , 17.86 ,\n",
       "       33.3  , 39.14 , 21.945, 24.97 , 23.94 , 34.485, 21.8  , 23.3  ,\n",
       "       36.96 , 21.28 , 29.4  , 27.3  , 37.9  , 37.715, 23.76 , 25.52 ,\n",
       "       27.61 , 27.06 , 39.4  , 34.9  , 22.   , 30.36 , 27.8  , 53.13 ,\n",
       "       39.71 , 32.87 , 44.7  , 30.97 ])"
      ]
     },
     "execution_count": 16,
     "metadata": {},
     "output_type": "execute_result"
    }
   ],
   "source": [
    "df['bmi'].unique()"
   ]
  },
  {
   "cell_type": "code",
   "execution_count": 17,
   "id": "a2d255d4",
   "metadata": {},
   "outputs": [
    {
     "data": {
      "text/plain": [
       "47"
      ]
     },
     "execution_count": 17,
     "metadata": {},
     "output_type": "execute_result"
    }
   ],
   "source": [
    "df['age'].nunique()"
   ]
  },
  {
   "cell_type": "code",
   "execution_count": 18,
   "id": "68d43c92",
   "metadata": {},
   "outputs": [
    {
     "data": {
      "text/plain": [
       "array([0, 1, 3, 2, 5, 4], dtype=int64)"
      ]
     },
     "execution_count": 18,
     "metadata": {},
     "output_type": "execute_result"
    }
   ],
   "source": [
    "df['children'].unique()"
   ]
  },
  {
   "cell_type": "code",
   "execution_count": 19,
   "id": "fe5ea184",
   "metadata": {},
   "outputs": [
    {
     "data": {
      "text/plain": [
       "6"
      ]
     },
     "execution_count": 19,
     "metadata": {},
     "output_type": "execute_result"
    }
   ],
   "source": [
    "df['children'].nunique()"
   ]
  },
  {
   "cell_type": "code",
   "execution_count": 20,
   "id": "ba7d043e",
   "metadata": {},
   "outputs": [
    {
     "data": {
      "text/html": [
       "<div>\n",
       "<style scoped>\n",
       "    .dataframe tbody tr th:only-of-type {\n",
       "        vertical-align: middle;\n",
       "    }\n",
       "\n",
       "    .dataframe tbody tr th {\n",
       "        vertical-align: top;\n",
       "    }\n",
       "\n",
       "    .dataframe thead th {\n",
       "        text-align: right;\n",
       "    }\n",
       "</style>\n",
       "<table border=\"1\" class=\"dataframe\">\n",
       "  <thead>\n",
       "    <tr style=\"text-align: right;\">\n",
       "      <th></th>\n",
       "      <th>age</th>\n",
       "      <th>sex</th>\n",
       "      <th>bmi</th>\n",
       "      <th>children</th>\n",
       "      <th>smoker</th>\n",
       "      <th>region</th>\n",
       "      <th>charges</th>\n",
       "    </tr>\n",
       "  </thead>\n",
       "  <tbody>\n",
       "    <tr>\n",
       "      <th>0</th>\n",
       "      <td>19</td>\n",
       "      <td>female</td>\n",
       "      <td>27.900</td>\n",
       "      <td>0</td>\n",
       "      <td>yes</td>\n",
       "      <td>southwest</td>\n",
       "      <td>16884.92400</td>\n",
       "    </tr>\n",
       "    <tr>\n",
       "      <th>1</th>\n",
       "      <td>18</td>\n",
       "      <td>male</td>\n",
       "      <td>33.770</td>\n",
       "      <td>1</td>\n",
       "      <td>no</td>\n",
       "      <td>southeast</td>\n",
       "      <td>1725.55230</td>\n",
       "    </tr>\n",
       "    <tr>\n",
       "      <th>2</th>\n",
       "      <td>28</td>\n",
       "      <td>male</td>\n",
       "      <td>33.000</td>\n",
       "      <td>3</td>\n",
       "      <td>no</td>\n",
       "      <td>southeast</td>\n",
       "      <td>4449.46200</td>\n",
       "    </tr>\n",
       "    <tr>\n",
       "      <th>3</th>\n",
       "      <td>33</td>\n",
       "      <td>male</td>\n",
       "      <td>22.705</td>\n",
       "      <td>0</td>\n",
       "      <td>no</td>\n",
       "      <td>northwest</td>\n",
       "      <td>21984.47061</td>\n",
       "    </tr>\n",
       "    <tr>\n",
       "      <th>4</th>\n",
       "      <td>32</td>\n",
       "      <td>male</td>\n",
       "      <td>28.880</td>\n",
       "      <td>0</td>\n",
       "      <td>no</td>\n",
       "      <td>northwest</td>\n",
       "      <td>3866.85520</td>\n",
       "    </tr>\n",
       "    <tr>\n",
       "      <th>...</th>\n",
       "      <td>...</td>\n",
       "      <td>...</td>\n",
       "      <td>...</td>\n",
       "      <td>...</td>\n",
       "      <td>...</td>\n",
       "      <td>...</td>\n",
       "      <td>...</td>\n",
       "    </tr>\n",
       "    <tr>\n",
       "      <th>1333</th>\n",
       "      <td>50</td>\n",
       "      <td>male</td>\n",
       "      <td>30.970</td>\n",
       "      <td>3</td>\n",
       "      <td>no</td>\n",
       "      <td>northwest</td>\n",
       "      <td>10600.54830</td>\n",
       "    </tr>\n",
       "    <tr>\n",
       "      <th>1334</th>\n",
       "      <td>18</td>\n",
       "      <td>female</td>\n",
       "      <td>31.920</td>\n",
       "      <td>0</td>\n",
       "      <td>no</td>\n",
       "      <td>northeast</td>\n",
       "      <td>2205.98080</td>\n",
       "    </tr>\n",
       "    <tr>\n",
       "      <th>1335</th>\n",
       "      <td>18</td>\n",
       "      <td>female</td>\n",
       "      <td>36.850</td>\n",
       "      <td>0</td>\n",
       "      <td>no</td>\n",
       "      <td>southeast</td>\n",
       "      <td>1629.83350</td>\n",
       "    </tr>\n",
       "    <tr>\n",
       "      <th>1336</th>\n",
       "      <td>21</td>\n",
       "      <td>female</td>\n",
       "      <td>25.800</td>\n",
       "      <td>0</td>\n",
       "      <td>no</td>\n",
       "      <td>southwest</td>\n",
       "      <td>2007.94500</td>\n",
       "    </tr>\n",
       "    <tr>\n",
       "      <th>1337</th>\n",
       "      <td>61</td>\n",
       "      <td>female</td>\n",
       "      <td>29.070</td>\n",
       "      <td>0</td>\n",
       "      <td>yes</td>\n",
       "      <td>northwest</td>\n",
       "      <td>29141.36030</td>\n",
       "    </tr>\n",
       "  </tbody>\n",
       "</table>\n",
       "<p>1338 rows × 7 columns</p>\n",
       "</div>"
      ],
      "text/plain": [
       "      age     sex     bmi  children smoker     region      charges\n",
       "0      19  female  27.900         0    yes  southwest  16884.92400\n",
       "1      18    male  33.770         1     no  southeast   1725.55230\n",
       "2      28    male  33.000         3     no  southeast   4449.46200\n",
       "3      33    male  22.705         0     no  northwest  21984.47061\n",
       "4      32    male  28.880         0     no  northwest   3866.85520\n",
       "...   ...     ...     ...       ...    ...        ...          ...\n",
       "1333   50    male  30.970         3     no  northwest  10600.54830\n",
       "1334   18  female  31.920         0     no  northeast   2205.98080\n",
       "1335   18  female  36.850         0     no  southeast   1629.83350\n",
       "1336   21  female  25.800         0     no  southwest   2007.94500\n",
       "1337   61  female  29.070         0    yes  northwest  29141.36030\n",
       "\n",
       "[1338 rows x 7 columns]"
      ]
     },
     "execution_count": 20,
     "metadata": {},
     "output_type": "execute_result"
    }
   ],
   "source": [
    "df"
   ]
  },
  {
   "cell_type": "code",
   "execution_count": 21,
   "id": "b5128d1e",
   "metadata": {},
   "outputs": [
    {
     "data": {
      "text/plain": [
       "array(['yes', 'no'], dtype=object)"
      ]
     },
     "execution_count": 21,
     "metadata": {},
     "output_type": "execute_result"
    }
   ],
   "source": [
    "df['smoker'].unique()"
   ]
  },
  {
   "cell_type": "code",
   "execution_count": 22,
   "id": "6b5a4107",
   "metadata": {},
   "outputs": [
    {
     "data": {
      "text/plain": [
       "2"
      ]
     },
     "execution_count": 22,
     "metadata": {},
     "output_type": "execute_result"
    }
   ],
   "source": [
    "df['smoker'].nunique()"
   ]
  },
  {
   "cell_type": "code",
   "execution_count": 23,
   "id": "d6d407d5",
   "metadata": {
    "scrolled": true
   },
   "outputs": [
    {
     "data": {
      "text/plain": [
       "array(['southwest', 'southeast', 'northwest', 'northeast'], dtype=object)"
      ]
     },
     "execution_count": 23,
     "metadata": {},
     "output_type": "execute_result"
    }
   ],
   "source": [
    "df['region'].unique()"
   ]
  },
  {
   "cell_type": "code",
   "execution_count": 24,
   "id": "8c6de664",
   "metadata": {},
   "outputs": [
    {
     "data": {
      "text/plain": [
       "4"
      ]
     },
     "execution_count": 24,
     "metadata": {},
     "output_type": "execute_result"
    }
   ],
   "source": [
    "df['region'].nunique()"
   ]
  },
  {
   "cell_type": "code",
   "execution_count": 25,
   "id": "7d634b89",
   "metadata": {},
   "outputs": [
    {
     "data": {
      "text/plain": [
       "array([16884.924 ,  1725.5523,  4449.462 , ...,  1629.8335,  2007.945 ,\n",
       "       29141.3603])"
      ]
     },
     "execution_count": 25,
     "metadata": {},
     "output_type": "execute_result"
    }
   ],
   "source": [
    "df['charges'].unique()"
   ]
  },
  {
   "cell_type": "code",
   "execution_count": 26,
   "id": "f4145d97",
   "metadata": {},
   "outputs": [
    {
     "data": {
      "text/plain": [
       "1337"
      ]
     },
     "execution_count": 26,
     "metadata": {},
     "output_type": "execute_result"
    }
   ],
   "source": [
    "df['charges'].nunique()"
   ]
  },
  {
   "cell_type": "code",
   "execution_count": 27,
   "id": "1f03acc2",
   "metadata": {},
   "outputs": [
    {
     "data": {
      "text/plain": [
       "1338"
      ]
     },
     "execution_count": 27,
     "metadata": {},
     "output_type": "execute_result"
    }
   ],
   "source": [
    "df.shape[0]  #It will only give the rows of dataframe because we are using  [0]"
   ]
  },
  {
   "cell_type": "code",
   "execution_count": 28,
   "id": "67122d43",
   "metadata": {},
   "outputs": [
    {
     "data": {
      "text/html": [
       "<div>\n",
       "<style scoped>\n",
       "    .dataframe tbody tr th:only-of-type {\n",
       "        vertical-align: middle;\n",
       "    }\n",
       "\n",
       "    .dataframe tbody tr th {\n",
       "        vertical-align: top;\n",
       "    }\n",
       "\n",
       "    .dataframe thead th {\n",
       "        text-align: right;\n",
       "    }\n",
       "</style>\n",
       "<table border=\"1\" class=\"dataframe\">\n",
       "  <thead>\n",
       "    <tr style=\"text-align: right;\">\n",
       "      <th></th>\n",
       "      <th>age</th>\n",
       "      <th>sex</th>\n",
       "      <th>bmi</th>\n",
       "      <th>children</th>\n",
       "      <th>smoker</th>\n",
       "      <th>region</th>\n",
       "      <th>charges</th>\n",
       "    </tr>\n",
       "  </thead>\n",
       "  <tbody>\n",
       "  </tbody>\n",
       "</table>\n",
       "</div>"
      ],
      "text/plain": [
       "Empty DataFrame\n",
       "Columns: [age, sex, bmi, children, smoker, region, charges]\n",
       "Index: []"
      ]
     },
     "execution_count": 28,
     "metadata": {},
     "output_type": "execute_result"
    }
   ],
   "source": [
    "df.loc[df['charges']== \" \"]     #It will count the white spaces or blank found in any column if found we will fill with nan values"
   ]
  },
  {
   "cell_type": "markdown",
   "id": "416715c6",
   "metadata": {},
   "source": [
    "Visualization of the Data:"
   ]
  },
  {
   "cell_type": "code",
   "execution_count": 29,
   "id": "28c52cf3",
   "metadata": {},
   "outputs": [],
   "source": [
    "df_visualization_nominal=df[['sex','smoker','region']]"
   ]
  },
  {
   "cell_type": "code",
   "execution_count": 30,
   "id": "1796080f",
   "metadata": {},
   "outputs": [
    {
     "data": {
      "text/plain": [
       "Index(['sex', 'smoker', 'region'], dtype='object')"
      ]
     },
     "execution_count": 30,
     "metadata": {},
     "output_type": "execute_result"
    }
   ],
   "source": [
    "df_visualization_nominal.columns"
   ]
  },
  {
   "cell_type": "raw",
   "id": "91d16cf7",
   "metadata": {},
   "source": [
    "For the nominal categorical data we will use countplot as it will give the frequency of the classes of the column"
   ]
  },
  {
   "cell_type": "code",
   "execution_count": 31,
   "id": "07584479",
   "metadata": {},
   "outputs": [],
   "source": [
    "import seaborn as sns"
   ]
  },
  {
   "cell_type": "code",
   "execution_count": 32,
   "id": "a71b3ef5",
   "metadata": {},
   "outputs": [
    {
     "name": "stdout",
     "output_type": "stream",
     "text": [
      "male      676\n",
      "female    662\n",
      "Name: sex, dtype: int64\n"
     ]
    },
    {
     "data": {
      "image/png": "[encoded data removed]",
      "text/plain": [
       "<Figure size 432x288 with 1 Axes>"
      ]
     },
     "metadata": {
      "needs_background": "light"
     },
     "output_type": "display_data"
    }
   ],
   "source": [
    "ax= sns.countplot(x=\"sex\",data=df_visualization_nominal)\n",
    "print(df_visualization_nominal[\"sex\"].value_counts())"
   ]
  },
  {
   "cell_type": "raw",
   "id": "aa617715",
   "metadata": {},
   "source": [
    "From the above observation there are total no. of male is 676 and total no. of female is 662"
   ]
  },
  {
   "cell_type": "code",
   "execution_count": 33,
   "id": "ddee4d5d",
   "metadata": {},
   "outputs": [
    {
     "name": "stdout",
     "output_type": "stream",
     "text": [
      "no     1064\n",
      "yes     274\n",
      "Name: smoker, dtype: int64\n"
     ]
    },
    {
     "data": {
      "image/png": "[encoded data removed]",
      "text/plain": [
       "<Figure size 432x288 with 1 Axes>"
      ]
     },
     "metadata": {
      "needs_background": "light"
     },
     "output_type": "display_data"
    }
   ],
   "source": [
    "ax= sns.countplot(x=\"smoker\",data=df_visualization_nominal)\n",
    "print(df_visualization_nominal[\"smoker\"].value_counts())"
   ]
  },
  {
   "cell_type": "raw",
   "id": "05af4b0e",
   "metadata": {},
   "source": [
    "From the above observation there are total no. of yes smoker is 274 and total no. of no smoker is 1064"
   ]
  },
  {
   "cell_type": "code",
   "execution_count": 34,
   "id": "6e76bd9d",
   "metadata": {},
   "outputs": [
    {
     "name": "stdout",
     "output_type": "stream",
     "text": [
      "southeast    364\n",
      "southwest    325\n",
      "northwest    325\n",
      "northeast    324\n",
      "Name: region, dtype: int64\n"
     ]
    },
    {
     "data": {
      "image/png": "[encoded data removed]",
      "text/plain": [
       "<Figure size 432x288 with 1 Axes>"
      ]
     },
     "metadata": {
      "needs_background": "light"
     },
     "output_type": "display_data"
    }
   ],
   "source": [
    "ax= sns.countplot(x=\"region\",data=df_visualization_nominal)\n",
    "print(df_visualization_nominal[\"region\"].value_counts())"
   ]
  },
  {
   "cell_type": "markdown",
   "id": "5c83c5a9",
   "metadata": {},
   "source": [
    "From the above observation highest number of region is 364 in southeast and lowest number of region is 324 in northeast and region in southwest and northwest is equal."
   ]
  },
  {
   "cell_type": "markdown",
   "id": "470d5ac9",
   "metadata": {},
   "source": [
    "Making DataFrame of the ordinal data"
   ]
  },
  {
   "cell_type": "code",
   "execution_count": 35,
   "id": "974a6568",
   "metadata": {},
   "outputs": [],
   "source": [
    "df_visualization_ordinal=df[[\"sex\",\"region\"]].copy()"
   ]
  },
  {
   "cell_type": "code",
   "execution_count": 36,
   "id": "99a42c28",
   "metadata": {},
   "outputs": [
    {
     "data": {
      "text/plain": [
       "<seaborn.axisgrid.FacetGrid at 0x169875b1160>"
      ]
     },
     "execution_count": 36,
     "metadata": {},
     "output_type": "execute_result"
    },
    {
     "data": {
      "image/png": "[encoded data removed]",
      "text/plain": [
       "<Figure size 360x360 with 1 Axes>"
      ]
     },
     "metadata": {
      "needs_background": "light"
     },
     "output_type": "display_data"
    }
   ],
   "source": [
    "sns.catplot(x=\"smoker\", y=\"region\", data=df)"
   ]
  },
  {
   "cell_type": "markdown",
   "id": "c7e3d5fb",
   "metadata": {},
   "source": [
    "Cheking the distribution of the continuous value of the float type columns."
   ]
  },
  {
   "cell_type": "code",
   "execution_count": 37,
   "id": "048250b0",
   "metadata": {},
   "outputs": [],
   "source": [
    "df_visualization_continuous=df[[\"bmi\",\"charges\"]].copy()"
   ]
  },
  {
   "cell_type": "code",
   "execution_count": 38,
   "id": "1f051649",
   "metadata": {},
   "outputs": [
    {
     "data": {
      "text/plain": [
       "<AxesSubplot:xlabel='bmi', ylabel='Density'>"
      ]
     },
     "execution_count": 38,
     "metadata": {},
     "output_type": "execute_result"
    },
    {
     "data": {
      "image/png": "[encoded data removed]",
      "text/plain": [
       "<Figure size 432x288 with 1 Axes>"
      ]
     },
     "metadata": {
      "needs_background": "light"
     },
     "output_type": "display_data"
    }
   ],
   "source": [
    "import seaborn as sns\n",
    "sns.distplot(df_visualization_continuous['bmi'],kde=True)"
   ]
  },
  {
   "cell_type": "code",
   "execution_count": 39,
   "id": "6524ddbc",
   "metadata": {},
   "outputs": [
    {
     "data": {
      "text/plain": [
       "<AxesSubplot:xlabel='charges', ylabel='Density'>"
      ]
     },
     "execution_count": 39,
     "metadata": {},
     "output_type": "execute_result"
    },
    {
     "data": {
      "image/png": "[encoded data removed]",
      "text/plain": [
       "<Figure size 432x288 with 1 Axes>"
      ]
     },
     "metadata": {
      "needs_background": "light"
     },
     "output_type": "display_data"
    }
   ],
   "source": [
    "import seaborn as sns\n",
    "sns.distplot(df_visualization_continuous['charges'],kde=True)"
   ]
  },
  {
   "cell_type": "code",
   "execution_count": 40,
   "id": "3616d449",
   "metadata": {},
   "outputs": [
    {
     "data": {
      "text/plain": [
       "age           int64\n",
       "sex          object\n",
       "bmi         float64\n",
       "children      int64\n",
       "smoker       object\n",
       "region       object\n",
       "charges     float64\n",
       "dtype: object"
      ]
     },
     "execution_count": 40,
     "metadata": {},
     "output_type": "execute_result"
    }
   ],
   "source": [
    "df.dtypes"
   ]
  },
  {
   "cell_type": "code",
   "execution_count": 41,
   "id": "9afc2772",
   "metadata": {},
   "outputs": [
    {
     "data": {
      "text/html": [
       "<div>\n",
       "<style scoped>\n",
       "    .dataframe tbody tr th:only-of-type {\n",
       "        vertical-align: middle;\n",
       "    }\n",
       "\n",
       "    .dataframe tbody tr th {\n",
       "        vertical-align: top;\n",
       "    }\n",
       "\n",
       "    .dataframe thead th {\n",
       "        text-align: right;\n",
       "    }\n",
       "</style>\n",
       "<table border=\"1\" class=\"dataframe\">\n",
       "  <thead>\n",
       "    <tr style=\"text-align: right;\">\n",
       "      <th></th>\n",
       "      <th>age</th>\n",
       "      <th>sex</th>\n",
       "      <th>bmi</th>\n",
       "      <th>children</th>\n",
       "      <th>smoker</th>\n",
       "      <th>region</th>\n",
       "      <th>charges</th>\n",
       "    </tr>\n",
       "  </thead>\n",
       "  <tbody>\n",
       "    <tr>\n",
       "      <th>0</th>\n",
       "      <td>19</td>\n",
       "      <td>female</td>\n",
       "      <td>27.900</td>\n",
       "      <td>0</td>\n",
       "      <td>yes</td>\n",
       "      <td>southwest</td>\n",
       "      <td>16884.92400</td>\n",
       "    </tr>\n",
       "    <tr>\n",
       "      <th>1</th>\n",
       "      <td>18</td>\n",
       "      <td>male</td>\n",
       "      <td>33.770</td>\n",
       "      <td>1</td>\n",
       "      <td>no</td>\n",
       "      <td>southeast</td>\n",
       "      <td>1725.55230</td>\n",
       "    </tr>\n",
       "    <tr>\n",
       "      <th>2</th>\n",
       "      <td>28</td>\n",
       "      <td>male</td>\n",
       "      <td>33.000</td>\n",
       "      <td>3</td>\n",
       "      <td>no</td>\n",
       "      <td>southeast</td>\n",
       "      <td>4449.46200</td>\n",
       "    </tr>\n",
       "    <tr>\n",
       "      <th>3</th>\n",
       "      <td>33</td>\n",
       "      <td>male</td>\n",
       "      <td>22.705</td>\n",
       "      <td>0</td>\n",
       "      <td>no</td>\n",
       "      <td>northwest</td>\n",
       "      <td>21984.47061</td>\n",
       "    </tr>\n",
       "    <tr>\n",
       "      <th>4</th>\n",
       "      <td>32</td>\n",
       "      <td>male</td>\n",
       "      <td>28.880</td>\n",
       "      <td>0</td>\n",
       "      <td>no</td>\n",
       "      <td>northwest</td>\n",
       "      <td>3866.85520</td>\n",
       "    </tr>\n",
       "    <tr>\n",
       "      <th>...</th>\n",
       "      <td>...</td>\n",
       "      <td>...</td>\n",
       "      <td>...</td>\n",
       "      <td>...</td>\n",
       "      <td>...</td>\n",
       "      <td>...</td>\n",
       "      <td>...</td>\n",
       "    </tr>\n",
       "    <tr>\n",
       "      <th>1333</th>\n",
       "      <td>50</td>\n",
       "      <td>male</td>\n",
       "      <td>30.970</td>\n",
       "      <td>3</td>\n",
       "      <td>no</td>\n",
       "      <td>northwest</td>\n",
       "      <td>10600.54830</td>\n",
       "    </tr>\n",
       "    <tr>\n",
       "      <th>1334</th>\n",
       "      <td>18</td>\n",
       "      <td>female</td>\n",
       "      <td>31.920</td>\n",
       "      <td>0</td>\n",
       "      <td>no</td>\n",
       "      <td>northeast</td>\n",
       "      <td>2205.98080</td>\n",
       "    </tr>\n",
       "    <tr>\n",
       "      <th>1335</th>\n",
       "      <td>18</td>\n",
       "      <td>female</td>\n",
       "      <td>36.850</td>\n",
       "      <td>0</td>\n",
       "      <td>no</td>\n",
       "      <td>southeast</td>\n",
       "      <td>1629.83350</td>\n",
       "    </tr>\n",
       "    <tr>\n",
       "      <th>1336</th>\n",
       "      <td>21</td>\n",
       "      <td>female</td>\n",
       "      <td>25.800</td>\n",
       "      <td>0</td>\n",
       "      <td>no</td>\n",
       "      <td>southwest</td>\n",
       "      <td>2007.94500</td>\n",
       "    </tr>\n",
       "    <tr>\n",
       "      <th>1337</th>\n",
       "      <td>61</td>\n",
       "      <td>female</td>\n",
       "      <td>29.070</td>\n",
       "      <td>0</td>\n",
       "      <td>yes</td>\n",
       "      <td>northwest</td>\n",
       "      <td>29141.36030</td>\n",
       "    </tr>\n",
       "  </tbody>\n",
       "</table>\n",
       "<p>1338 rows × 7 columns</p>\n",
       "</div>"
      ],
      "text/plain": [
       "      age     sex     bmi  children smoker     region      charges\n",
       "0      19  female  27.900         0    yes  southwest  16884.92400\n",
       "1      18    male  33.770         1     no  southeast   1725.55230\n",
       "2      28    male  33.000         3     no  southeast   4449.46200\n",
       "3      33    male  22.705         0     no  northwest  21984.47061\n",
       "4      32    male  28.880         0     no  northwest   3866.85520\n",
       "...   ...     ...     ...       ...    ...        ...          ...\n",
       "1333   50    male  30.970         3     no  northwest  10600.54830\n",
       "1334   18  female  31.920         0     no  northeast   2205.98080\n",
       "1335   18  female  36.850         0     no  southeast   1629.83350\n",
       "1336   21  female  25.800         0     no  southwest   2007.94500\n",
       "1337   61  female  29.070         0    yes  northwest  29141.36030\n",
       "\n",
       "[1338 rows x 7 columns]"
      ]
     },
     "execution_count": 41,
     "metadata": {},
     "output_type": "execute_result"
    }
   ],
   "source": [
    "df"
   ]
  },
  {
   "cell_type": "code",
   "execution_count": 42,
   "id": "389c2f6c",
   "metadata": {},
   "outputs": [],
   "source": [
    "from sklearn.preprocessing import OrdinalEncoder\n",
    "enc=OrdinalEncoder()"
   ]
  },
  {
   "cell_type": "code",
   "execution_count": 43,
   "id": "2c0225a5",
   "metadata": {},
   "outputs": [],
   "source": [
    "for i in df.columns:\n",
    "    if df[i].dtypes==\"object\":\n",
    "        df[i]=enc.fit_transform(df[i].values.reshape(-1,1))"
   ]
  },
  {
   "cell_type": "code",
   "execution_count": 44,
   "id": "8d7c435a",
   "metadata": {},
   "outputs": [
    {
     "data": {
      "text/html": [
       "<div>\n",
       "<style scoped>\n",
       "    .dataframe tbody tr th:only-of-type {\n",
       "        vertical-align: middle;\n",
       "    }\n",
       "\n",
       "    .dataframe tbody tr th {\n",
       "        vertical-align: top;\n",
       "    }\n",
       "\n",
       "    .dataframe thead th {\n",
       "        text-align: right;\n",
       "    }\n",
       "</style>\n",
       "<table border=\"1\" class=\"dataframe\">\n",
       "  <thead>\n",
       "    <tr style=\"text-align: right;\">\n",
       "      <th></th>\n",
       "      <th>age</th>\n",
       "      <th>sex</th>\n",
       "      <th>bmi</th>\n",
       "      <th>children</th>\n",
       "      <th>smoker</th>\n",
       "      <th>region</th>\n",
       "      <th>charges</th>\n",
       "    </tr>\n",
       "  </thead>\n",
       "  <tbody>\n",
       "    <tr>\n",
       "      <th>0</th>\n",
       "      <td>19</td>\n",
       "      <td>0.0</td>\n",
       "      <td>27.900</td>\n",
       "      <td>0</td>\n",
       "      <td>1.0</td>\n",
       "      <td>3.0</td>\n",
       "      <td>16884.92400</td>\n",
       "    </tr>\n",
       "    <tr>\n",
       "      <th>1</th>\n",
       "      <td>18</td>\n",
       "      <td>1.0</td>\n",
       "      <td>33.770</td>\n",
       "      <td>1</td>\n",
       "      <td>0.0</td>\n",
       "      <td>2.0</td>\n",
       "      <td>1725.55230</td>\n",
       "    </tr>\n",
       "    <tr>\n",
       "      <th>2</th>\n",
       "      <td>28</td>\n",
       "      <td>1.0</td>\n",
       "      <td>33.000</td>\n",
       "      <td>3</td>\n",
       "      <td>0.0</td>\n",
       "      <td>2.0</td>\n",
       "      <td>4449.46200</td>\n",
       "    </tr>\n",
       "    <tr>\n",
       "      <th>3</th>\n",
       "      <td>33</td>\n",
       "      <td>1.0</td>\n",
       "      <td>22.705</td>\n",
       "      <td>0</td>\n",
       "      <td>0.0</td>\n",
       "      <td>1.0</td>\n",
       "      <td>21984.47061</td>\n",
       "    </tr>\n",
       "    <tr>\n",
       "      <th>4</th>\n",
       "      <td>32</td>\n",
       "      <td>1.0</td>\n",
       "      <td>28.880</td>\n",
       "      <td>0</td>\n",
       "      <td>0.0</td>\n",
       "      <td>1.0</td>\n",
       "      <td>3866.85520</td>\n",
       "    </tr>\n",
       "    <tr>\n",
       "      <th>...</th>\n",
       "      <td>...</td>\n",
       "      <td>...</td>\n",
       "      <td>...</td>\n",
       "      <td>...</td>\n",
       "      <td>...</td>\n",
       "      <td>...</td>\n",
       "      <td>...</td>\n",
       "    </tr>\n",
       "    <tr>\n",
       "      <th>1333</th>\n",
       "      <td>50</td>\n",
       "      <td>1.0</td>\n",
       "      <td>30.970</td>\n",
       "      <td>3</td>\n",
       "      <td>0.0</td>\n",
       "      <td>1.0</td>\n",
       "      <td>10600.54830</td>\n",
       "    </tr>\n",
       "    <tr>\n",
       "      <th>1334</th>\n",
       "      <td>18</td>\n",
       "      <td>0.0</td>\n",
       "      <td>31.920</td>\n",
       "      <td>0</td>\n",
       "      <td>0.0</td>\n",
       "      <td>0.0</td>\n",
       "      <td>2205.98080</td>\n",
       "    </tr>\n",
       "    <tr>\n",
       "      <th>1335</th>\n",
       "      <td>18</td>\n",
       "      <td>0.0</td>\n",
       "      <td>36.850</td>\n",
       "      <td>0</td>\n",
       "      <td>0.0</td>\n",
       "      <td>2.0</td>\n",
       "      <td>1629.83350</td>\n",
       "    </tr>\n",
       "    <tr>\n",
       "      <th>1336</th>\n",
       "      <td>21</td>\n",
       "      <td>0.0</td>\n",
       "      <td>25.800</td>\n",
       "      <td>0</td>\n",
       "      <td>0.0</td>\n",
       "      <td>3.0</td>\n",
       "      <td>2007.94500</td>\n",
       "    </tr>\n",
       "    <tr>\n",
       "      <th>1337</th>\n",
       "      <td>61</td>\n",
       "      <td>0.0</td>\n",
       "      <td>29.070</td>\n",
       "      <td>0</td>\n",
       "      <td>1.0</td>\n",
       "      <td>1.0</td>\n",
       "      <td>29141.36030</td>\n",
       "    </tr>\n",
       "  </tbody>\n",
       "</table>\n",
       "<p>1338 rows × 7 columns</p>\n",
       "</div>"
      ],
      "text/plain": [
       "      age  sex     bmi  children  smoker  region      charges\n",
       "0      19  0.0  27.900         0     1.0     3.0  16884.92400\n",
       "1      18  1.0  33.770         1     0.0     2.0   1725.55230\n",
       "2      28  1.0  33.000         3     0.0     2.0   4449.46200\n",
       "3      33  1.0  22.705         0     0.0     1.0  21984.47061\n",
       "4      32  1.0  28.880         0     0.0     1.0   3866.85520\n",
       "...   ...  ...     ...       ...     ...     ...          ...\n",
       "1333   50  1.0  30.970         3     0.0     1.0  10600.54830\n",
       "1334   18  0.0  31.920         0     0.0     0.0   2205.98080\n",
       "1335   18  0.0  36.850         0     0.0     2.0   1629.83350\n",
       "1336   21  0.0  25.800         0     0.0     3.0   2007.94500\n",
       "1337   61  0.0  29.070         0     1.0     1.0  29141.36030\n",
       "\n",
       "[1338 rows x 7 columns]"
      ]
     },
     "execution_count": 44,
     "metadata": {},
     "output_type": "execute_result"
    }
   ],
   "source": [
    "df"
   ]
  },
  {
   "cell_type": "markdown",
   "id": "8743bb99",
   "metadata": {},
   "source": [
    "Describe the Dataset:"
   ]
  },
  {
   "cell_type": "code",
   "execution_count": 45,
   "id": "039b9a78",
   "metadata": {},
   "outputs": [
    {
     "data": {
      "text/html": [
       "<div>\n",
       "<style scoped>\n",
       "    .dataframe tbody tr th:only-of-type {\n",
       "        vertical-align: middle;\n",
       "    }\n",
       "\n",
       "    .dataframe tbody tr th {\n",
       "        vertical-align: top;\n",
       "    }\n",
       "\n",
       "    .dataframe thead th {\n",
       "        text-align: right;\n",
       "    }\n",
       "</style>\n",
       "<table border=\"1\" class=\"dataframe\">\n",
       "  <thead>\n",
       "    <tr style=\"text-align: right;\">\n",
       "      <th></th>\n",
       "      <th>age</th>\n",
       "      <th>sex</th>\n",
       "      <th>bmi</th>\n",
       "      <th>children</th>\n",
       "      <th>smoker</th>\n",
       "      <th>region</th>\n",
       "      <th>charges</th>\n",
       "    </tr>\n",
       "  </thead>\n",
       "  <tbody>\n",
       "    <tr>\n",
       "      <th>count</th>\n",
       "      <td>1338.000000</td>\n",
       "      <td>1338.000000</td>\n",
       "      <td>1338.000000</td>\n",
       "      <td>1338.000000</td>\n",
       "      <td>1338.000000</td>\n",
       "      <td>1338.000000</td>\n",
       "      <td>1338.000000</td>\n",
       "    </tr>\n",
       "    <tr>\n",
       "      <th>mean</th>\n",
       "      <td>39.207025</td>\n",
       "      <td>0.505232</td>\n",
       "      <td>30.663397</td>\n",
       "      <td>1.094918</td>\n",
       "      <td>0.204783</td>\n",
       "      <td>1.515695</td>\n",
       "      <td>13270.422265</td>\n",
       "    </tr>\n",
       "    <tr>\n",
       "      <th>std</th>\n",
       "      <td>14.049960</td>\n",
       "      <td>0.500160</td>\n",
       "      <td>6.098187</td>\n",
       "      <td>1.205493</td>\n",
       "      <td>0.403694</td>\n",
       "      <td>1.104885</td>\n",
       "      <td>12110.011237</td>\n",
       "    </tr>\n",
       "    <tr>\n",
       "      <th>min</th>\n",
       "      <td>18.000000</td>\n",
       "      <td>0.000000</td>\n",
       "      <td>15.960000</td>\n",
       "      <td>0.000000</td>\n",
       "      <td>0.000000</td>\n",
       "      <td>0.000000</td>\n",
       "      <td>1121.873900</td>\n",
       "    </tr>\n",
       "    <tr>\n",
       "      <th>25%</th>\n",
       "      <td>27.000000</td>\n",
       "      <td>0.000000</td>\n",
       "      <td>26.296250</td>\n",
       "      <td>0.000000</td>\n",
       "      <td>0.000000</td>\n",
       "      <td>1.000000</td>\n",
       "      <td>4740.287150</td>\n",
       "    </tr>\n",
       "    <tr>\n",
       "      <th>50%</th>\n",
       "      <td>39.000000</td>\n",
       "      <td>1.000000</td>\n",
       "      <td>30.400000</td>\n",
       "      <td>1.000000</td>\n",
       "      <td>0.000000</td>\n",
       "      <td>2.000000</td>\n",
       "      <td>9382.033000</td>\n",
       "    </tr>\n",
       "    <tr>\n",
       "      <th>75%</th>\n",
       "      <td>51.000000</td>\n",
       "      <td>1.000000</td>\n",
       "      <td>34.693750</td>\n",
       "      <td>2.000000</td>\n",
       "      <td>0.000000</td>\n",
       "      <td>2.000000</td>\n",
       "      <td>16639.912515</td>\n",
       "    </tr>\n",
       "    <tr>\n",
       "      <th>max</th>\n",
       "      <td>64.000000</td>\n",
       "      <td>1.000000</td>\n",
       "      <td>53.130000</td>\n",
       "      <td>5.000000</td>\n",
       "      <td>1.000000</td>\n",
       "      <td>3.000000</td>\n",
       "      <td>63770.428010</td>\n",
       "    </tr>\n",
       "  </tbody>\n",
       "</table>\n",
       "</div>"
      ],
      "text/plain": [
       "               age          sex          bmi     children       smoker  \\\n",
       "count  1338.000000  1338.000000  1338.000000  1338.000000  1338.000000   \n",
       "mean     39.207025     0.505232    30.663397     1.094918     0.204783   \n",
       "std      14.049960     0.500160     6.098187     1.205493     0.403694   \n",
       "min      18.000000     0.000000    15.960000     0.000000     0.000000   \n",
       "25%      27.000000     0.000000    26.296250     0.000000     0.000000   \n",
       "50%      39.000000     1.000000    30.400000     1.000000     0.000000   \n",
       "75%      51.000000     1.000000    34.693750     2.000000     0.000000   \n",
       "max      64.000000     1.000000    53.130000     5.000000     1.000000   \n",
       "\n",
       "            region       charges  \n",
       "count  1338.000000   1338.000000  \n",
       "mean      1.515695  13270.422265  \n",
       "std       1.104885  12110.011237  \n",
       "min       0.000000   1121.873900  \n",
       "25%       1.000000   4740.287150  \n",
       "50%       2.000000   9382.033000  \n",
       "75%       2.000000  16639.912515  \n",
       "max       3.000000  63770.428010  "
      ]
     },
     "execution_count": 45,
     "metadata": {},
     "output_type": "execute_result"
    }
   ],
   "source": [
    "#only continuous columns\n",
    "df.describe()"
   ]
  },
  {
   "cell_type": "markdown",
   "id": "80e4078c",
   "metadata": {},
   "source": [
    "# df.describe \n",
    "gives count means number of rows present in dataset.\n",
    "gives mean of all column as well as std(standard deviation).\n",
    "gives minimum values of each column.\n",
    "gives 25% means first quantile, 50% means second quantile or median & 75% means third quantile.\n",
    "gives maximum value i.e. larger value present in dataset.\n"
   ]
  },
  {
   "cell_type": "markdown",
   "id": "f82d6ab6",
   "metadata": {},
   "source": [
    "Every columns has same count i.e. there is no missing values present in dataset."
   ]
  },
  {
   "cell_type": "markdown",
   "id": "e4265d67",
   "metadata": {},
   "source": [
    "From above observation mean is greater than median in column mostly in bmi & charges columns skewed \n",
    "so my data is skewed to the right i.e mean>median(50%) ."
   ]
  },
  {
   "cell_type": "markdown",
   "id": "ce39a50a",
   "metadata": {},
   "source": [
    "But in region and in sex column mean<median so my data is skewed to the left."
   ]
  },
  {
   "cell_type": "markdown",
   "id": "764e090e",
   "metadata": {},
   "source": [
    "From above observation there is huge difference between 75% & max hence there is no outliers present in the dataset."
   ]
  },
  {
   "cell_type": "code",
   "execution_count": 46,
   "id": "a031e0b4",
   "metadata": {},
   "outputs": [
    {
     "data": {
      "text/plain": [
       "<AxesSubplot:>"
      ]
     },
     "execution_count": 46,
     "metadata": {},
     "output_type": "execute_result"
    },
    {
     "data": {
      "image/png": "[encoded data removed]",
      "text/plain": [
       "<Figure size 1584x576 with 2 Axes>"
      ]
     },
     "metadata": {
      "needs_background": "light"
     },
     "output_type": "display_data"
    }
   ],
   "source": [
    "import matplotlib.pyplot as plt                       #Showing scale 60000 means very good correlation positive correlation as we move down sacle value decreases means downward correlation decreases\n",
    "plt.figure(figsize=(22,8))\n",
    "sns.heatmap(df.describe(),annot=True, linewidths=0.5,linecolor=\"black\",fmt='.2f')"
   ]
  },
  {
   "cell_type": "markdown",
   "id": "709a0755",
   "metadata": {},
   "source": [
    "Correlation of the column with the target column:   #Correlation means the correlation finds out the relatioship between variables"
   ]
  },
  {
   "cell_type": "code",
   "execution_count": 47,
   "id": "b4f3c374",
   "metadata": {},
   "outputs": [
    {
     "data": {
      "text/plain": [
       "region     -0.006208\n",
       "sex         0.057292\n",
       "children    0.067998\n",
       "bmi         0.198341\n",
       "age         0.299008\n",
       "smoker      0.787251\n",
       "charges     1.000000\n",
       "Name: charges, dtype: float64"
      ]
     },
     "execution_count": 47,
     "metadata": {},
     "output_type": "execute_result"
    }
   ],
   "source": [
    "df.corr()['charges'].sort_values()"
   ]
  },
  {
   "cell_type": "markdown",
   "id": "41e19073",
   "metadata": {},
   "source": [
    "Correlation also find out the realatinship between one dependent variable & one independent variable and find out the strength also."
   ]
  },
  {
   "cell_type": "markdown",
   "id": "ae70fcf7",
   "metadata": {},
   "source": [
    "Range of correlation is -1 to 1 i.e. -1 means highly negative correlated and 1 means highly positive correlated and 0 means no correlation i.e. they are independent to each other."
   ]
  },
  {
   "cell_type": "code",
   "execution_count": 48,
   "id": "658667c7",
   "metadata": {},
   "outputs": [
    {
     "data": {
      "text/plain": [
       "<AxesSubplot:>"
      ]
     },
     "execution_count": 48,
     "metadata": {},
     "output_type": "execute_result"
    },
    {
     "data": {
      "image/png": "[encoded data removed]",
      "text/plain": [
       "<Figure size 1584x576 with 2 Axes>"
      ]
     },
     "metadata": {
      "needs_background": "light"
     },
     "output_type": "display_data"
    }
   ],
   "source": [
    "import matplotlib.pyplot as plt                       #Showing scale 1 means very good correlation positive correlation as we move down sacle value decreases means downward correlation decreases\n",
    "plt.figure(figsize=(22,8))\n",
    "sns.heatmap(df.corr(),annot=True, linewidths=0.5,linecolor=\"black\",fmt='.2f')"
   ]
  },
  {
   "cell_type": "markdown",
   "id": "e34d02fa",
   "metadata": {},
   "source": [
    "Cheking the columns which are positively and negative correlated with the target columns:"
   ]
  },
  {
   "cell_type": "code",
   "execution_count": 49,
   "id": "f1437722",
   "metadata": {},
   "outputs": [
    {
     "data": {
      "image/png": "[encoded data removed]",
      "text/plain": [
       "<Figure size 1584x504 with 1 Axes>"
      ]
     },
     "metadata": {
      "needs_background": "light"
     },
     "output_type": "display_data"
    }
   ],
   "source": [
    "plt.figure(figsize=(22,7))\n",
    "df.corr()['charges'].sort_values(ascending=False).drop(['charges']).plot(kind='bar',color='c')\n",
    "plt.xlabel('Feature',fontsize=20)\n",
    "plt.ylabel('column with target names',fontsize=18)\n",
    "plt.title('correlation',fontsize=18)\n",
    "plt.show()"
   ]
  },
  {
   "cell_type": "code",
   "execution_count": 50,
   "id": "cf54ea35",
   "metadata": {},
   "outputs": [
    {
     "data": {
      "text/plain": [
       "age         0.055673\n",
       "sex        -0.020951\n",
       "bmi         0.284047\n",
       "children    0.938380\n",
       "smoker      1.464766\n",
       "region     -0.038101\n",
       "charges     1.515880\n",
       "dtype: float64"
      ]
     },
     "execution_count": 50,
     "metadata": {},
     "output_type": "execute_result"
    }
   ],
   "source": [
    "df.skew()       #Skewness means my data is shifted to either side whether left side or right side means my date is if not normally distributed so skewness is present."
   ]
  },
  {
   "cell_type": "markdown",
   "id": "2b5eb402",
   "metadata": {},
   "source": [
    "Keeping +/-0.5 as the range for skewness,here are the columns which does not lie within this range.\n",
    "Children,smoker,charges"
   ]
  },
  {
   "cell_type": "markdown",
   "id": "1ae4cf95",
   "metadata": {},
   "source": [
    "Since no column has skewness,we will not treat that."
   ]
  },
  {
   "cell_type": "markdown",
   "id": "16ab877d",
   "metadata": {},
   "source": [
    "Outliers Check:"
   ]
  },
  {
   "cell_type": "code",
   "execution_count": 51,
   "id": "7f4b2363",
   "metadata": {},
   "outputs": [
    {
     "data": {
      "text/plain": [
       "age           int64\n",
       "sex         float64\n",
       "bmi         float64\n",
       "children      int64\n",
       "smoker      float64\n",
       "region      float64\n",
       "charges     float64\n",
       "dtype: object"
      ]
     },
     "execution_count": 51,
     "metadata": {},
     "output_type": "execute_result"
    }
   ],
   "source": [
    "df.dtypes"
   ]
  },
  {
   "cell_type": "markdown",
   "id": "724f8048",
   "metadata": {},
   "source": [
    "Cheking the outliers on the int and float type of columns and we can not apply on the sex,smoker & region column because they where object type before encoding"
   ]
  },
  {
   "cell_type": "code",
   "execution_count": 52,
   "id": "a3e9a833",
   "metadata": {},
   "outputs": [
    {
     "data": {
      "text/plain": [
       "<AxesSubplot:>"
      ]
     },
     "execution_count": 52,
     "metadata": {},
     "output_type": "execute_result"
    },
    {
     "data": {
      "image/png": "[encoded data removed]",
      "text/plain": [
       "<Figure size 432x288 with 1 Axes>"
      ]
     },
     "metadata": {
      "needs_background": "light"
     },
     "output_type": "display_data"
    }
   ],
   "source": [
    "df['age'].plot.box()"
   ]
  },
  {
   "cell_type": "markdown",
   "id": "027b70a9",
   "metadata": {},
   "source": [
    "From above plot there is no outlier is present"
   ]
  },
  {
   "cell_type": "code",
   "execution_count": 53,
   "id": "e25424b3",
   "metadata": {},
   "outputs": [
    {
     "data": {
      "text/plain": [
       "<AxesSubplot:>"
      ]
     },
     "execution_count": 53,
     "metadata": {},
     "output_type": "execute_result"
    },
    {
     "data": {
      "image/png": "[encoded data removed]",
      "text/plain": [
       "<Figure size 432x288 with 1 Axes>"
      ]
     },
     "metadata": {
      "needs_background": "light"
     },
     "output_type": "display_data"
    }
   ],
   "source": [
    "df['bmi'].plot.box()"
   ]
  },
  {
   "cell_type": "markdown",
   "id": "adfde9ef",
   "metadata": {},
   "source": [
    "From above plot there is outlier present"
   ]
  },
  {
   "cell_type": "code",
   "execution_count": 54,
   "id": "8940004c",
   "metadata": {},
   "outputs": [
    {
     "data": {
      "text/plain": [
       "<AxesSubplot:>"
      ]
     },
     "execution_count": 54,
     "metadata": {},
     "output_type": "execute_result"
    },
    {
     "data": {
      "image/png": "[encoded data removed]",
      "text/plain": [
       "<Figure size 432x288 with 1 Axes>"
      ]
     },
     "metadata": {
      "needs_background": "light"
     },
     "output_type": "display_data"
    }
   ],
   "source": [
    "df['children'].plot.box()"
   ]
  },
  {
   "cell_type": "markdown",
   "id": "d7d35734",
   "metadata": {},
   "source": [
    "From above plot there is no outlier is present"
   ]
  },
  {
   "cell_type": "code",
   "execution_count": 55,
   "id": "0adcbb7f",
   "metadata": {},
   "outputs": [
    {
     "data": {
      "text/plain": [
       "<AxesSubplot:>"
      ]
     },
     "execution_count": 55,
     "metadata": {},
     "output_type": "execute_result"
    },
    {
     "data": {
      "image/png": "[encoded data removed]",
      "text/plain": [
       "<Figure size 432x288 with 1 Axes>"
      ]
     },
     "metadata": {
      "needs_background": "light"
     },
     "output_type": "display_data"
    }
   ],
   "source": [
    "df['charges'].plot.box()"
   ]
  },
  {
   "cell_type": "markdown",
   "id": "74cc2491",
   "metadata": {},
   "source": [
    "From above plot there is outlier present"
   ]
  },
  {
   "cell_type": "markdown",
   "id": "40eda3e2",
   "metadata": {},
   "source": [
    "Considering the outlier removal:"
   ]
  },
  {
   "cell_type": "code",
   "execution_count": 56,
   "id": "786cdec7",
   "metadata": {},
   "outputs": [
    {
     "data": {
      "text/plain": [
       "(1338, 7)"
      ]
     },
     "execution_count": 56,
     "metadata": {},
     "output_type": "execute_result"
    }
   ],
   "source": [
    "df.shape"
   ]
  },
  {
   "cell_type": "code",
   "execution_count": 57,
   "id": "a7b7405b",
   "metadata": {},
   "outputs": [
    {
     "data": {
      "text/plain": [
       "(1338, 7)"
      ]
     },
     "execution_count": 57,
     "metadata": {},
     "output_type": "execute_result"
    }
   ],
   "source": [
    "from scipy.stats import zscore\n",
    "import numpy as np\n",
    "z=np.abs(zscore(df))\n",
    "z.shape\n"
   ]
  },
  {
   "cell_type": "code",
   "execution_count": 58,
   "id": "879cb978",
   "metadata": {},
   "outputs": [
    {
     "name": "stdout",
     "output_type": "stream",
     "text": [
      "(array([  32,   34,   71,  116,  166,  413,  425,  438,  543,  568,  577,\n",
      "        640,  819,  847,  877,  932,  937,  969,  984, 1047, 1085, 1116,\n",
      "       1130, 1146, 1230, 1245, 1272, 1300, 1317], dtype=int64), array([3, 6, 3, 2, 3, 3, 3, 3, 6, 3, 6, 3, 6, 2, 3, 3, 3, 3, 3, 2, 3, 3,\n",
      "       3, 6, 6, 3, 3, 6, 2], dtype=int64))\n"
     ]
    }
   ],
   "source": [
    "\n",
    "threshold=3\n",
    "print(np.where(z>3))"
   ]
  },
  {
   "cell_type": "code",
   "execution_count": 59,
   "id": "4136e8d1",
   "metadata": {},
   "outputs": [
    {
     "data": {
      "text/plain": [
       "(1309, 7)"
      ]
     },
     "execution_count": 59,
     "metadata": {},
     "output_type": "execute_result"
    }
   ],
   "source": [
    "df=df[(z<3).all(axis=1)]\n",
    "\"\"\"print(df.shape)\n",
    "print(df_new.shape)\"\"\"\n",
    "df.shape"
   ]
  },
  {
   "cell_type": "code",
   "execution_count": 60,
   "id": "019cde2d",
   "metadata": {},
   "outputs": [
    {
     "data": {
      "text/plain": [
       "(1309, 7)"
      ]
     },
     "execution_count": 60,
     "metadata": {},
     "output_type": "execute_result"
    }
   ],
   "source": [
    "df.shape"
   ]
  },
  {
   "cell_type": "markdown",
   "id": "9baeeb7a",
   "metadata": {},
   "source": [
    "Percentage data loss:"
   ]
  },
  {
   "cell_type": "code",
   "execution_count": 61,
   "id": "5e50e934",
   "metadata": {},
   "outputs": [
    {
     "name": "stdout",
     "output_type": "stream",
     "text": [
      "2.167414050822123\n"
     ]
    }
   ],
   "source": [
    "loss_percent=(1338-1309)/1338*100        \n",
    "print(loss_percent) "
   ]
  },
  {
   "cell_type": "markdown",
   "id": "082ca84e",
   "metadata": {},
   "source": [
    "So from data loss percent acceptable range of data loss is only 10% and if data loss is greater than 10% apply interquartile \n",
    "method to treat the outliers"
   ]
  },
  {
   "cell_type": "markdown",
   "id": "a18eaeec",
   "metadata": {},
   "source": [
    "Separating the columns into features and target:"
   ]
  },
  {
   "cell_type": "code",
   "execution_count": 62,
   "id": "574460a1",
   "metadata": {},
   "outputs": [],
   "source": [
    "features=df.drop(\"charges\",axis=1)\n",
    "target=df[\"charges\"]"
   ]
  },
  {
   "cell_type": "markdown",
   "id": "8f0281bd",
   "metadata": {},
   "source": [
    "Scaling the data using Min-Max Scaler"
   ]
  },
  {
   "cell_type": "code",
   "execution_count": 63,
   "id": "e1a5ecda",
   "metadata": {},
   "outputs": [],
   "source": [
    "from sklearn.preprocessing import MinMaxScaler         #Scaling technique is used to reduce the size of the values present in the continuous values\n",
    "mms=MinMaxScaler()\n",
    "from sklearn.linear_model import LinearRegression\n",
    "lr=LinearRegression()\n",
    "from sklearn.metrics import r2_score\n",
    "from sklearn.model_selection import train_test_split"
   ]
  },
  {
   "cell_type": "code",
   "execution_count": 64,
   "id": "46ffe536",
   "metadata": {},
   "outputs": [],
   "source": [
    "import warnings\n",
    "warnings.filterwarnings('ignore')"
   ]
  },
  {
   "cell_type": "code",
   "execution_count": 65,
   "id": "548bef2d",
   "metadata": {},
   "outputs": [
    {
     "name": "stdout",
     "output_type": "stream",
     "text": [
      "At random state 0,the training accuracy is:- 0.7417605652316129\n",
      "At random state 0,the testing accuracy is:- 0.7892477599105713\n",
      "\n",
      "\n",
      "At random state 1,the training accuracy is:- 0.752261600085595\n",
      "At random state 1,the testing accuracy is:- 0.7549280680101378\n",
      "\n",
      "\n",
      "At random state 2,the training accuracy is:- 0.761875194636673\n",
      "At random state 2,the testing accuracy is:- 0.7163471107004836\n",
      "\n",
      "\n",
      "At random state 3,the training accuracy is:- 0.7553168693545468\n",
      "At random state 3,the testing accuracy is:- 0.7429714679722454\n",
      "\n",
      "\n",
      "At random state 4,the training accuracy is:- 0.7569205597007564\n",
      "At random state 4,the testing accuracy is:- 0.7352088866730078\n",
      "\n",
      "\n",
      "At random state 5,the training accuracy is:- 0.7544674693947364\n",
      "At random state 5,the testing accuracy is:- 0.7460223930639375\n",
      "\n",
      "\n",
      "At random state 6,the training accuracy is:- 0.7493264966818254\n",
      "At random state 6,the testing accuracy is:- 0.7672349193524791\n",
      "\n",
      "\n",
      "At random state 7,the training accuracy is:- 0.7597044836124265\n",
      "At random state 7,the testing accuracy is:- 0.7236812667176102\n",
      "\n",
      "\n",
      "At random state 8,the training accuracy is:- 0.7566009701669908\n",
      "At random state 8,the testing accuracy is:- 0.7346156719767027\n",
      "\n",
      "\n",
      "At random state 9,the training accuracy is:- 0.7440919178192946\n",
      "At random state 9,the testing accuracy is:- 0.7796405823230851\n",
      "\n",
      "\n",
      "At random state 10,the training accuracy is:- 0.7435168248619872\n",
      "At random state 10,the testing accuracy is:- 0.7856137444224738\n",
      "\n",
      "\n",
      "At random state 11,the training accuracy is:- 0.7535052340194462\n",
      "At random state 11,the testing accuracy is:- 0.7500071959675432\n",
      "\n",
      "\n",
      "At random state 12,the training accuracy is:- 0.7483424183373256\n",
      "At random state 12,the testing accuracy is:- 0.7661708531502773\n",
      "\n",
      "\n",
      "At random state 13,the training accuracy is:- 0.7516951031538712\n",
      "At random state 13,the testing accuracy is:- 0.755656042709425\n",
      "\n",
      "\n",
      "At random state 14,the training accuracy is:- 0.7561260375761347\n",
      "At random state 14,the testing accuracy is:- 0.7356133268064731\n",
      "\n",
      "\n",
      "At random state 15,the training accuracy is:- 0.7519730980780804\n",
      "At random state 15,the testing accuracy is:- 0.7562378488050759\n",
      "\n",
      "\n",
      "At random state 16,the training accuracy is:- 0.7584238305724467\n",
      "At random state 16,the testing accuracy is:- 0.7235164694793751\n",
      "\n",
      "\n",
      "At random state 17,the training accuracy is:- 0.7671275819601155\n",
      "At random state 17,the testing accuracy is:- 0.6826422099679125\n",
      "\n",
      "\n",
      "At random state 18,the training accuracy is:- 0.7570157609554786\n",
      "At random state 18,the testing accuracy is:- 0.7303350233013777\n",
      "\n",
      "\n",
      "At random state 19,the training accuracy is:- 0.7486023777453104\n",
      "At random state 19,the testing accuracy is:- 0.7703265888378613\n",
      "\n",
      "\n",
      "At random state 20,the training accuracy is:- 0.7574830845856324\n",
      "At random state 20,the testing accuracy is:- 0.7316187142430983\n",
      "\n",
      "\n",
      "At random state 21,the training accuracy is:- 0.7567473965835239\n",
      "At random state 21,the testing accuracy is:- 0.7377066580427818\n",
      "\n",
      "\n",
      "At random state 22,the training accuracy is:- 0.7572420975322922\n",
      "At random state 22,the testing accuracy is:- 0.7328246984241231\n",
      "\n",
      "\n",
      "At random state 23,the training accuracy is:- 0.7450437954623688\n",
      "At random state 23,the testing accuracy is:- 0.7826738917523407\n",
      "\n",
      "\n",
      "At random state 24,the training accuracy is:- 0.7677176856752775\n",
      "At random state 24,the testing accuracy is:- 0.6890041969841818\n",
      "\n",
      "\n",
      "At random state 25,the training accuracy is:- 0.747997814527338\n",
      "At random state 25,the testing accuracy is:- 0.7725077166668534\n",
      "\n",
      "\n",
      "At random state 26,the training accuracy is:- 0.7534568953489656\n",
      "At random state 26,the testing accuracy is:- 0.7375174127604179\n",
      "\n",
      "\n",
      "At random state 27,the training accuracy is:- 0.7458950790013703\n",
      "At random state 27,the testing accuracy is:- 0.7814944675071389\n",
      "\n",
      "\n",
      "At random state 28,the training accuracy is:- 0.7484424070903082\n",
      "At random state 28,the testing accuracy is:- 0.7696060877786871\n",
      "\n",
      "\n",
      "At random state 29,the training accuracy is:- 0.7477368209206782\n",
      "At random state 29,the testing accuracy is:- 0.7687575449047018\n",
      "\n",
      "\n",
      "At random state 30,the training accuracy is:- 0.7482785308496471\n",
      "At random state 30,the testing accuracy is:- 0.7696124644579783\n",
      "\n",
      "\n",
      "At random state 31,the training accuracy is:- 0.764961372769903\n",
      "At random state 31,the testing accuracy is:- 0.7056794611243613\n",
      "\n",
      "\n",
      "At random state 32,the training accuracy is:- 0.7457734167724652\n",
      "At random state 32,the testing accuracy is:- 0.7793852869391474\n",
      "\n",
      "\n",
      "At random state 33,the training accuracy is:- 0.7540395107084144\n",
      "At random state 33,the testing accuracy is:- 0.7427796799871516\n",
      "\n",
      "\n",
      "At random state 34,the training accuracy is:- 0.7482344145074951\n",
      "At random state 34,the testing accuracy is:- 0.7705794837433846\n",
      "\n",
      "\n",
      "At random state 35,the training accuracy is:- 0.7593257046583927\n",
      "At random state 35,the testing accuracy is:- 0.7143509288494491\n",
      "\n",
      "\n",
      "At random state 36,the training accuracy is:- 0.749201218541852\n",
      "At random state 36,the testing accuracy is:- 0.7622847627683853\n",
      "\n",
      "\n",
      "At random state 37,the training accuracy is:- 0.7358654009716386\n",
      "At random state 37,the testing accuracy is:- 0.8066173621547078\n",
      "\n",
      "\n",
      "At random state 38,the training accuracy is:- 0.7644889356098414\n",
      "At random state 38,the testing accuracy is:- 0.6820599241614067\n",
      "\n",
      "\n",
      "At random state 39,the training accuracy is:- 0.7542566409183118\n",
      "At random state 39,the testing accuracy is:- 0.7475064264598352\n",
      "\n",
      "\n",
      "At random state 40,the training accuracy is:- 0.7576508097501264\n",
      "At random state 40,the testing accuracy is:- 0.7329483873027138\n",
      "\n",
      "\n",
      "At random state 41,the training accuracy is:- 0.7538154620223178\n",
      "At random state 41,the testing accuracy is:- 0.7470075130770975\n",
      "\n",
      "\n",
      "At random state 42,the training accuracy is:- 0.7466293537134443\n",
      "At random state 42,the testing accuracy is:- 0.7783539090730871\n",
      "\n",
      "\n",
      "At random state 43,the training accuracy is:- 0.7566540831323297\n",
      "At random state 43,the testing accuracy is:- 0.734936806658741\n",
      "\n",
      "\n",
      "At random state 44,the training accuracy is:- 0.7565129946454944\n",
      "At random state 44,the testing accuracy is:- 0.7308152003157584\n",
      "\n",
      "\n",
      "At random state 45,the training accuracy is:- 0.746626190220359\n",
      "At random state 45,the testing accuracy is:- 0.7651197068305147\n",
      "\n",
      "\n",
      "At random state 46,the training accuracy is:- 0.7519291281466969\n",
      "At random state 46,the testing accuracy is:- 0.7572709976270745\n",
      "\n",
      "\n",
      "At random state 47,the training accuracy is:- 0.759930430789566\n",
      "At random state 47,the testing accuracy is:- 0.7249585816202342\n",
      "\n",
      "\n",
      "At random state 48,the training accuracy is:- 0.7471389738634959\n",
      "At random state 48,the testing accuracy is:- 0.7756256565586004\n",
      "\n",
      "\n",
      "At random state 49,the training accuracy is:- 0.755315192763697\n",
      "At random state 49,the testing accuracy is:- 0.7434617014390579\n",
      "\n",
      "\n",
      "At random state 50,the training accuracy is:- 0.7474267414667903\n",
      "At random state 50,the testing accuracy is:- 0.7729986051033432\n",
      "\n",
      "\n",
      "At random state 51,the training accuracy is:- 0.7574107728411144\n",
      "At random state 51,the testing accuracy is:- 0.7340676310373903\n",
      "\n",
      "\n",
      "At random state 52,the training accuracy is:- 0.7621442725360783\n",
      "At random state 52,the testing accuracy is:- 0.7118913334351131\n",
      "\n",
      "\n",
      "At random state 53,the training accuracy is:- 0.7560277992524266\n",
      "At random state 53,the testing accuracy is:- 0.7372471333816422\n",
      "\n",
      "\n",
      "At random state 54,the training accuracy is:- 0.7561414485407714\n",
      "At random state 54,the testing accuracy is:- 0.7343215921578081\n",
      "\n",
      "\n",
      "At random state 55,the training accuracy is:- 0.7643008659762919\n",
      "At random state 55,the testing accuracy is:- 0.7032686301328062\n",
      "\n",
      "\n",
      "At random state 56,the training accuracy is:- 0.7493544514518569\n",
      "At random state 56,the testing accuracy is:- 0.7681420807129793\n",
      "\n",
      "\n",
      "At random state 57,the training accuracy is:- 0.7419864531211459\n",
      "At random state 57,the testing accuracy is:- 0.7934117041481266\n",
      "\n",
      "\n",
      "At random state 58,the training accuracy is:- 0.7533225239059269\n",
      "At random state 58,the testing accuracy is:- 0.7507937327287069\n",
      "\n",
      "\n",
      "At random state 59,the training accuracy is:- 0.7518874477046397\n",
      "At random state 59,the testing accuracy is:- 0.755843591820982\n",
      "\n",
      "\n",
      "At random state 60,the training accuracy is:- 0.7384917451487811\n",
      "At random state 60,the testing accuracy is:- 0.8063347176378766\n",
      "\n",
      "\n",
      "At random state 61,the training accuracy is:- 0.7619565431539872\n",
      "At random state 61,the testing accuracy is:- 0.7144106303957087\n",
      "\n",
      "\n",
      "At random state 62,the training accuracy is:- 0.7475902565284986\n",
      "At random state 62,the testing accuracy is:- 0.7705746793570257\n",
      "\n",
      "\n",
      "At random state 63,the training accuracy is:- 0.7520804105953104\n",
      "At random state 63,the testing accuracy is:- 0.754891064191865\n",
      "\n",
      "\n",
      "At random state 64,the training accuracy is:- 0.749781131682693\n",
      "At random state 64,the testing accuracy is:- 0.7624187111932565\n",
      "\n",
      "\n",
      "At random state 65,the training accuracy is:- 0.7516922475766347\n",
      "At random state 65,the testing accuracy is:- 0.7575804291151479\n",
      "\n",
      "\n",
      "At random state 66,the training accuracy is:- 0.7568112475196944\n",
      "At random state 66,the testing accuracy is:- 0.736038868963944\n",
      "\n",
      "\n",
      "At random state 67,the training accuracy is:- 0.7659393022108337\n",
      "At random state 67,the testing accuracy is:- 0.7048237503236263\n",
      "\n",
      "\n",
      "At random state 68,the training accuracy is:- 0.7688683694928464\n",
      "At random state 68,the testing accuracy is:- 0.6854336105708958\n",
      "\n",
      "\n",
      "At random state 69,the training accuracy is:- 0.7389744400607852\n",
      "At random state 69,the testing accuracy is:- 0.8009526052816607\n",
      "\n",
      "\n",
      "At random state 70,the training accuracy is:- 0.7532177551357403\n",
      "At random state 70,the testing accuracy is:- 0.7502035032024043\n",
      "\n",
      "\n",
      "At random state 71,the training accuracy is:- 0.7495277289962154\n",
      "At random state 71,the testing accuracy is:- 0.7667668564100336\n",
      "\n",
      "\n",
      "At random state 72,the training accuracy is:- 0.7322433493305847\n",
      "At random state 72,the testing accuracy is:- 0.8256637902479007\n",
      "\n",
      "\n",
      "At random state 73,the training accuracy is:- 0.7497332193427375\n",
      "At random state 73,the testing accuracy is:- 0.765625938461337\n",
      "\n",
      "\n",
      "At random state 74,the training accuracy is:- 0.7486058775155127\n",
      "At random state 74,the testing accuracy is:- 0.7652748111238624\n",
      "\n",
      "\n",
      "At random state 75,the training accuracy is:- 0.7535750929673348\n",
      "At random state 75,the testing accuracy is:- 0.7462930050228809\n",
      "\n",
      "\n",
      "At random state 76,the training accuracy is:- 0.7562669397894553\n",
      "At random state 76,the testing accuracy is:- 0.7315298145191877\n",
      "\n",
      "\n",
      "At random state 77,the training accuracy is:- 0.767557983696364\n",
      "At random state 77,the testing accuracy is:- 0.6737209921337346\n",
      "\n",
      "\n",
      "At random state 78,the training accuracy is:- 0.7546087805057843\n",
      "At random state 78,the testing accuracy is:- 0.7446672249537859\n",
      "\n",
      "\n",
      "At random state 79,the training accuracy is:- 0.7657196734135205\n",
      "At random state 79,the testing accuracy is:- 0.6994562660374595\n",
      "\n",
      "\n",
      "At random state 80,the training accuracy is:- 0.754597926238983\n",
      "At random state 80,the testing accuracy is:- 0.743431279724488\n",
      "\n",
      "\n",
      "At random state 81,the training accuracy is:- 0.7358568915216308\n",
      "At random state 81,the testing accuracy is:- 0.8068241032849671\n",
      "\n",
      "\n",
      "At random state 82,the training accuracy is:- 0.7320128873681694\n",
      "At random state 82,the testing accuracy is:- 0.8136812306124634\n",
      "\n",
      "\n",
      "At random state 83,the training accuracy is:- 0.7533877202780043\n",
      "At random state 83,the testing accuracy is:- 0.7481077010658315\n",
      "\n",
      "\n",
      "At random state 84,the training accuracy is:- 0.7613930538658527\n",
      "At random state 84,the testing accuracy is:- 0.7187326335177306\n",
      "\n",
      "\n",
      "At random state 85,the training accuracy is:- 0.7470077866313856\n",
      "At random state 85,the testing accuracy is:- 0.7700983941742308\n",
      "\n",
      "\n",
      "At random state 86,the training accuracy is:- 0.7578989039336808\n",
      "At random state 86,the testing accuracy is:- 0.728895632239361\n",
      "\n",
      "\n",
      "At random state 87,the training accuracy is:- 0.7529927837228724\n",
      "At random state 87,the testing accuracy is:- 0.7530275497607269\n",
      "\n",
      "\n",
      "At random state 88,the training accuracy is:- 0.7473666165538313\n",
      "At random state 88,the testing accuracy is:- 0.7750801518522137\n",
      "\n",
      "\n",
      "At random state 89,the training accuracy is:- 0.7433436865688032\n",
      "At random state 89,the testing accuracy is:- 0.788162500602694\n",
      "\n",
      "\n",
      "At random state 90,the training accuracy is:- 0.7543825249924339\n",
      "At random state 90,the testing accuracy is:- 0.7430077526735541\n",
      "\n",
      "\n",
      "At random state 91,the training accuracy is:- 0.7670773366173868\n",
      "At random state 91,the testing accuracy is:- 0.6866812357084342\n",
      "\n",
      "\n",
      "At random state 92,the training accuracy is:- 0.758830857870892\n",
      "At random state 92,the testing accuracy is:- 0.726464314978662\n",
      "\n",
      "\n",
      "At random state 93,the training accuracy is:- 0.7446585524925364\n",
      "At random state 93,the testing accuracy is:- 0.782725917001321\n",
      "\n",
      "\n",
      "At random state 94,the training accuracy is:- 0.7511180602485585\n",
      "At random state 94,the testing accuracy is:- 0.7581105343257559\n",
      "\n",
      "\n",
      "At random state 95,the training accuracy is:- 0.7450034903671455\n",
      "At random state 95,the testing accuracy is:- 0.7800343966441206\n",
      "\n",
      "\n",
      "At random state 96,the training accuracy is:- 0.7456846910566881\n",
      "At random state 96,the testing accuracy is:- 0.7758220573463124\n",
      "\n",
      "\n",
      "At random state 97,the training accuracy is:- 0.7592441684360982\n",
      "At random state 97,the testing accuracy is:- 0.7222663966992873\n",
      "\n",
      "\n",
      "At random state 98,the training accuracy is:- 0.7564400613960389\n",
      "At random state 98,the testing accuracy is:- 0.7376262328828089\n",
      "\n",
      "\n",
      "At random state 99,the training accuracy is:- 0.7492477483679885\n",
      "At random state 99,the testing accuracy is:- 0.7650873199925309\n",
      "\n",
      "\n"
     ]
    }
   ],
   "source": [
    "for i in range(0,100):\n",
    "    features_train,features_test,target_train,target_test=train_test_split(features,target,test_size=0.2,random_state=i)\n",
    "    lr.fit(features_train,target_train)\n",
    "    pred_train=lr.predict(features_train)\n",
    "    pred_test=lr.predict(features_test)\n",
    "    print(f\"At random state {i},the training accuracy is:- {r2_score(target_train, pred_train)}\")\n",
    "    print(f\"At random state {i},the testing accuracy is:- {r2_score(target_test, pred_test)}\")\n",
    "    print(\"\\n\")"
   ]
  },
  {
   "cell_type": "code",
   "execution_count": 66,
   "id": "e86f3ab5",
   "metadata": {},
   "outputs": [],
   "source": [
    "features_train,features_test,target_train,target_test=train_test_split(features,target,test_size=0.2,random_state=15)"
   ]
  },
  {
   "cell_type": "code",
   "execution_count": 67,
   "id": "aa334147",
   "metadata": {},
   "outputs": [
    {
     "data": {
      "text/html": [
       "<style>#sk-container-id-1 {color: black;background-color: white;}#sk-container-id-1 pre{padding: 0;}#sk-container-id-1 div.sk-toggleable {background-color: white;}#sk-container-id-1 label.sk-toggleable__label {cursor: pointer;display: block;width: 100%;margin-bottom: 0;padding: 0.3em;box-sizing: border-box;text-align: center;}#sk-container-id-1 label.sk-toggleable__label-arrow:before {content: \"▸\";float: left;margin-right: 0.25em;color: #696969;}#sk-container-id-1 label.sk-toggleable__label-arrow:hover:before {color: black;}#sk-container-id-1 div.sk-estimator:hover label.sk-toggleable__label-arrow:before {color: black;}#sk-container-id-1 div.sk-toggleable__content {max-height: 0;max-width: 0;overflow: hidden;text-align: left;background-color: #f0f8ff;}#sk-container-id-1 div.sk-toggleable__content pre {margin: 0.2em;color: black;border-radius: 0.25em;background-color: #f0f8ff;}#sk-container-id-1 input.sk-toggleable__control:checked~div.sk-toggleable__content {max-height: 200px;max-width: 100%;overflow: auto;}#sk-container-id-1 input.sk-toggleable__control:checked~label.sk-toggleable__label-arrow:before {content: \"▾\";}#sk-container-id-1 div.sk-estimator input.sk-toggleable__control:checked~label.sk-toggleable__label {background-color: #d4ebff;}#sk-container-id-1 div.sk-label input.sk-toggleable__control:checked~label.sk-toggleable__label {background-color: #d4ebff;}#sk-container-id-1 input.sk-hidden--visually {border: 0;clip: rect(1px 1px 1px 1px);clip: rect(1px, 1px, 1px, 1px);height: 1px;margin: -1px;overflow: hidden;padding: 0;position: absolute;width: 1px;}#sk-container-id-1 div.sk-estimator {font-family: monospace;background-color: #f0f8ff;border: 1px dotted black;border-radius: 0.25em;box-sizing: border-box;margin-bottom: 0.5em;}#sk-container-id-1 div.sk-estimator:hover {background-color: #d4ebff;}#sk-container-id-1 div.sk-parallel-item::after {content: \"\";width: 100%;border-bottom: 1px solid gray;flex-grow: 1;}#sk-container-id-1 div.sk-label:hover label.sk-toggleable__label {background-color: #d4ebff;}#sk-container-id-1 div.sk-serial::before {content: \"\";position: absolute;border-left: 1px solid gray;box-sizing: border-box;top: 0;bottom: 0;left: 50%;z-index: 0;}#sk-container-id-1 div.sk-serial {display: flex;flex-direction: column;align-items: center;background-color: white;padding-right: 0.2em;padding-left: 0.2em;position: relative;}#sk-container-id-1 div.sk-item {position: relative;z-index: 1;}#sk-container-id-1 div.sk-parallel {display: flex;align-items: stretch;justify-content: center;background-color: white;position: relative;}#sk-container-id-1 div.sk-item::before, #sk-container-id-1 div.sk-parallel-item::before {content: \"\";position: absolute;border-left: 1px solid gray;box-sizing: border-box;top: 0;bottom: 0;left: 50%;z-index: -1;}#sk-container-id-1 div.sk-parallel-item {display: flex;flex-direction: column;z-index: 1;position: relative;background-color: white;}#sk-container-id-1 div.sk-parallel-item:first-child::after {align-self: flex-end;width: 50%;}#sk-container-id-1 div.sk-parallel-item:last-child::after {align-self: flex-start;width: 50%;}#sk-container-id-1 div.sk-parallel-item:only-child::after {width: 0;}#sk-container-id-1 div.sk-dashed-wrapped {border: 1px dashed gray;margin: 0 0.4em 0.5em 0.4em;box-sizing: border-box;padding-bottom: 0.4em;background-color: white;}#sk-container-id-1 div.sk-label label {font-family: monospace;font-weight: bold;display: inline-block;line-height: 1.2em;}#sk-container-id-1 div.sk-label-container {text-align: center;}#sk-container-id-1 div.sk-container {/* jupyter's `normalize.less` sets `[hidden] { display: none; }` but bootstrap.min.css set `[hidden] { display: none !important; }` so we also need the `!important` here to be able to override the default hidden behavior on the sphinx rendered scikit-learn.org. See: https://github.com/scikit-learn/scikit-learn/issues/21755 */display: inline-block !important;position: relative;}#sk-container-id-1 div.sk-text-repr-fallback {display: none;}</style><div id=\"sk-container-id-1\" class=\"sk-top-container\"><div class=\"sk-text-repr-fallback\"><pre>LinearRegression()</pre><b>In a Jupyter environment, please rerun this cell to show the HTML representation or trust the notebook. <br />On GitHub, the HTML representation is unable to render, please try loading this page with nbviewer.org.</b></div><div class=\"sk-container\" hidden><div class=\"sk-item\"><div class=\"sk-estimator sk-toggleable\"><input class=\"sk-toggleable__control sk-hidden--visually\" id=\"sk-estimator-id-1\" type=\"checkbox\" checked><label for=\"sk-estimator-id-1\" class=\"sk-toggleable__label sk-toggleable__label-arrow\">LinearRegression</label><div class=\"sk-toggleable__content\"><pre>LinearRegression()</pre></div></div></div></div></div>"
      ],
      "text/plain": [
       "LinearRegression()"
      ]
     },
     "execution_count": 67,
     "metadata": {},
     "output_type": "execute_result"
    }
   ],
   "source": [
    "# train the model\n",
    "lr.fit(features_train,target_train)"
   ]
  },
  {
   "cell_type": "code",
   "execution_count": 68,
   "id": "3f1aece6",
   "metadata": {},
   "outputs": [],
   "source": [
    "pred_test=lr.predict(features_test)"
   ]
  },
  {
   "cell_type": "code",
   "execution_count": 69,
   "id": "0c601ea1",
   "metadata": {},
   "outputs": [
    {
     "name": "stdout",
     "output_type": "stream",
     "text": [
      "0.7562378488050759\n"
     ]
    }
   ],
   "source": [
    "print(r2_score(target_test,pred_test))"
   ]
  },
  {
   "cell_type": "markdown",
   "id": "c4b9cb9d",
   "metadata": {},
   "source": [
    "Cross validation of the model:"
   ]
  },
  {
   "cell_type": "markdown",
   "id": "06fa95d0",
   "metadata": {},
   "source": [
    "Cross validation score is used to validate the performance of our model"
   ]
  },
  {
   "cell_type": "code",
   "execution_count": 70,
   "id": "52bcedbb",
   "metadata": {},
   "outputs": [
    {
     "name": "stdout",
     "output_type": "stream",
     "text": [
      "At cross fold 2 the cv score is 0.7507263874653844 and accuracy score for training is -0.7323252779639828 and accuracy for testing is 0.7562378488050759\n",
      "\n",
      "\n",
      "At cross fold 3 the cv score is 0.7482863513140566 and accuracy score for training is -0.7323252779639828 and accuracy for testing is 0.7562378488050759\n",
      "\n",
      "\n",
      "At cross fold 4 the cv score is 0.7464940705596477 and accuracy score for training is -0.7323252779639828 and accuracy for testing is 0.7562378488050759\n",
      "\n",
      "\n",
      "At cross fold 5 the cv score is 0.7507037701961409 and accuracy score for training is -0.7323252779639828 and accuracy for testing is 0.7562378488050759\n",
      "\n",
      "\n",
      "At cross fold 6 the cv score is 0.7479467120567999 and accuracy score for training is -0.7323252779639828 and accuracy for testing is 0.7562378488050759\n",
      "\n",
      "\n",
      "At cross fold 7 the cv score is 0.7476013200228121 and accuracy score for training is -0.7323252779639828 and accuracy for testing is 0.7562378488050759\n",
      "\n",
      "\n",
      "At cross fold 8 the cv score is 0.7450165785585103 and accuracy score for training is -0.7323252779639828 and accuracy for testing is 0.7562378488050759\n",
      "\n",
      "\n",
      "At cross fold 9 the cv score is 0.7459578432259708 and accuracy score for training is -0.7323252779639828 and accuracy for testing is 0.7562378488050759\n",
      "\n",
      "\n"
     ]
    }
   ],
   "source": [
    "Train_accuracy=r2_score(target_train,pred_train)   # R2 score tells how my model is fitted on my data\n",
    "Test_accuracy=r2_score(target_test,pred_test)\n",
    "\n",
    "from sklearn.model_selection import cross_val_score\n",
    "for k in range(2,10):\n",
    "    cv_score=cross_val_score(lr,features,target,cv=k)\n",
    "    cv_mean=cv_score.mean()\n",
    "    print(f\"At cross fold {k} the cv score is {cv_mean} and accuracy score for training is {Train_accuracy} and accuracy for testing is {Test_accuracy}\")\n",
    "    print(\"\\n\")"
   ]
  },
  {
   "cell_type": "markdown",
   "id": "115671ef",
   "metadata": {},
   "source": [
    "Since the number of folds dont have such impact on the accuracy and cv_score.So cv=5 is selected."
   ]
  },
  {
   "cell_type": "markdown",
   "id": "36c25669",
   "metadata": {},
   "source": [
    "Here we have handled the problem of the overfitting and the underfitting by cheking the training and testing score"
   ]
  },
  {
   "cell_type": "code",
   "execution_count": 71,
   "id": "1bc1b97d",
   "metadata": {},
   "outputs": [
    {
     "data": {
      "image/png": "[encoded data removed]",
      "text/plain": [
       "<Figure size 720x576 with 1 Axes>"
      ]
     },
     "metadata": {
      "needs_background": "light"
     },
     "output_type": "display_data"
    }
   ],
   "source": [
    "import matplotlib.pyplot as plt\n",
    "plt.figure(figsize=(10,8))\n",
    "plt.scatter(x=target_test, y=pred_test,color='r')\n",
    "plt.plot(target_test,target_test, color='b')\n",
    "plt.xlabel('Actual charges', fontsize=14)\n",
    "plt.ylabel('Predicted charges', fontsize=14)\n",
    "plt.title('LinearRegression', fontsize=20)\n",
    "plt.savefig('lr.png')\n",
    "plt.show()"
   ]
  },
  {
   "cell_type": "markdown",
   "id": "19fee4b7",
   "metadata": {},
   "source": [
    "Equation of best fit line is y=mx+c\n",
    "\n",
    "Best fit line is covering most of the datapoints which shows good fit of our model"
   ]
  },
  {
   "cell_type": "markdown",
   "id": "cef2d025",
   "metadata": {},
   "source": [
    "Regularization:"
   ]
  },
  {
   "cell_type": "code",
   "execution_count": 72,
   "id": "305b68a7",
   "metadata": {},
   "outputs": [],
   "source": [
    "from sklearn.model_selection import GridSearchCV\n",
    "from sklearn.model_selection import cross_val_score\n",
    "\n",
    "import warnings\n",
    "warnings.filterwarnings('ignore')"
   ]
  },
  {
   "cell_type": "code",
   "execution_count": 73,
   "id": "1c4b8890",
   "metadata": {},
   "outputs": [
    {
     "name": "stdout",
     "output_type": "stream",
     "text": [
      "{'alpha': 10, 'random_state': 0}\n"
     ]
    }
   ],
   "source": [
    "from sklearn.linear_model import Lasso\n",
    "\n",
    "parameters = {'alpha':[.0001,.001,.01,.1,1,10],\n",
    "              'random_state':list(range(0,10))}\n",
    "\n",
    "ls=Lasso()\n",
    "clf = GridSearchCV(ls,parameters)\n",
    "clf.fit(features_train,target_train)\n",
    "\n",
    "print(clf.best_params_)"
   ]
  },
  {
   "cell_type": "markdown",
   "id": "03c69d15",
   "metadata": {},
   "source": [
    "GridsearchCV is a algorithm to perform the hyperparameter tunning.So we are performing hyperparameter tunning to maximize \n",
    "the performance of my model it means GridSearchCrossValidation it is applied on the parameters but Cross Validation is \n",
    "applied on the data"
   ]
  },
  {
   "cell_type": "code",
   "execution_count": 74,
   "id": "96a4d3af",
   "metadata": {},
   "outputs": [],
   "source": [
    "# final model training"
   ]
  },
  {
   "cell_type": "code",
   "execution_count": 75,
   "id": "abb582a5",
   "metadata": {},
   "outputs": [
    {
     "data": {
      "text/plain": [
       "75.19640107018803"
      ]
     },
     "execution_count": 75,
     "metadata": {},
     "output_type": "execute_result"
    }
   ],
   "source": [
    "ls = Lasso(alpha=10,random_state=0)\n",
    "ls.fit(features_train,target_train)\n",
    "ls_score_training = ls.score(features_train,target_train)\n",
    "pred_ls = ls.predict(features_test)\n",
    "ls_score_training*100"
   ]
  },
  {
   "cell_type": "code",
   "execution_count": 76,
   "id": "267a7eef",
   "metadata": {},
   "outputs": [],
   "source": [
    "pred_ls = ls.predict(features_test)"
   ]
  },
  {
   "cell_type": "code",
   "execution_count": 77,
   "id": "234c9987",
   "metadata": {},
   "outputs": [
    {
     "data": {
      "text/plain": [
       "75.63736692645972"
      ]
     },
     "execution_count": 77,
     "metadata": {},
     "output_type": "execute_result"
    }
   ],
   "source": [
    "lss = r2_score(target_test,pred_ls)\n",
    "lss*100"
   ]
  },
  {
   "cell_type": "code",
   "execution_count": 78,
   "id": "3915db6f",
   "metadata": {},
   "outputs": [
    {
     "data": {
      "text/plain": [
       "75.07146748980122"
      ]
     },
     "execution_count": 78,
     "metadata": {},
     "output_type": "execute_result"
    }
   ],
   "source": [
    "cv_score=cross_val_score(ls,features,target,cv=5)\n",
    "cv_mean=cv_score.mean()\n",
    "cv_mean*100"
   ]
  },
  {
   "cell_type": "markdown",
   "id": "bff3c72f",
   "metadata": {},
   "source": [
    "Ensemble Technique:"
   ]
  },
  {
   "cell_type": "code",
   "execution_count": 79,
   "id": "b82ca0bf",
   "metadata": {},
   "outputs": [
    {
     "name": "stdout",
     "output_type": "stream",
     "text": [
      "{'criterion': 'mse', 'max_features': 'log2'}\n"
     ]
    }
   ],
   "source": [
    "from sklearn.model_selection import GridSearchCV\n",
    "from sklearn.ensemble import RandomForestRegressor\n",
    "\n",
    "parameters = {'criterion':['mse', 'mae'],\n",
    "              'max_features':[\"auto\",\"sqrt\",\"log2\"]}\n",
    "\n",
    "rf = RandomForestRegressor()\n",
    "clf = GridSearchCV(rf,parameters)\n",
    "clf.fit(features_train,target_train)\n",
    "\n",
    "print(clf.best_params_)"
   ]
  },
  {
   "cell_type": "code",
   "execution_count": 80,
   "id": "03acb5c6",
   "metadata": {},
   "outputs": [
    {
     "name": "stdout",
     "output_type": "stream",
     "text": [
      "R2 Score: 85.5803672313692\n"
     ]
    }
   ],
   "source": [
    "rf = RandomForestRegressor(criterion=\"mse\",max_features=\"log2\")\n",
    "rf.fit(features_train,target_train)\n",
    "rf.score = rf.score(features_train,target_train)\n",
    "pred_decision = rf.predict(features_test)\n",
    "\n",
    "rfs = r2_score(target_test,pred_decision)\n",
    "print('R2 Score:', rfs*100)\n"
   ]
  },
  {
   "cell_type": "code",
   "execution_count": 81,
   "id": "1bec506b",
   "metadata": {},
   "outputs": [
    {
     "name": "stdout",
     "output_type": "stream",
     "text": [
      "cross_val_Score: 83.98533128965106\n"
     ]
    }
   ],
   "source": [
    "rfscore=cross_val_score(rf,features,target,cv=5)\n",
    "rfc = rfscore.mean()\n",
    "print('cross_val_Score:', rfc*100)"
   ]
  },
  {
   "cell_type": "markdown",
   "id": "7f3395c5",
   "metadata": {},
   "source": [
    "We are getting model accuracy and cross validation Score which are approximately same which shows our model is performing well"
   ]
  },
  {
   "cell_type": "code",
   "execution_count": 82,
   "id": "f9222e2e",
   "metadata": {},
   "outputs": [],
   "source": [
    "import pickle\n",
    "filename = 'medical_cost_insurance Project 2.pk1'\n",
    "pickle.dump(lr,open(filename,'wb'))"
   ]
  },
  {
   "cell_type": "markdown",
   "id": "f80ceb34",
   "metadata": {},
   "source": [
    "# Conclusion"
   ]
  },
  {
   "cell_type": "code",
   "execution_count": 83,
   "id": "d6b78aee",
   "metadata": {},
   "outputs": [
    {
     "name": "stdout",
     "output_type": "stream",
     "text": [
      "75.6237848805076\n"
     ]
    }
   ],
   "source": [
    "import numpy as np\n",
    "loaded_model = pickle.load(open('medical_cost_insurance Project 2.pk1','rb'))\n",
    "result=loaded_model.score(features_test,target_test)\n",
    "print(result*100)"
   ]
  },
  {
   "cell_type": "code",
   "execution_count": 84,
   "id": "2d63d462",
   "metadata": {},
   "outputs": [],
   "source": [
    "conclusion=pd.DataFrame([loaded_model.predict(features_test)[:],pred_decision[:]],index=[\"predicted\",\"original\"])"
   ]
  },
  {
   "cell_type": "code",
   "execution_count": 85,
   "id": "8ada74a3",
   "metadata": {},
   "outputs": [
    {
     "data": {
      "text/html": [
       "<div>\n",
       "<style scoped>\n",
       "    .dataframe tbody tr th:only-of-type {\n",
       "        vertical-align: middle;\n",
       "    }\n",
       "\n",
       "    .dataframe tbody tr th {\n",
       "        vertical-align: top;\n",
       "    }\n",
       "\n",
       "    .dataframe thead th {\n",
       "        text-align: right;\n",
       "    }\n",
       "</style>\n",
       "<table border=\"1\" class=\"dataframe\">\n",
       "  <thead>\n",
       "    <tr style=\"text-align: right;\">\n",
       "      <th></th>\n",
       "      <th>0</th>\n",
       "      <th>1</th>\n",
       "      <th>2</th>\n",
       "      <th>3</th>\n",
       "      <th>4</th>\n",
       "      <th>5</th>\n",
       "      <th>6</th>\n",
       "      <th>7</th>\n",
       "      <th>8</th>\n",
       "      <th>9</th>\n",
       "      <th>...</th>\n",
       "      <th>252</th>\n",
       "      <th>253</th>\n",
       "      <th>254</th>\n",
       "      <th>255</th>\n",
       "      <th>256</th>\n",
       "      <th>257</th>\n",
       "      <th>258</th>\n",
       "      <th>259</th>\n",
       "      <th>260</th>\n",
       "      <th>261</th>\n",
       "    </tr>\n",
       "  </thead>\n",
       "  <tbody>\n",
       "    <tr>\n",
       "      <th>predicted</th>\n",
       "      <td>8561.150736</td>\n",
       "      <td>11950.198371</td>\n",
       "      <td>26517.818561</td>\n",
       "      <td>36065.749530</td>\n",
       "      <td>8412.935164</td>\n",
       "      <td>11816.388485</td>\n",
       "      <td>7209.509310</td>\n",
       "      <td>3595.567030</td>\n",
       "      <td>13596.486260</td>\n",
       "      <td>7723.109422</td>\n",
       "      <td>...</td>\n",
       "      <td>36366.865730</td>\n",
       "      <td>542.632084</td>\n",
       "      <td>10121.060201</td>\n",
       "      <td>2366.440110</td>\n",
       "      <td>12134.284785</td>\n",
       "      <td>791.545315</td>\n",
       "      <td>6517.401104</td>\n",
       "      <td>10211.677970</td>\n",
       "      <td>2406.690665</td>\n",
       "      <td>13481.232020</td>\n",
       "    </tr>\n",
       "    <tr>\n",
       "      <th>original</th>\n",
       "      <td>11249.953291</td>\n",
       "      <td>12979.755758</td>\n",
       "      <td>32826.301307</td>\n",
       "      <td>41492.679154</td>\n",
       "      <td>5862.397771</td>\n",
       "      <td>11386.855113</td>\n",
       "      <td>7548.500835</td>\n",
       "      <td>7482.657999</td>\n",
       "      <td>14934.227563</td>\n",
       "      <td>5098.120288</td>\n",
       "      <td>...</td>\n",
       "      <td>27950.912934</td>\n",
       "      <td>2242.290987</td>\n",
       "      <td>10127.774642</td>\n",
       "      <td>5677.935839</td>\n",
       "      <td>12099.200445</td>\n",
       "      <td>4433.728232</td>\n",
       "      <td>7134.467755</td>\n",
       "      <td>7682.637346</td>\n",
       "      <td>2226.138134</td>\n",
       "      <td>14630.252522</td>\n",
       "    </tr>\n",
       "  </tbody>\n",
       "</table>\n",
       "<p>2 rows × 262 columns</p>\n",
       "</div>"
      ],
      "text/plain": [
       "                    0             1             2             3    \\\n",
       "predicted   8561.150736  11950.198371  26517.818561  36065.749530   \n",
       "original   11249.953291  12979.755758  32826.301307  41492.679154   \n",
       "\n",
       "                   4             5            6            7             8    \\\n",
       "predicted  8412.935164  11816.388485  7209.509310  3595.567030  13596.486260   \n",
       "original   5862.397771  11386.855113  7548.500835  7482.657999  14934.227563   \n",
       "\n",
       "                   9    ...           252          253           254  \\\n",
       "predicted  7723.109422  ...  36366.865730   542.632084  10121.060201   \n",
       "original   5098.120288  ...  27950.912934  2242.290987  10127.774642   \n",
       "\n",
       "                   255           256          257          258           259  \\\n",
       "predicted  2366.440110  12134.284785   791.545315  6517.401104  10211.677970   \n",
       "original   5677.935839  12099.200445  4433.728232  7134.467755   7682.637346   \n",
       "\n",
       "                   260           261  \n",
       "predicted  2406.690665  13481.232020  \n",
       "original   2226.138134  14630.252522  \n",
       "\n",
       "[2 rows x 262 columns]"
      ]
     },
     "execution_count": 85,
     "metadata": {},
     "output_type": "execute_result"
    }
   ],
   "source": [
    "conclusion"
   ]
  },
  {
   "cell_type": "code",
   "execution_count": null,
   "id": "97980749",
   "metadata": {},
   "outputs": [],
   "source": []
  }
 ],
 "metadata": {
  "kernelspec": {
   "display_name": "Python 3 (ipykernel)",
   "language": "python",
   "name": "python3"
  },
  "language_info": {
   "codemirror_mode": {
    "name": "ipython",
    "version": 3
   },
   "file_extension": ".py",
   "mimetype": "text/x-python",
   "name": "python",
   "nbconvert_exporter": "python",
   "pygments_lexer": "ipython3",
   "version": "3.9.12"
  }
 },
 "nbformat": 4,
 "nbformat_minor": 5
}
